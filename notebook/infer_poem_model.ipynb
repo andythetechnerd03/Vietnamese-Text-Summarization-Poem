{
  "cells": [
    {
      "cell_type": "code",
      "execution_count": 1,
      "metadata": {
        "colab": {
          "base_uri": "https://localhost:8080/"
        },
        "id": "D4qNhZqlbbJM",
        "outputId": "04d5e7d7-9ee9-4d0f-d00d-2eafe4e8d80d"
      },
      "outputs": [
        {
          "output_type": "stream",
          "name": "stdout",
          "text": [
            "Sat Mar  9 11:06:55 2024       \n",
            "+---------------------------------------------------------------------------------------+\n",
            "| NVIDIA-SMI 535.104.05             Driver Version: 535.104.05   CUDA Version: 12.2     |\n",
            "|-----------------------------------------+----------------------+----------------------+\n",
            "| GPU  Name                 Persistence-M | Bus-Id        Disp.A | Volatile Uncorr. ECC |\n",
            "| Fan  Temp   Perf          Pwr:Usage/Cap |         Memory-Usage | GPU-Util  Compute M. |\n",
            "|                                         |                      |               MIG M. |\n",
            "|=========================================+======================+======================|\n",
            "|   0  NVIDIA A100-SXM4-40GB          Off | 00000000:00:04.0 Off |                    0 |\n",
            "| N/A   33C    P0              48W / 400W |      2MiB / 40960MiB |      0%      Default |\n",
            "|                                         |                      |             Disabled |\n",
            "+-----------------------------------------+----------------------+----------------------+\n",
            "                                                                                         \n",
            "+---------------------------------------------------------------------------------------+\n",
            "| Processes:                                                                            |\n",
            "|  GPU   GI   CI        PID   Type   Process name                            GPU Memory |\n",
            "|        ID   ID                                                             Usage      |\n",
            "|=======================================================================================|\n",
            "|  No running processes found                                                           |\n",
            "+---------------------------------------------------------------------------------------+\n"
          ]
        }
      ],
      "source": [
        "!nvidia-smi"
      ]
    },
    {
      "cell_type": "code",
      "execution_count": 2,
      "metadata": {
        "colab": {
          "base_uri": "https://localhost:8080/"
        },
        "id": "6CiIPo7sJT-L",
        "outputId": "2b304a75-6c07-43cb-d247-39d612e05055"
      },
      "outputs": [
        {
          "output_type": "stream",
          "name": "stdout",
          "text": [
            "Requirement already satisfied: transformers in /usr/local/lib/python3.10/dist-packages (4.38.2)\n",
            "Requirement already satisfied: filelock in /usr/local/lib/python3.10/dist-packages (from transformers) (3.13.1)\n",
            "Requirement already satisfied: huggingface-hub<1.0,>=0.19.3 in /usr/local/lib/python3.10/dist-packages (from transformers) (0.20.3)\n",
            "Requirement already satisfied: numpy>=1.17 in /usr/local/lib/python3.10/dist-packages (from transformers) (1.25.2)\n",
            "Requirement already satisfied: packaging>=20.0 in /usr/local/lib/python3.10/dist-packages (from transformers) (23.2)\n",
            "Requirement already satisfied: pyyaml>=5.1 in /usr/local/lib/python3.10/dist-packages (from transformers) (6.0.1)\n",
            "Requirement already satisfied: regex!=2019.12.17 in /usr/local/lib/python3.10/dist-packages (from transformers) (2023.12.25)\n",
            "Requirement already satisfied: requests in /usr/local/lib/python3.10/dist-packages (from transformers) (2.31.0)\n",
            "Requirement already satisfied: tokenizers<0.19,>=0.14 in /usr/local/lib/python3.10/dist-packages (from transformers) (0.15.2)\n",
            "Requirement already satisfied: safetensors>=0.4.1 in /usr/local/lib/python3.10/dist-packages (from transformers) (0.4.2)\n",
            "Requirement already satisfied: tqdm>=4.27 in /usr/local/lib/python3.10/dist-packages (from transformers) (4.66.2)\n",
            "Requirement already satisfied: fsspec>=2023.5.0 in /usr/local/lib/python3.10/dist-packages (from huggingface-hub<1.0,>=0.19.3->transformers) (2023.6.0)\n",
            "Requirement already satisfied: typing-extensions>=3.7.4.3 in /usr/local/lib/python3.10/dist-packages (from huggingface-hub<1.0,>=0.19.3->transformers) (4.10.0)\n",
            "Requirement already satisfied: charset-normalizer<4,>=2 in /usr/local/lib/python3.10/dist-packages (from requests->transformers) (3.3.2)\n",
            "Requirement already satisfied: idna<4,>=2.5 in /usr/local/lib/python3.10/dist-packages (from requests->transformers) (3.6)\n",
            "Requirement already satisfied: urllib3<3,>=1.21.1 in /usr/local/lib/python3.10/dist-packages (from requests->transformers) (2.0.7)\n",
            "Requirement already satisfied: certifi>=2017.4.17 in /usr/local/lib/python3.10/dist-packages (from requests->transformers) (2024.2.2)\n",
            "Collecting accelerate\n",
            "  Downloading accelerate-0.27.2-py3-none-any.whl (279 kB)\n",
            "\u001b[2K     \u001b[90m━━━━━━━━━━━━━━━━━━━━━━━━━━━━━━━━━━━━━━━━\u001b[0m \u001b[32m280.0/280.0 kB\u001b[0m \u001b[31m6.5 MB/s\u001b[0m eta \u001b[36m0:00:00\u001b[0m\n",
            "\u001b[?25hRequirement already satisfied: numpy>=1.17 in /usr/local/lib/python3.10/dist-packages (from accelerate) (1.25.2)\n",
            "Requirement already satisfied: packaging>=20.0 in /usr/local/lib/python3.10/dist-packages (from accelerate) (23.2)\n",
            "Requirement already satisfied: psutil in /usr/local/lib/python3.10/dist-packages (from accelerate) (5.9.5)\n",
            "Requirement already satisfied: pyyaml in /usr/local/lib/python3.10/dist-packages (from accelerate) (6.0.1)\n",
            "Requirement already satisfied: torch>=1.10.0 in /usr/local/lib/python3.10/dist-packages (from accelerate) (2.1.0+cu121)\n",
            "Requirement already satisfied: huggingface-hub in /usr/local/lib/python3.10/dist-packages (from accelerate) (0.20.3)\n",
            "Requirement already satisfied: safetensors>=0.3.1 in /usr/local/lib/python3.10/dist-packages (from accelerate) (0.4.2)\n",
            "Requirement already satisfied: filelock in /usr/local/lib/python3.10/dist-packages (from torch>=1.10.0->accelerate) (3.13.1)\n",
            "Requirement already satisfied: typing-extensions in /usr/local/lib/python3.10/dist-packages (from torch>=1.10.0->accelerate) (4.10.0)\n",
            "Requirement already satisfied: sympy in /usr/local/lib/python3.10/dist-packages (from torch>=1.10.0->accelerate) (1.12)\n",
            "Requirement already satisfied: networkx in /usr/local/lib/python3.10/dist-packages (from torch>=1.10.0->accelerate) (3.2.1)\n",
            "Requirement already satisfied: jinja2 in /usr/local/lib/python3.10/dist-packages (from torch>=1.10.0->accelerate) (3.1.3)\n",
            "Requirement already satisfied: fsspec in /usr/local/lib/python3.10/dist-packages (from torch>=1.10.0->accelerate) (2023.6.0)\n",
            "Requirement already satisfied: triton==2.1.0 in /usr/local/lib/python3.10/dist-packages (from torch>=1.10.0->accelerate) (2.1.0)\n",
            "Requirement already satisfied: requests in /usr/local/lib/python3.10/dist-packages (from huggingface-hub->accelerate) (2.31.0)\n",
            "Requirement already satisfied: tqdm>=4.42.1 in /usr/local/lib/python3.10/dist-packages (from huggingface-hub->accelerate) (4.66.2)\n",
            "Requirement already satisfied: MarkupSafe>=2.0 in /usr/local/lib/python3.10/dist-packages (from jinja2->torch>=1.10.0->accelerate) (2.1.5)\n",
            "Requirement already satisfied: charset-normalizer<4,>=2 in /usr/local/lib/python3.10/dist-packages (from requests->huggingface-hub->accelerate) (3.3.2)\n",
            "Requirement already satisfied: idna<4,>=2.5 in /usr/local/lib/python3.10/dist-packages (from requests->huggingface-hub->accelerate) (3.6)\n",
            "Requirement already satisfied: urllib3<3,>=1.21.1 in /usr/local/lib/python3.10/dist-packages (from requests->huggingface-hub->accelerate) (2.0.7)\n",
            "Requirement already satisfied: certifi>=2017.4.17 in /usr/local/lib/python3.10/dist-packages (from requests->huggingface-hub->accelerate) (2024.2.2)\n",
            "Requirement already satisfied: mpmath>=0.19 in /usr/local/lib/python3.10/dist-packages (from sympy->torch>=1.10.0->accelerate) (1.3.0)\n",
            "Installing collected packages: accelerate\n",
            "Successfully installed accelerate-0.27.2\n"
          ]
        }
      ],
      "source": [
        "!pip install transformers -U\n",
        "!pip install accelerate"
      ]
    },
    {
      "cell_type": "code",
      "execution_count": 3,
      "metadata": {
        "id": "Yj2LNBY3KRpO"
      },
      "outputs": [],
      "source": [
        "import locale\n",
        "locale.getpreferredencoding = lambda: \"UTF-8\""
      ]
    },
    {
      "cell_type": "code",
      "execution_count": 4,
      "metadata": {
        "colab": {
          "base_uri": "https://localhost:8080/"
        },
        "id": "4rbEgktsT0X6",
        "outputId": "9f728628-8211-48c8-f800-44af1014656a"
      },
      "outputs": [
        {
          "output_type": "stream",
          "name": "stdout",
          "text": [
            "\n",
            "    _|    _|  _|    _|    _|_|_|    _|_|_|  _|_|_|  _|      _|    _|_|_|      _|_|_|_|    _|_|      _|_|_|  _|_|_|_|\n",
            "    _|    _|  _|    _|  _|        _|          _|    _|_|    _|  _|            _|        _|    _|  _|        _|\n",
            "    _|_|_|_|  _|    _|  _|  _|_|  _|  _|_|    _|    _|  _|  _|  _|  _|_|      _|_|_|    _|_|_|_|  _|        _|_|_|\n",
            "    _|    _|  _|    _|  _|    _|  _|    _|    _|    _|    _|_|  _|    _|      _|        _|    _|  _|        _|\n",
            "    _|    _|    _|_|      _|_|_|    _|_|_|  _|_|_|  _|      _|    _|_|_|      _|        _|    _|    _|_|_|  _|_|_|_|\n",
            "\n",
            "    To login, `huggingface_hub` requires a token generated from https://huggingface.co/settings/tokens .\n",
            "Token: \n",
            "Add token as git credential? (Y/n) n\n",
            "Token is valid (permission: write).\n",
            "Your token has been saved to /root/.cache/huggingface/token\n",
            "Login successful\n"
          ]
        }
      ],
      "source": [
        "!huggingface-cli login"
      ]
    },
    {
      "cell_type": "code",
      "execution_count": 5,
      "metadata": {
        "id": "nd5iGisMKIpT"
      },
      "outputs": [],
      "source": [
        "# !pip install vllm"
      ]
    },
    {
      "cell_type": "code",
      "execution_count": 6,
      "metadata": {
        "id": "jqRVvlZ9He18"
      },
      "outputs": [],
      "source": [
        "from transformers import AutoModelForCausalLM, AutoTokenizer\n",
        "import torch\n",
        "import json\n",
        "from tqdm import tqdm\n",
        "import time\n",
        "# from vllm import VLLM, SamplingParams"
      ]
    },
    {
      "cell_type": "code",
      "execution_count": 23,
      "metadata": {
        "id": "u9t_ji-hH6nb"
      },
      "outputs": [],
      "source": [
        "def load_json(path):\n",
        "    with open(path, 'r', encoding=\"utf-8\") as f: return json.load(f)"
      ]
    },
    {
      "cell_type": "code",
      "execution_count": 17,
      "metadata": {
        "id": "zU0bgBetH0fk"
      },
      "outputs": [],
      "source": [
        "# model_name = \"pphuc25/poem-vistral\"\n",
        "model_name = \"Viet-Mistral/Vistral-7B-Chat\"\n",
        "\n",
        "system_prompt = \"Bạn là một nhà thơ chuyên nghiệp, nhiệm vụ của bạn là chuyển bài văn này thành 1 bài thơ 5 chữ từ khoảng 1 đến 3 khổ\"\n",
        "# human = \"Tấm nghe lời mẹ nên dẫn trâu đi thật xa. Ở nhà mẹ con Cám ra giếng gọi y như Tấm hay gọi mỗi ngày, cá nghe tiếng trồi lên miệng giếng, hai mẹ con Cám bắt bống đem làm thịt. Đến chiều chăn trâu về, Tấm đem cơm ra giếng kêu mà không thấy Bống lên, chỉ thấy nổi lên một cục máu đỏ. Thấy vậy Tấm ngồi khóc nức nở, Bụt hiện lên và hỏi:\""
      ]
    },
    {
      "cell_type": "code",
      "execution_count": 18,
      "metadata": {
        "id": "qx67QXE5L2bF",
        "colab": {
          "base_uri": "https://localhost:8080/",
          "height": 439,
          "referenced_widgets": [
            "a3ed0834f8a84e64b6abc7a8118857a2",
            "dc06c566218a41f2a5e283b44e2463f1",
            "c629b4c0e74d470bb64984449e6aff3b",
            "16187fc27047485186032cac008af9cc",
            "40c509502d774b90ad02c0735bb01510",
            "684d57281a7c471aa66364c321fc1817",
            "d7cd4bef030e46b59df9e84026f2f21d",
            "4c7ce27a6d324edaa22560bb47043c58",
            "0f397296f21f4e19ae2d921dbf5c3be7",
            "c9369c1d545242f3b4e34c9afd6a8ac0",
            "05a5d693f9b94f7db2a14a77404caa86",
            "c70bc75705e3403bbd6906f104222a5b",
            "bfb04ce6d14a4762b457799fe1ebcb04",
            "1da3da84766a4f3cafc9cdda32cd3d93",
            "f578beaea9b6471ca7156a9238ffeb4b",
            "b9420f0049af454fb92ca5878a766b8f",
            "a54a1cee3ddb41fb8e46d1df6c83072a",
            "a07f61a4f55b485a9e9eecd22136fd2f",
            "0a6867bbe60c4fedb25c4f07b81de67b",
            "1d655645dc2247adb33417a0a41cde16",
            "d9df7c05ac444568abdd46edcf4b9ed1",
            "c2e039e7442e4273a2360a7a1afcfef6",
            "42aad1e6691a43a69476ffd9e066ec3a",
            "c32ed150d6094f58b44781109f7c2ea3",
            "c0a5fadfa5414a3fbc883b8847c89755",
            "565a0114f916462a9bdbc9c3aee23e2e",
            "c81745fe57c5418cb34188ac1df63ece",
            "2cccab1db2c046f78eec5293a2193695",
            "03cc78fba0da4667a54d519d2d6a616a",
            "e3bf5e89adac4a3bbee8b85e4e7cb658",
            "21251702888f477fb95034230aa7aaf4",
            "7041d82e1e14422a9407d30bd2a43e5b",
            "a0fecf1507b2443181065ff9c7970711",
            "db8f6073f25c48f991f9900ae5ca9976",
            "33af673df0b14a19b1e84e0c4a434fb2",
            "bceaa5b557824cf181536394ed6f7ee7",
            "643dcad83434466d9af5f5feb112e5af",
            "98fecdbd32964f4392b88f84b1325b11",
            "4611629a930b4830a8276ad746f4705a",
            "09ad6cabc56e4930b4c11ec8be73b91a",
            "56f7dc4ef26246e7a145d5c8176526c9",
            "1e64af5ff77c46a28f976ef17f4e52d8",
            "14eca9ed361d4054910afc5c27f96afb",
            "6203b276a2fd49ea975a95f0070f883c",
            "92eac25c9ffd4b4b85f216011267906d",
            "4a89da41fd42472f8f79ca738d7da1a8",
            "d8634561ee50404589cafc30253e8d3b",
            "0e301b8b9f5242d89d800f70c3252fa6",
            "bb58f8674fa642b8af52b4c919c64add",
            "7d5b706740c6400295f9019cd4b14496",
            "eb31597bba294d98b02039d560b28395",
            "f5fb43dbf2ad4e128c62b0667b844178",
            "e1a2bbcfe84744eab8b11445c9728fe9",
            "72cbc21b22194c209a029fd6615ca5c8",
            "ce08e4ef59664f72bf6e581939fc30ab",
            "2bd8582c398f4acf8cdaa6de511db911",
            "239608eb4d484ac3b79ec226a27fcc94",
            "75f318d8f0764180a68e0cfe058603ba",
            "c482d642a6b740f48937ef7c07c91a1d",
            "53894cd223d040558dba7bdfa7bd7ac1",
            "d9ee4fbe7f9544f7a7a511228a8b3041",
            "1215a6035a254defadfc70184dc48f61",
            "9b5e62b911124aeca2fb69bd9142b74b",
            "1f160d1756694e0996960337d494be73",
            "e4d2e6402c3947e9a6dd0d6988c5d4ce",
            "6431bdf67be946e19b365cfc44402534",
            "e47318ebfafd420f9634ca09c116955c",
            "da9f6daae22b4faf97aafb17e8c2d8da",
            "0d25f9f554be46b39b32b88f91a47b75",
            "f6cff6335dfa4ede8793755395612d95",
            "c529657de7b3465a978cbb6966b9673b",
            "31765ba021a24948a9771004b8eef71a",
            "8d42da87c7e143afa396b65cb34b8226",
            "a4bafaec3d184089acb9b42727d6b7bd",
            "f617cf86f85d422da8f7376bfd234f32",
            "52d2e19deec34f5793ce66f4a53775bd",
            "c77321fbb2a74a0db2404c91eec918c7",
            "4807bb478245479d86272649c4facf7e",
            "e096f0d3bf63477995ec686986b898f6",
            "c1d62c2da99d4579b8224616e2eb2d7b",
            "dad7afcf8d444d45a707f89de766c10d",
            "4668d2cc337a440687799e93d2f54847",
            "3ce64cce895340c597bbe272f9885894",
            "7b9ecbcf438d44959edb17a189d935c7",
            "cfdfec22dbe24d7586fccf28d3a01ddd",
            "66c4476c6d4749f3bcb0d87d7622c76a",
            "7e03b89b5c024526b1bc0d90df56f6ee",
            "8e045ef9c2f54e029cd6d5cd4fc5fe96",
            "188a0a16bbec4f9fb0bd94c050d18e02",
            "09352d62cebf456ea3aa0cffdd264144",
            "33ecaeb55ab74e1e996a290b3923f2f4",
            "3c1533e4110548b288d893a2d3ea8b2a",
            "76111cd68edf410092ec542f32f07ae6",
            "1867e534a8ce4ce8bed52dcffcf8d61f",
            "0720b4ba72964b8b8949675d0e85b97a",
            "2fe847ddef6343a48f9c1dc9fc92a1de",
            "bef21ce6597a4cc99a5d9032317e34cc",
            "6d807e5948da483e917df2a16e3c48e9",
            "b280ef27eaf1471da69a116d903540f4",
            "499b7931e6a44582927461183b0d3c87",
            "f37a715806bc4ecca401d55cc0eedd55",
            "a1c90e0cf0fd4338b05fdb107d0f2e94",
            "4177ec0c2ad84a119e57addf38dd29c1",
            "0d67f35ea2074bfe85c84ff7d5d0e3fe",
            "422db58b19ab4fd68836cb6b971cec3f",
            "5dbf8e5a5fd24ec4a65a006504856b6a",
            "87e57b6f2a934cfbb176cbc73e1b70bd",
            "47090094ca3c40af8036a0f564bc1113",
            "0d19d7657430482dbb32898fd762e7b3",
            "f31d9fa44e5b419b9b566839ec5f425b",
            "01d23b3e1b5b4e56a2be9838ced5aa5d",
            "9ead8d214f2643379c3d48008403ae13",
            "0b11b8f7acaf4986b9ee3bc9d92094b5",
            "c985e796029046b4b2d3af07579eba83",
            "61272c80b50c49e0b4d938d4ae065d73",
            "45397704d6894f8dbf07f46dc337e9f2",
            "c80f26aa9cb743aba4657021e7fa8992",
            "677f739c15c540a09e2b788f94879e06",
            "53b6e442d8f34b9891da0190a7848d25",
            "bf41d1d373664f1a9e1f93d2c3b4b634",
            "8bf60fc6c9834543a620fd5135389094",
            "cda960e095f7445980f0c33c2e42c2d8",
            "5faaa415b32a4b3383a5b5aeae77356d",
            "01d2d7cc2b414026bb1ff57f709ec369",
            "2a0511b923dd45cb9b52c0beed1a3c54",
            "ae25687bfd0c4a47a75cf03e97cdff87",
            "b2279c954b0d4f20a0681cae033c0fda",
            "5e98c7b6737445ba9d71593cb95335bf",
            "f77a358091874e97b40579708f3935ce",
            "38bd3e9dedea4dbd9f4434dc6889acbb",
            "076d4939a47e4cf48a3a793823162e73",
            "e0ed007af76d4774821deeef3df03f75"
          ]
        },
        "outputId": "3120c4e2-dd7b-4ccc-8e49-5ce4572e5536"
      },
      "outputs": [
        {
          "output_type": "display_data",
          "data": {
            "text/plain": [
              "tokenizer_config.json:   0%|          | 0.00/2.52k [00:00<?, ?B/s]"
            ],
            "application/vnd.jupyter.widget-view+json": {
              "version_major": 2,
              "version_minor": 0,
              "model_id": "a3ed0834f8a84e64b6abc7a8118857a2"
            }
          },
          "metadata": {}
        },
        {
          "output_type": "display_data",
          "data": {
            "text/plain": [
              "tokenizer.model:   0%|          | 0.00/597k [00:00<?, ?B/s]"
            ],
            "application/vnd.jupyter.widget-view+json": {
              "version_major": 2,
              "version_minor": 0,
              "model_id": "c70bc75705e3403bbd6906f104222a5b"
            }
          },
          "metadata": {}
        },
        {
          "output_type": "display_data",
          "data": {
            "text/plain": [
              "tokenizer.json:   0%|          | 0.00/2.15M [00:00<?, ?B/s]"
            ],
            "application/vnd.jupyter.widget-view+json": {
              "version_major": 2,
              "version_minor": 0,
              "model_id": "42aad1e6691a43a69476ffd9e066ec3a"
            }
          },
          "metadata": {}
        },
        {
          "output_type": "display_data",
          "data": {
            "text/plain": [
              "added_tokens.json:   0%|          | 0.00/122 [00:00<?, ?B/s]"
            ],
            "application/vnd.jupyter.widget-view+json": {
              "version_major": 2,
              "version_minor": 0,
              "model_id": "db8f6073f25c48f991f9900ae5ca9976"
            }
          },
          "metadata": {}
        },
        {
          "output_type": "display_data",
          "data": {
            "text/plain": [
              "special_tokens_map.json:   0%|          | 0.00/169 [00:00<?, ?B/s]"
            ],
            "application/vnd.jupyter.widget-view+json": {
              "version_major": 2,
              "version_minor": 0,
              "model_id": "92eac25c9ffd4b4b85f216011267906d"
            }
          },
          "metadata": {}
        },
        {
          "output_type": "stream",
          "name": "stderr",
          "text": [
            "Special tokens have been added in the vocabulary, make sure the associated word embeddings are fine-tuned or trained.\n"
          ]
        },
        {
          "output_type": "display_data",
          "data": {
            "text/plain": [
              "config.json:   0%|          | 0.00/614 [00:00<?, ?B/s]"
            ],
            "application/vnd.jupyter.widget-view+json": {
              "version_major": 2,
              "version_minor": 0,
              "model_id": "2bd8582c398f4acf8cdaa6de511db911"
            }
          },
          "metadata": {}
        },
        {
          "output_type": "display_data",
          "data": {
            "text/plain": [
              "model.safetensors.index.json:   0%|          | 0.00/25.1k [00:00<?, ?B/s]"
            ],
            "application/vnd.jupyter.widget-view+json": {
              "version_major": 2,
              "version_minor": 0,
              "model_id": "e47318ebfafd420f9634ca09c116955c"
            }
          },
          "metadata": {}
        },
        {
          "output_type": "display_data",
          "data": {
            "text/plain": [
              "Downloading shards:   0%|          | 0/2 [00:00<?, ?it/s]"
            ],
            "application/vnd.jupyter.widget-view+json": {
              "version_major": 2,
              "version_minor": 0,
              "model_id": "4807bb478245479d86272649c4facf7e"
            }
          },
          "metadata": {}
        },
        {
          "output_type": "display_data",
          "data": {
            "text/plain": [
              "model-00001-of-00002.safetensors:   0%|          | 0.00/10.0G [00:00<?, ?B/s]"
            ],
            "application/vnd.jupyter.widget-view+json": {
              "version_major": 2,
              "version_minor": 0,
              "model_id": "188a0a16bbec4f9fb0bd94c050d18e02"
            }
          },
          "metadata": {}
        },
        {
          "output_type": "display_data",
          "data": {
            "text/plain": [
              "model-00002-of-00002.safetensors:   0%|          | 0.00/4.59G [00:00<?, ?B/s]"
            ],
            "application/vnd.jupyter.widget-view+json": {
              "version_major": 2,
              "version_minor": 0,
              "model_id": "499b7931e6a44582927461183b0d3c87"
            }
          },
          "metadata": {}
        },
        {
          "output_type": "display_data",
          "data": {
            "text/plain": [
              "Loading checkpoint shards:   0%|          | 0/2 [00:00<?, ?it/s]"
            ],
            "application/vnd.jupyter.widget-view+json": {
              "version_major": 2,
              "version_minor": 0,
              "model_id": "01d23b3e1b5b4e56a2be9838ced5aa5d"
            }
          },
          "metadata": {}
        },
        {
          "output_type": "display_data",
          "data": {
            "text/plain": [
              "generation_config.json:   0%|          | 0.00/133 [00:00<?, ?B/s]"
            ],
            "application/vnd.jupyter.widget-view+json": {
              "version_major": 2,
              "version_minor": 0,
              "model_id": "cda960e095f7445980f0c33c2e42c2d8"
            }
          },
          "metadata": {}
        }
      ],
      "source": [
        "tokenizer1 = AutoTokenizer.from_pretrained(model_name)\n",
        "model1 = AutoModelForCausalLM.from_pretrained(\n",
        "    model_name,\n",
        "    torch_dtype=torch.bfloat16, # change to torch.float16 if you're using V100\n",
        "    device_map=\"auto\",\n",
        "    use_cache=True,\n",
        ")"
      ]
    },
    {
      "cell_type": "code",
      "execution_count": 24,
      "metadata": {
        "id": "zcbvT6FxHlrD",
        "colab": {
          "base_uri": "https://localhost:8080/"
        },
        "outputId": "5102505d-f839-4c26-d4e3-70763ca739cc"
      },
      "outputs": [
        {
          "output_type": "stream",
          "name": "stderr",
          "text": [
            "\r  0%|          | 0/118 [00:00<?, ?it/s]The attention mask and the pad token id were not set. As a consequence, you may observe unexpected behavior. Please pass your input's `attention_mask` to obtain reliable results.\n",
            "Setting `pad_token_id` to `eos_token_id`:2 for open-end generation.\n",
            "  1%|          | 1/118 [00:05<11:28,  5.88s/it]The attention mask and the pad token id were not set. As a consequence, you may observe unexpected behavior. Please pass your input's `attention_mask` to obtain reliable results.\n",
            "Setting `pad_token_id` to `eos_token_id`:2 for open-end generation.\n"
          ]
        },
        {
          "output_type": "stream",
          "name": "stdout",
          "text": [
            "Assistant:  Ngày xửa ngày xưa,\n",
            "Một con gà mái với một cái mào đỏ.\n",
            "Cô ấy sẽ soi gương,\n",
            "Và hát một giai điệu vui vẻ,\n",
            "\"Cục ta cục tác! Mào tôi đã mọc!\"\n",
            "\n",
            "Mọi người đều ngưỡng mộ,\n",
            "Cái mào đỏ tươi của cô ấy,\n",
            "Họ nói, \"Gà Mơ thật đáng yêu.\"\n",
            "Với chiếc mũ đội đầu của cô ấy.\n",
            "\n",
            "Vậy nên, mỗi ngày,\n",
            "Cô ấy sẽ hát bài ca của mình,\n",
            "\"Cục ta cục tác! Mào tôi đã mọc!\"\n",
            "Và mọi người sẽ dừng lại để xem.\n"
          ]
        },
        {
          "output_type": "stream",
          "name": "stderr",
          "text": [
            "\r  2%|▏         | 2/118 [00:14<14:37,  7.56s/it]The attention mask and the pad token id were not set. As a consequence, you may observe unexpected behavior. Please pass your input's `attention_mask` to obtain reliable results.\n",
            "Setting `pad_token_id` to `eos_token_id`:2 for open-end generation.\n"
          ]
        },
        {
          "output_type": "stream",
          "name": "stdout",
          "text": [
            "Assistant:  Bên hồ nước, một cây mơ nhỏ\n",
            "Nghe tiếng khóc, nó dừng lại và nhìn quanh.\n",
            "Một cây màu đỏ tía, lá thon dài\n",
            "Đang khóc lóc, thật đáng thương biết bao!\n",
            "\n",
            "Mơ thấy bạn buồn, nên đã hỏi thăm\n",
            "\"Chuyện gì xảy ra với anh vậy?\"\n",
            "Cây trả lời, \"Các cây khác đều có hoa\n",
            "Nhưng tôi thì không, tôi cảm thấy rất đau đớn.\"\n",
            "\n",
            "Mơ nghĩ, \"Tôi phải giúp đỡ người bạn này!\"\n",
            "Và nói, \"Đừng lo, tôi sẽ tìm cách cho bạn.\"\n",
            "Với sự giúp đỡ của gió, họ bắt đầu cuộc hành trình\n",
            "Để tìm kiếm những bông hoa cho cây màu đỏ tía.\n",
            "\n",
            "Họ đi qua đồng cỏ và rừng rậm\n",
            "Tìm kiếm những bông hoa đẹp nhất, sáng nhất.\n",
            "Cuối cùng, họ tìm thấy một bông hoa xinh đẹp\n",
            "Có thể nở trên cây màu đỏ tía.\n",
            "\n",
            "Mơ đưa\n"
          ]
        },
        {
          "output_type": "stream",
          "name": "stderr",
          "text": [
            "\r  3%|▎         | 3/118 [00:23<15:33,  8.12s/it]The attention mask and the pad token id were not set. As a consequence, you may observe unexpected behavior. Please pass your input's `attention_mask` to obtain reliable results.\n",
            "Setting `pad_token_id` to `eos_token_id`:2 for open-end generation.\n"
          ]
        },
        {
          "output_type": "stream",
          "name": "stdout",
          "text": [
            "Assistant:  Một ngày nọ, một con gà mái mơ\n",
            "Có một cái mào màu đỏ, nó đã từng rất tự hào.\n",
            "Nhưng một ngày nọ, cô ấy gặp một cái cây\n",
            "Nó đang khóc vì một lý do nào đó.\n",
            "\n",
            "\"Tôi không thể chịu đựng được nữa,\" cô ấy nói với tôi.\n",
            "\"Tôi cần sự giúp đỡ của bạn.\"\n",
            "Vì vậy, tôi đã cố gắng hết sức để an ủi cô ấy.\n",
            "Nhưng dường như không có tác dụng gì cả.\n",
            "\n",
            "Sau đó, tôi nảy ra một ý tưởng tuyệt vời.\n",
            "\"Tôi sẽ tặng bạn chiếc mào đỏ của mình!\"\n",
            "Cô ấy vui mừng khôn xiết và cảm ơn tôi.\n",
            "Và sáng hôm sau, chiếc mào của tôi đã biến mất.\n",
            "\n",
            "Nhưng tôi biết rằng tôi đã làm đúng.\n",
            "Để giúp đỡ những người cần nó.\n",
            "Và tôi hy vọng rằng hành động tử tế nhỏ bé của tôi\n",
            "Sẽ truyền cảm hứng cho những người khác làm\n"
          ]
        },
        {
          "output_type": "stream",
          "name": "stderr",
          "text": [
            "\r  3%|▎         | 4/118 [00:29<14:08,  7.44s/it]The attention mask and the pad token id were not set. As a consequence, you may observe unexpected behavior. Please pass your input's `attention_mask` to obtain reliable results.\n",
            "Setting `pad_token_id` to `eos_token_id`:2 for open-end generation.\n"
          ]
        },
        {
          "output_type": "stream",
          "name": "stdout",
          "text": [
            "Assistant:  Hoa Sung Sướng vươn lên đón ánh bình minh,\n",
            "Mỗi ngày, nó lại trở nên rực rỡ hơn.\n",
            "Mặt Trời tô điểm cho nó màu đỏ tươi,\n",
            "Một câu chuyện về lòng tốt, nó đã nói.\n",
            "\n",
            "Gà mái mơ, với trái tim vàng,\n",
            "Lòng tốt của cô ấy, tất cả đều biết.\n",
            "Khi cô ấy đi ngang qua,\n",
            "Mọi thứ cúi chào và thì thầm, \"Chúc may mắn!\"\n",
            "\n",
            "Hoa Mào Gà, tên mới của nó,\n",
            "Kỷ niệm lòng tốt của Gà Mái Mơ.\n",
            "Một câu chuyện về tình yêu và sự tử tế,\n",
            "Để truyền cảm hứng cho tất cả chúng ta.\n"
          ]
        },
        {
          "output_type": "stream",
          "name": "stderr",
          "text": [
            "\r  4%|▍         | 5/118 [00:34<11:48,  6.27s/it]The attention mask and the pad token id were not set. As a consequence, you may observe unexpected behavior. Please pass your input's `attention_mask` to obtain reliable results.\n",
            "Setting `pad_token_id` to `eos_token_id`:2 for open-end generation.\n"
          ]
        },
        {
          "output_type": "stream",
          "name": "stdout",
          "text": [
            "Assistant:  Trên đầu Gà Mơ, một chiếc mào mới\n",
            "Một món quà cho cây hoa, một tình bạn thật sự\n",
            "Cùng nhau họ chia sẻ niềm vui và nỗi buồn\n",
            "Tình bạn chân thành, vượt qua mọi rào cản\n",
            "\n",
            "Thế giới động vật, nơi tình yêu ngự trị\n",
            "San sẻ và yêu thương, một mối liên kết thiêng liêng\n",
            "Gà Mơ và cây hoa, một câu chuyện để kể\n",
            "Tình bạn chân thành, mãi mãi trong tim.\n"
          ]
        },
        {
          "output_type": "stream",
          "name": "stderr",
          "text": [
            "\r  5%|▌         | 6/118 [00:41<12:47,  6.85s/it]The attention mask and the pad token id were not set. As a consequence, you may observe unexpected behavior. Please pass your input's `attention_mask` to obtain reliable results.\n",
            "Setting `pad_token_id` to `eos_token_id`:2 for open-end generation.\n"
          ]
        },
        {
          "output_type": "stream",
          "name": "stdout",
          "text": [
            "Assistant:  Một thời gian dài, hai người bạn thân thiết,\n",
            "Quắc và Nhân, họ đã từng biết.\n",
            "Cả hai đều nghèo, mồ côi,\n",
            "Học tập chăm chỉ, họ sẽ tìm thấy sự thật.\n",
            "\n",
            "Quắc thông minh hơn, dạy trẻ em,\n",
            "Bổng lộc ít ỏi, nhưng anh ta đã cố gắng.\n",
            "Giúp đỡ Nhân, anh ta đã làm điều đó,\n",
            "Tình bạn của họ rất bền vững, không thể phá vỡ.\n",
            "\n",
            "Một ngày nọ, Quắc bị bệnh nặng,\n",
            "Nhân thuốc men, cứu mạng anh ta.\n",
            "Sau đó, họ phải chia tay nhau,\n",
            "Cuộc sống riêng biệt, con đường khác nhau.\n",
            "\n",
            "Quắc tiếp tục dạy trẻ em,\n",
            "Trong khi Nhân lang thang khắp nơi.\n",
            "Nhưng tình bạn của họ vẫn còn,\n",
            "Một mối liên kết không thể phá vỡ.\n"
          ]
        },
        {
          "output_type": "stream",
          "name": "stderr",
          "text": [
            "\r  6%|▌         | 7/118 [00:50<13:44,  7.43s/it]The attention mask and the pad token id were not set. As a consequence, you may observe unexpected behavior. Please pass your input's `attention_mask` to obtain reliable results.\n",
            "Setting `pad_token_id` to `eos_token_id`:2 for open-end generation.\n"
          ]
        },
        {
          "output_type": "stream",
          "name": "stdout",
          "text": [
            "Assistant:  Một người đàn ông trung thực, làm việc chăm chỉ,\n",
            "Một thương gia đã nhìn thấy anh ta, và tin tưởng anh ta.\n",
            "Không lâu sau đó, anh ta kết hôn với con gái của thương gia,\n",
            "Và trở thành một người giàu có, với sự giàu có đáng kể.\n",
            "\n",
            "Nhưng anh ta không quên những người bạn cũ của mình,\n",
            "Quắc, người mà anh ta đã hứa sẽ ở bên cạnh.\n",
            "Nhân tìm kiếm Quắc, và cuối cùng cũng tìm thấy anh ta,\n",
            "Vẫn còn sống, mặc dù phải đối mặt với nghịch cảnh.\n",
            "\n",
            "Quắc đang dạy học, nhưng Nhân đã thuyết phục cha mẹ cậu bé,\n",
            "Để chuyển trường cho con trai họ, để Quắc có thể đoàn tụ với bạn bè của mình.\n",
            "Cùng nhau, họ chia sẻ cuộc sống của họ, giữ lời hứa của họ.\n",
            "Tình bạn của họ, mãi mãi mạnh mẽ, vượt qua thời gian\n"
          ]
        },
        {
          "output_type": "stream",
          "name": "stderr",
          "text": [
            "\r  7%|▋         | 8/118 [00:54<11:42,  6.38s/it]The attention mask and the pad token id were not set. As a consequence, you may observe unexpected behavior. Please pass your input's `attention_mask` to obtain reliable results.\n",
            "Setting `pad_token_id` to `eos_token_id`:2 for open-end generation.\n"
          ]
        },
        {
          "output_type": "stream",
          "name": "stdout",
          "text": [
            "Assistant:  Tính vợ Nhân xưa nay,\n",
            "Đối với kẻ rách rưới, khinh khi.\n",
            "Không cùng sống những ngày hàn vi,\n",
            "Tình nghĩa Nhân với Quắc, sao mà biết?\n",
            "Nhân luôn bảo vợ, \"Người thân nhất của tôi,\n",
            "Nếu không có bạn, chưa chắc tôi đã sống.\n",
            "Vợ Nhân, \"Khéo! Bạn với bè!\n",
            "Chỉ có ngồi ăn hại!\"\n",
            "Dần dần vợ Nhân bực mình ra mặt.\n"
          ]
        },
        {
          "output_type": "stream",
          "name": "stderr",
          "text": [
            "\r  8%|▊         | 9/118 [01:01<11:38,  6.40s/it]The attention mask and the pad token id were not set. As a consequence, you may observe unexpected behavior. Please pass your input's `attention_mask` to obtain reliable results.\n",
            "Setting `pad_token_id` to `eos_token_id`:2 for open-end generation.\n"
          ]
        },
        {
          "output_type": "stream",
          "name": "stdout",
          "text": [
            "Assistant:  Vợ tôi, cô ta thật khó chịu,\n",
            "Thái độ của cô ấy khiến tôi phải rùng mình.\n",
            "Tôi đã cố gắng để làm cho cô ấy vui vẻ,\n",
            "Nhưng cô ấy vẫn giữ thói quen xấu xa của mình.\n",
            "\n",
            "Quắc, anh ta hiểu mọi thứ,\n",
            "Hai lần anh ta bảo bạn mình hãy rời đi.\n",
            "Nhưng Nhân rất tốt bụng và chân thành,\n",
            "Vì vậy Quắc ở lại thêm một thời gian nữa.\n",
            "\n",
            "Hôm nay, Quắc đã quyết định ra đi,\n",
            "Anh ta nghe thấy những lời nói xúc phạm nặng nề.\n",
            "Nếu anh ta không hành động nhanh chóng,\n",
            "Anh ta biết rằng anh ta sẽ bị tổn thương bởi người phụ nữ này.\n"
          ]
        },
        {
          "output_type": "stream",
          "name": "stderr",
          "text": [
            "\r  8%|▊         | 10/118 [01:07<11:40,  6.49s/it]The attention mask and the pad token id were not set. As a consequence, you may observe unexpected behavior. Please pass your input's `attention_mask` to obtain reliable results.\n",
            "Setting `pad_token_id` to `eos_token_id`:2 for open-end generation.\n"
          ]
        },
        {
          "output_type": "stream",
          "name": "stdout",
          "text": [
            "Assistant:  Một buổi sáng sớm, trong sương mù dày đặc,\n",
            "Quắc lặng lẽ rời đi, không để lại dấu vết.\n",
            "Để tránh sự tìm kiếm, anh ta đã chọn một con đường,\n",
            "Và để lại những mảnh vải trên một cành cây.\n",
            "\n",
            "Anh ta đi xa, trở về với nghề cũ,\n",
            "Nhưng Nhân không thể tìm thấy bạn mình.\n",
            "Tin đồn về chiếc khăn bị bỏ rơi,\n",
            "Nhân vội vã đến nơi, trái tim nặng trĩu.\n",
            "\n",
            "Khi nhìn thấy những mảnh vải quen thuộc,\n",
            "Ông biết rằng bạn mình đã gặp phải số phận bi thảm.\n",
            "Hối tiếc và đau buồn, ông khóc,\n",
            "Vì đã gây ra nỗi đau cho người bạn thân nhất của mình.\n"
          ]
        },
        {
          "output_type": "stream",
          "name": "stderr",
          "text": [
            "\r  9%|▉         | 11/118 [01:16<12:32,  7.03s/it]The attention mask and the pad token id were not set. As a consequence, you may observe unexpected behavior. Please pass your input's `attention_mask` to obtain reliable results.\n",
            "Setting `pad_token_id` to `eos_token_id`:2 for open-end generation.\n"
          ]
        },
        {
          "output_type": "stream",
          "name": "stdout",
          "text": [
            "Assistant:  Trong rừng sâu, một cuộc hành trình đã bắt đầu.\n",
            "Một con hổ hay lạc lối, ai biết được?\n",
            "Nhưng dù sao đi nữa, anh ta sẽ đi về phía đó.\n",
            "Nhân tìm kiếm Quắc, với mỗi bước chân.\n",
            "Không có dấu vết của máu, hy vọng tăng lên.\n",
            "Qua những bụi cây và gai góc, anh ta tiến lên.\n",
            "\"Quắc ơi!\" Anh ta kêu lên, \"Quắc ơi!\"\n",
            "Tìm kiếm người bạn thân yêu của mình, không ngừng nghỉ.\n",
            "Khu rừng rộng lớn, nhưng anh ta không bao giờ bỏ cuộc.\n",
            "\"Quắc ơi!\" Anh ta kêu lên, cho đến hơi thở cuối cùng.\n",
            "Và rồi, khi cuộc đời kết thúc,\n",
            "Anh biến thành một con chim đỗ quyên,\n",
            "Hoặc đôi khi được gọi là chim cuốc,\n",
            "Để tiếp tục tìm kiếm, cho đến khi nó hoàn thành.\n"
          ]
        },
        {
          "output_type": "stream",
          "name": "stderr",
          "text": [
            "\r 10%|█         | 12/118 [01:24<13:17,  7.52s/it]The attention mask and the pad token id were not set. As a consequence, you may observe unexpected behavior. Please pass your input's `attention_mask` to obtain reliable results.\n",
            "Setting `pad_token_id` to `eos_token_id`:2 for open-end generation.\n"
          ]
        },
        {
          "output_type": "stream",
          "name": "stdout",
          "text": [
            "Assistant:  Trong một ngày nắng đẹp,\n",
            "Cô ấy rời khỏi nhà, trái tim cô ấy đang đập.\n",
            "Tìm kiếm người chồng yêu dấu của mình,\n",
            "Trong khu rừng phía nam, nơi họ thường xuyên chơi đùa.\n",
            "\n",
            "Cô ấy nghe thấy một âm thanh quen thuộc,\n",
            "\"Quắc! Quắc!\" như thể nó đã nói.\n",
            "Đó là giọng của chồng cô ấy, gọi bạn bè của mình.\n",
            "Cô ấy vui mừng, và hét lên, \"Có phải anh Nhân?\"\n",
            "\n",
            "Nhưng không có câu trả lời, chỉ có tiếng kêu của con chim.\n",
            "Đỗ quyên, một người bạn trung thành.\n",
            "Cô ấy theo tiếng chim, sâu hơn vào rừng.\n",
            "Cho đến khi cô ấy lạc lối, và trái tim cô ấy tan vỡ.\n",
            "\n",
            "Bên cạnh một cái cây, cô ấy gục ngã.\n",
            "Tình bạn của họ, một cảnh tượng đáng để xem.\n",
            "Một câu chuyện về sự tận tâm và tình yêu,\n"
          ]
        },
        {
          "output_type": "stream",
          "name": "stderr",
          "text": [
            "\r 11%|█         | 13/118 [01:33<13:47,  7.88s/it]The attention mask and the pad token id were not set. As a consequence, you may observe unexpected behavior. Please pass your input's `attention_mask` to obtain reliable results.\n",
            "Setting `pad_token_id` to `eos_token_id`:2 for open-end generation.\n"
          ]
        },
        {
          "output_type": "stream",
          "name": "stdout",
          "text": [
            "Assistant:  Trong một câu chuyện cổ tích,\n",
            "Ba người bạn, mỗi người một nơi.\n",
            "Tùng, Trúc và Mai,\n",
            "Từ ba vùng đất khác nhau, họ đã tìm thấy.\n",
            "\n",
            "Họ học dưới một mái nhà,\n",
            "Gia đình họ nghèo, nhưng họ không bao giờ than thở.\n",
            "Tình bạn của họ rất mạnh mẽ,\n",
            "Một mối liên kết vượt qua thời gian và không gian.\n",
            "\n",
            "Nhưng thời gian trôi qua,\n",
            "Những người coi thường tình bạn,\n",
            "Chỉ nghĩ về lợi ích của họ,\n",
            "Sớm hay muộn, họ sẽ phải đối mặt với hậu quả.\n",
            "\n",
            "Trong câu chuyện này, chúng ta thấy,\n",
            "Sự thiêng liêng của tình bạn, nó kéo dài.\n",
            "Và những ai bỏ qua nó,\n",
            "Sẽ phải trả giá cho hành động của mình.\n",
            "\n",
            "Vì vậy, hãy trân trọng tình bạn của chúng ta,\n",
            "Hãy nhớ rằng, nó luôn tồn tại.\n",
            "Đừng để lợi\n"
          ]
        },
        {
          "output_type": "stream",
          "name": "stderr",
          "text": [
            "\r 12%|█▏        | 14/118 [01:40<13:07,  7.57s/it]The attention mask and the pad token id were not set. As a consequence, you may observe unexpected behavior. Please pass your input's `attention_mask` to obtain reliable results.\n",
            "Setting `pad_token_id` to `eos_token_id`:2 for open-end generation.\n"
          ]
        },
        {
          "output_type": "stream",
          "name": "stdout",
          "text": [
            "Assistant:  Họ thề sẽ không bao giờ quên,\n",
            "Những ngày xưa khi họ đã từng.\n",
            "Cùng nhau họ đã vượt qua,\n",
            "Trong thời kỳ khó khăn, họ đã tìm thấy sự an ủi.\n",
            "\n",
            "Tùng là người đầu tiên đạt được thành công,\n",
            "Với trí tuệ và sự chăm chỉ, anh ấy đã tiến lên phía trước.\n",
            "Anh ta theo đuổi con đường học vấn,\n",
            "Để thoát khỏi đói nghèo, anh ta đã cố gắng hết sức mình.\n",
            "\n",
            "Ông tìm thấy một nơi trú ẩn dưới mái nhà của một ông Nghè,\n",
            "Để học hỏi và phát triển, anh ấy đã làm việc rất chăm chỉ.\n",
            "Và với sự giúp đỡ của ông Nghè,\n",
            "Tương lai của anh ấy dường như tươi sáng hơn.\n"
          ]
        },
        {
          "output_type": "stream",
          "name": "stderr",
          "text": [
            "\r 13%|█▎        | 15/118 [01:46<12:28,  7.27s/it]The attention mask and the pad token id were not set. As a consequence, you may observe unexpected behavior. Please pass your input's `attention_mask` to obtain reliable results.\n",
            "Setting `pad_token_id` to `eos_token_id`:2 for open-end generation.\n"
          ]
        },
        {
          "output_type": "stream",
          "name": "stdout",
          "text": [
            "Assistant:  Qua nhiều năm học tập chăm chỉ,\n",
            "Tùng đã vượt qua kỳ thi và trở thành một vị quan.\n",
            "Cuộc đời anh ấy cất cánh,\n",
            "Nhưng anh ta không bao giờ quên những người bạn cũ của mình.\n",
            "Vì vậy, anh ta rời khỏi công việc của mình và bắt đầu tìm kiếm.\n",
            "Trong bộ quần áo bình thường, anh ta đi tìm Trúc.\n",
            "Người bạn cũ của họ, giờ đây đang sống trong nghèo đói.\n",
            "Nhưng Tùng không bỏ rơi anh ta, anh ta đã giúp đỡ.\n",
            "Và với sự hỗ trợ của mình,\n",
            "Trúc cũng có thể đạt được ước mơ của mình.\n",
            "Hai người bạn lại đoàn tụ,\n",
            "Và tình bạn của họ tiếp tục phát triển mạnh mẽ.\n"
          ]
        },
        {
          "output_type": "stream",
          "name": "stderr",
          "text": [
            "\r 14%|█▎        | 16/118 [01:51<10:52,  6.39s/it]The attention mask and the pad token id were not set. As a consequence, you may observe unexpected behavior. Please pass your input's `attention_mask` to obtain reliable results.\n",
            "Setting `pad_token_id` to `eos_token_id`:2 for open-end generation.\n"
          ]
        },
        {
          "output_type": "stream",
          "name": "stdout",
          "text": [
            "Assistant:  Hắn xoay xở và chăm chỉ,\n",
            "Chỉ mười năm thôi, hắn đã giàu.\n",
            "Ruộng sâu, trâu nái, vườn cau, ao cá,\n",
            "Cuộc sống tốt đẹp, gia đình hạnh phúc.\n",
            "Nhưng Trúc tính khí biển lận,\n",
            "Không muốn mất một xu, dù chỉ một xu.\n",
            "Quên đi những lời hứa hẹn với bạn bè,\n",
            "\"Tìm kiếm họ sẽ vô ích.\"\n",
            "Những người bạn cũ, họ cũng chẳng nhớ gì đâu.\n"
          ]
        },
        {
          "output_type": "stream",
          "name": "stderr",
          "text": [
            "\r 14%|█▍        | 17/118 [01:58<10:57,  6.51s/it]The attention mask and the pad token id were not set. As a consequence, you may observe unexpected behavior. Please pass your input's `attention_mask` to obtain reliable results.\n",
            "Setting `pad_token_id` to `eos_token_id`:2 for open-end generation.\n"
          ]
        },
        {
          "output_type": "stream",
          "name": "stdout",
          "text": [
            "Assistant:  Gặp lại Trúc, thấy Trúc giàu sang,\n",
            "Tùng không vội khoe khoang về sự thành công của mình.\n",
            "Anh ta chỉ nói rằng anh ta đã đến thăm,\n",
            "Để xem liệu tình bạn cũ có còn tồn tại hay không.\n",
            "\n",
            "Trúc nhìn thấy sự nghèo khó của Tùng,\n",
            "Và đoán rằng anh ta đang tìm kiếm sự giúp đỡ.\n",
            "Vì vậy, ông giả vờ khó khăn và đau khổ,\n",
            "Để ngăn chặn bất kỳ yêu cầu nào cho vay tiền.\n",
            "\n",
            "Nhưng Tùng vẫn kiên định trong tình bạn của họ,\n",
            "Và không để những khó khăn tài chính của mình cản trở.\n",
            "Họ dành thời gian bên nhau, chia sẻ câu chuyện,\n",
            "Và củng cố mối liên kết giữa họ.\n"
          ]
        },
        {
          "output_type": "stream",
          "name": "stderr",
          "text": [
            "\r 15%|█▌        | 18/118 [02:03<10:26,  6.27s/it]The attention mask and the pad token id were not set. As a consequence, you may observe unexpected behavior. Please pass your input's `attention_mask` to obtain reliable results.\n",
            "Setting `pad_token_id` to `eos_token_id`:2 for open-end generation.\n"
          ]
        },
        {
          "output_type": "stream",
          "name": "stdout",
          "text": [
            "Assistant:  Trúc nói rất nhiều, cố gắng để khoá miệng Tùng.\n",
            "Nếu anh ta có ý định vay tiền, cô ấy sẽ không bao giờ cho phép.\n",
            "Để chứng minh rằng cô ấy nghèo, cô ấy đối xử với bạn bè như những người khác.\n",
            "Vào buổi sáng, một người hầu đến gần Trúc,\n",
            "\"Xin hãy làm một mẻ lưới trong ao, tìm vài con cá mè ngon để đãi khách.\"\n",
            "Nhưng Trúc đã ngăn cản anh ta, \"Giờ Dần không nên xuống ao!\"\n",
            "Cô ấy sợ rằng anh ta sẽ làm cô ấy phá sản.\n",
            "Người hầu hiểu và rời đi mà không nói gì thêm.\n"
          ]
        },
        {
          "output_type": "stream",
          "name": "stderr",
          "text": [
            "\r 16%|█▌        | 19/118 [02:12<11:29,  6.96s/it]The attention mask and the pad token id were not set. As a consequence, you may observe unexpected behavior. Please pass your input's `attention_mask` to obtain reliable results.\n",
            "Setting `pad_token_id` to `eos_token_id`:2 for open-end generation.\n"
          ]
        },
        {
          "output_type": "stream",
          "name": "stdout",
          "text": [
            "Assistant:  Trong lòng nặng trĩu, tôi đi tìm kiếm sự giúp đỡ,\n",
            "Đến nhà Trúc, bạn thân nhất của tôi.\n",
            "Anh ta có vẻ rất vui mừng khi thấy tôi,\n",
            "\"Tùng, cậu khỏe không? Tôi rất nhớ cậu!\"\n",
            "\n",
            "Tôi kể cho anh ấy nghe về cuộc đấu tranh của tôi,\n",
            "Và cách tôi đang cố gắng để tồn tại.\n",
            "Trúc lắng nghe với sự đồng cảm sâu sắc,\n",
            "Và đề nghị giúp đỡ trong mọi cách có thể.\n",
            "\n",
            "Nhưng khi chúng tôi chuẩn bị bữa tối,\n",
            "Trúc nhận ra rằng đó là giờ Dậu.\n",
            "\"Không nên giết gà vào giờ này,\" cô nói,\n",
            "\"Đó là một điều cấm kỵ, và nó sẽ mang lại xui xẻo.\"\n",
            "\n",
            "Tôi hiểu ý tốt của cô ấy, nhưng tôi cần thức ăn,\n",
            "Vì vậy tôi quyết định mạo hiểm và giết con gà.\n",
            "Khi chúng tôi ngồi xuống ăn,\n",
            "Tôi không thể không nghĩ về\n"
          ]
        },
        {
          "output_type": "stream",
          "name": "stderr",
          "text": [
            "\r 17%|█▋        | 20/118 [02:21<12:13,  7.48s/it]The attention mask and the pad token id were not set. As a consequence, you may observe unexpected behavior. Please pass your input's `attention_mask` to obtain reliable results.\n",
            "Setting `pad_token_id` to `eos_token_id`:2 for open-end generation.\n"
          ]
        },
        {
          "output_type": "stream",
          "name": "stdout",
          "text": [
            "Assistant:  Trong căn lều nhỏ, họ sống cuộc đời khiêm tốn,\n",
            "Hai vợ chồng, tình yêu của họ thật ngọt ngào và chân thành.\n",
            "Mai chào đón Tùng với nụ cười rạng rỡ,\n",
            "Giới thiệu bạn bè, cô ấy nói, \"Đây là người bạn cũ của tôi.\"\n",
            "\n",
            "Tùng nhìn thấy sự tôn trọng và ngưỡng mộ trong mắt Mai,\n",
            "Khi cô ấy kể lại những câu chuyện thời trẻ của mình.\n",
            "Họ đã từng là bạn học, chia sẻ những giấc mơ và nỗi sợ hãi,\n",
            "Một mối liên kết mạnh mẽ, vượt qua thời gian.\n",
            "\n",
            "Vợ của Mai, một người phụ nữ tốt bụng và chăm chỉ,\n",
            "Đã rời khỏi nhà để mua thức ăn cho khách.\n",
            "Cô ấy biết tầm quan trọng của việc thể hiện lòng hiếu khách,\n",
            "Và muốn đảm bảo rằng Tùng sẽ được đối xử tử tế.\n",
            "\n",
            "Trong ngôi nhà đơn giản của họ, họ tìm thấy hạnh phúc,\n"
          ]
        },
        {
          "output_type": "stream",
          "name": "stderr",
          "text": [
            "\r 18%|█▊        | 21/118 [02:27<11:24,  7.06s/it]The attention mask and the pad token id were not set. As a consequence, you may observe unexpected behavior. Please pass your input's `attention_mask` to obtain reliable results.\n",
            "Setting `pad_token_id` to `eos_token_id`:2 for open-end generation.\n"
          ]
        },
        {
          "output_type": "stream",
          "name": "stdout",
          "text": [
            "Assistant:  Một ngày nọ, Tùng nhìn thấy\n",
            "Mai và vợ anh ta đang nói chuyện\n",
            "Trong phòng ngủ, một cảnh tượng kỳ lạ\n",
            "Tóc xanh của vợ Mai đã biến mất.\n",
            "\n",
            "\"Tại sao?\" Tùng hỏi, với sự tò mò\n",
            "Vợ Mai giải thích câu chuyện của cô ấy\n",
            "Không có tiền, cô ấy phải bán tóc\n",
            "Để trả nợ, cô ấy đã làm việc chăm chỉ.\n",
            "\n",
            "Tùng cảm thấy buồn cho vợ Mai\n",
            "Nhưng cũng biết ơn vì sự trung thực của cô ấy\n",
            "Một bài học về cuộc sống, tình yêu và sự hy sinh\n",
            "Và tầm quan trọng của việc đối xử tử tế.\n"
          ]
        },
        {
          "output_type": "stream",
          "name": "stderr",
          "text": [
            "\r 19%|█▊        | 22/118 [02:35<12:04,  7.54s/it]The attention mask and the pad token id were not set. As a consequence, you may observe unexpected behavior. Please pass your input's `attention_mask` to obtain reliable results.\n",
            "Setting `pad_token_id` to `eos_token_id`:2 for open-end generation.\n"
          ]
        },
        {
          "output_type": "stream",
          "name": "stdout",
          "text": [
            "Assistant:  Một đời một kiếp, bạn mới đến chơi nhà,\n",
            "Tình thân thiết, không thể để trôi qua.\n",
            "Tóc cắt đi, sẽ mọc lại thôi mà,\n",
            "Đừng sợ hãi, hãy để trái tim mình bay cao.\n",
            "\n",
            "Tùng xúc động sâu sắc, chia sẻ câu chuyện của anh ta,\n",
            "Về việc đỗ đạt và tìm kiếm những người bạn cũ.\n",
            "Trúc đã đối xử tệ bạc với anh ta như thế nào,\n",
            "Mai lắng nghe, cảm thông với nỗi đau của anh ta.\n",
            "\n",
            "Tùng tặng vợ Mai một hộp trầu bằng vàng,\n",
            "Một cử chỉ đẹp đẽ, một món quà quý giá.\n",
            "Sau đó, ông gửi tiền cho cô ấy,\n",
            "Để học nghề thuộc da ở Nam Định.\n",
            "\n",
            "Tình bạn của họ ngày càng bền chặt hơn,\n",
            "Một mối liên kết vượt qua thời gian và không gian.\n",
            "Cùng nhau, họ sẽ đối mặt với bất kỳ thách thức nào,\n",
            "Trong\n"
          ]
        },
        {
          "output_type": "stream",
          "name": "stderr",
          "text": [
            "\r 19%|█▉        | 23/118 [02:42<11:47,  7.45s/it]The attention mask and the pad token id were not set. As a consequence, you may observe unexpected behavior. Please pass your input's `attention_mask` to obtain reliable results.\n",
            "Setting `pad_token_id` to `eos_token_id`:2 for open-end generation.\n"
          ]
        },
        {
          "output_type": "stream",
          "name": "stdout",
          "text": [
            "Assistant:  Công việc kinh doanh của họ ngày càng lớn mạnh,\n",
            "Mai chia sẻ nghề thủ công với dân làng.\n",
            "Thuộc da trở thành một ngành công nghiệp thịnh vượng,\n",
            "Một sự giàu có chưa từng thấy trong khu vực.\n",
            "\n",
            "Trúc chỉ biết về Tùng khi anh ấy đã lên cao,\n",
            "Và cảm thấy hối tiếc vì đã không giúp đỡ.\n",
            "Nhưng rồi ông nghe nói rằng Mai đã làm rất tốt,\n",
            "Nhờ vào sự giúp đỡ của Tùng, cô ấy đã tiến bộ.\n",
            "\n",
            "\"Nếu tôi đối xử tử tế hơn với bạn bè của mình,\"\n",
            "Anh nghĩ, \"Tôi chắc chắn họ sẽ giúp tôi.\"\n",
            "Nhưng bây giờ, nó quá muộn để thay đổi mọi thứ,\n",
            "Cuộc sống là một trò chơi của những điều có thể và không thể.\n"
          ]
        },
        {
          "output_type": "stream",
          "name": "stderr",
          "text": [
            "\r 20%|██        | 24/118 [02:47<10:21,  6.61s/it]The attention mask and the pad token id were not set. As a consequence, you may observe unexpected behavior. Please pass your input's `attention_mask` to obtain reliable results.\n",
            "Setting `pad_token_id` to `eos_token_id`:2 for open-end generation.\n"
          ]
        },
        {
          "output_type": "stream",
          "name": "stdout",
          "text": [
            "Assistant:  Đến nhà ai, anh ta cũng bị bỏ rơi.\n",
            "Trái tim anh ta nặng trĩu, anh ta phải quay về.\n",
            "Câu chuyện kể về những người chỉ biết đến tiền bạc.\n",
            "Tình bạn cũ, họ đã quên mất.\n",
            "Nhưng có một người, tên bà ấy là Mai.\n",
            "Bà ấy hiểu giá trị của tình bạn.\n",
            "Một khi nó mất đi, sẽ không bao giờ lấy lại được.\n",
            "Những thứ khác có thể tìm thấy, nhưng tình bạn thì không.\n"
          ]
        },
        {
          "output_type": "stream",
          "name": "stderr",
          "text": [
            "\r 21%|██        | 25/118 [02:56<11:14,  7.25s/it]The attention mask and the pad token id were not set. As a consequence, you may observe unexpected behavior. Please pass your input's `attention_mask` to obtain reliable results.\n",
            "Setting `pad_token_id` to `eos_token_id`:2 for open-end generation.\n"
          ]
        },
        {
          "output_type": "stream",
          "name": "stdout",
          "text": [
            "Assistant:  Ngày xửa ngày xưa, dưới bầu trời xanh thẳm,\n",
            "Mặt trăng và mặt trời, và gà trống, họ đã từng chơi đùa.\n",
            "Mặt trăng trong bộ đồ trắng,\n",
            "Và gà trống đội mũ đỏ, thật tuyệt vời.\n",
            "Mặt trăng yêu chiếc mũ đỏ của gà trống,\n",
            "Nhưng gà trống không muốn đổi áo.\n",
            "\"Tôi không thích cái áo trắng của anh,\" nó nói, \"\n",
            "Tôi sẽ không đổi mũ lấy áo.\"\n",
            "Mặt trăng cứ nài nỉ mãi,\n",
            "Để đổi mũ lấy áo, nhưng gà trống vẫn kiên quyết.\n",
            "Cuối cùng, mặt trăng giật lấy chiếc mũ của gà trống,\n",
            "Và ném nó xuống đất, thật đáng buồn.\n",
            "Gà trống rất buồn vì mất đi chiếc mũ,\n",
            "Nhưng cuối cùng, nó học được cách chấp nhận.\n",
            "Và từ đó trở đi, chúng sống hòa thuận,\n",
            "Dưới bầu trời rộng lớn, nơi mà tất cả đều thuộc về.\n"
          ]
        },
        {
          "output_type": "stream",
          "name": "stderr",
          "text": [
            "\r 22%|██▏       | 26/118 [03:01<10:12,  6.66s/it]The attention mask and the pad token id were not set. As a consequence, you may observe unexpected behavior. Please pass your input's `attention_mask` to obtain reliable results.\n",
            "Setting `pad_token_id` to `eos_token_id`:2 for open-end generation.\n"
          ]
        },
        {
          "output_type": "stream",
          "name": "stdout",
          "text": [
            "Assistant:  Nhưng mặt đất tối đen,\n",
            "Gà trống mất mũ.\n",
            "Nhớ lại Mặt Trời,\n",
            "Cô ấy đã kêu lên.\n",
            "\n",
            "Mặt Trời nhanh chóng xuất hiện,\n",
            "Những đám mây tan biến.\n",
            "Ánh nắng ấm áp,\n",
            "Chiếc mũ được tìm thấy.\n",
            "\n",
            "Trên cành cây cao,\n",
            "Nó lấp lánh màu đỏ.\n",
            "Gà trống vui mừng,\n",
            "Lấy nó và đội lên.\n",
            "\n",
            "Nhưng cô ấy quá mệt mỏi,\n",
            "Để bay trở lại.\n",
            "Vì vậy, cô ấy ngồi đó,\n",
            "Trong ánh nắng vàng.\n"
          ]
        },
        {
          "output_type": "stream",
          "name": "stderr",
          "text": [
            "\r 23%|██▎       | 27/118 [03:06<09:08,  6.03s/it]The attention mask and the pad token id were not set. As a consequence, you may observe unexpected behavior. Please pass your input's `attention_mask` to obtain reliable results.\n",
            "Setting `pad_token_id` to `eos_token_id`:2 for open-end generation.\n"
          ]
        },
        {
          "output_type": "stream",
          "name": "stdout",
          "text": [
            "Assistant:  Mặt Trời nói với Gà Trống, \"Hãy ở yên dưới đất.\"\n",
            "\"Vào buổi sáng, bạn có thể gọi 'Ò ó o!'\n",
            "Tôi sẽ thức dậy và trò chuyện với bạn.\n",
            "Từ đó trở đi, Gà Trống đã làm như vậy.\n",
            "\n",
            "Gà Trống luôn thức dậy sớm,\n",
            "Và nó kêu lên, \"Ò ó o!\"\n",
            "Mặt Trời mỉm cười, mặt tròn trịa,\n",
            "Khi hoa nở rộ và cây cối reo hò.\n"
          ]
        },
        {
          "output_type": "stream",
          "name": "stderr",
          "text": [
            "\r 24%|██▎       | 28/118 [03:12<09:08,  6.10s/it]The attention mask and the pad token id were not set. As a consequence, you may observe unexpected behavior. Please pass your input's `attention_mask` to obtain reliable results.\n",
            "Setting `pad_token_id` to `eos_token_id`:2 for open-end generation.\n"
          ]
        },
        {
          "output_type": "stream",
          "name": "stdout",
          "text": [
            "Assistant:  Mặt trăng cảm thấy tội lỗi,\n",
            "Vì cách cô ấy đối xử với con gà trống.\n",
            "Cô ấy chờ đợi cho đến khi mặt trời lặn,\n",
            "Để xin lỗi và làm mọi thứ đúng đắn.\n",
            "\n",
            "Khi mặt trời lặn xuống dưới chân trời,\n",
            "Mặt trăng xuất hiện, ánh sáng dịu dàng.\n",
            "\"Tôi xin lỗi,\" cô nói, \"vì đã cư xử tệ bạc.\"\n",
            "Gà trống mỉm cười, trái tim họ gắn kết.\n",
            "\n",
            "Ngày và đêm, chúng ta có thể thấy,\n",
            "Một minh chứng cho tình bạn của họ.\n",
            "Mặt trời và mặt trăng, mãi mãi được ràng buộc,\n",
            "Bởi tình yêu và sự tha thứ.\n"
          ]
        },
        {
          "output_type": "stream",
          "name": "stderr",
          "text": [
            "\r 25%|██▍       | 29/118 [03:20<09:56,  6.71s/it]The attention mask and the pad token id were not set. As a consequence, you may observe unexpected behavior. Please pass your input's `attention_mask` to obtain reliable results.\n",
            "Setting `pad_token_id` to `eos_token_id`:2 for open-end generation.\n"
          ]
        },
        {
          "output_type": "stream",
          "name": "stdout",
          "text": [
            "Assistant:  Một ngày nọ, một ông lão ăn xin gõ cửa,\n",
            "Một lâu đài lớn, với trái tim vàng.\n",
            "Ông cầu xin sự giúp đỡ, trong khi người quản gia suy nghĩ,\n",
            "Và hỏi ý kiến của bà chủ, người phụ nữ keo kiệt.\n",
            "\n",
            "Bà chủ nói, \"Cho anh ta một ổ bánh mì,\n",
            "Từ ngày hôm qua, chỉ có vậy thôi.\"\n",
            "Người ăn xin quay lại, dưới gốc cây,\n",
            "Ăn bánh mì cũ, nhưng không hề phàn nàn.\n",
            "\n",
            "Nhưng khi ông cắn vào nó, một điều kỳ diệu xảy ra,\n",
            "Một viên ngọc quý, lấp lánh và sáng ngời.\n",
            "Ông lão kinh ngạc, trước kho báu bất ngờ này,\n",
            "Và biết ơn vì lòng tốt của bà chủ.\n",
            "\n",
            "Từ ngày đó trở đi, ông lão sống hạnh phúc,\n",
            "Với viên ngọc quý, mà ông tìm thấy trong ổ bánh mì.\n"
          ]
        },
        {
          "output_type": "stream",
          "name": "stderr",
          "text": [
            "\r 25%|██▌       | 30/118 [03:27<10:00,  6.83s/it]The attention mask and the pad token id were not set. As a consequence, you may observe unexpected behavior. Please pass your input's `attention_mask` to obtain reliable results.\n",
            "Setting `pad_token_id` to `eos_token_id`:2 for open-end generation.\n"
          ]
        },
        {
          "output_type": "stream",
          "name": "stdout",
          "text": [
            "Assistant:  Tôi rất may mắn, tôi đã tìm thấy một chiếc nhẫn.\n",
            "Một kho báu ẩn giấu, nó lấp lánh sáng ngời.\n",
            "Nhưng sự trung thực của tôi không thể bị phá vỡ.\n",
            "Tôi phải trả lại nó, đó là điều đúng đắn để làm.\n",
            "\n",
            "Hai chữ cái được khắc trên bề mặt,\n",
            "\"J X\" - chúng ta phải tìm ra ai.\n",
            "Cuốn niên giám điện thoại dẫn đường cho tôi,\n",
            "Chỉ có một gia đình với cái tên như vậy.\n",
            "\n",
            "Gia đình Xofaina, họ là người duy nhất.\n",
            "Tôi phải trả lại chiếc nhẫn, đó là điều đúng đắn để làm.\n",
            "Với trái tim tràn đầy hy vọng, tôi bước đi.\n",
            "Để trả lại chiếc nhẫn, đó là điều đúng đắn để làm.\n"
          ]
        },
        {
          "output_type": "stream",
          "name": "stderr",
          "text": [
            "\r 26%|██▋       | 31/118 [03:34<09:54,  6.84s/it]The attention mask and the pad token id were not set. As a consequence, you may observe unexpected behavior. Please pass your input's `attention_mask` to obtain reliable results.\n",
            "Setting `pad_token_id` to `eos_token_id`:2 for open-end generation.\n"
          ]
        },
        {
          "output_type": "stream",
          "name": "stdout",
          "text": [
            "Assistant:  Người quản gia nói, \"Một chiếc nhẫn vàng lấp lánh,\n",
            "Trong ổ bánh mì mới nướng, anh ta tìm thấy.\n",
            "Chủ nhân của ngôi nhà rất vui mừng,\n",
            "Chiếc nhẫn bị mất tuần trước, cô ấy đã tìm thấy.\n",
            "\n",
            "Tên của cô ấy, Josermina Xofaina,\n",
            "Được khắc trên chiếc nhẫn, một dấu hiệu rõ ràng.\n",
            "Người quản gia nói, \"Anh già, hãy chọn đi,\n",
            "Một phần thưởng xứng đáng cho lòng tốt của anh.\"\n",
            "\n",
            "Ông lão suy nghĩ, \"Tôi sẽ lấy một ít tiền,\n",
            "Và chia sẻ với những người cần giúp đỡ.\n",
            "Đó là cách tôi sống cuộc đời mình,\n",
            "Giúp đỡ người khác, không có sự hối tiếc. \"\n"
          ]
        },
        {
          "output_type": "stream",
          "name": "stderr",
          "text": [
            "\r 27%|██▋       | 32/118 [03:43<10:35,  7.39s/it]The attention mask and the pad token id were not set. As a consequence, you may observe unexpected behavior. Please pass your input's `attention_mask` to obtain reliable results.\n",
            "Setting `pad_token_id` to `eos_token_id`:2 for open-end generation.\n"
          ]
        },
        {
          "output_type": "stream",
          "name": "stdout",
          "text": [
            "Assistant:  Ngày xửa ngày xưa, có một bác thợ mộc tên là Gepetto.\n",
            "Ông đã tạo ra một con rối gỗ, một món đồ chơi đẹp đẽ.\n",
            "Nhưng khi nhìn thấy nó, ông cảm thấy buồn bã.\n",
            "Vì anh ta muốn nhiều hơn thế, một cuộc sống mà anh ta có thể yêu thương.\n",
            "\n",
            "Một ngày nọ, một cơn bão lớn ập đến.\n",
            "Con rối gỗ trôi dạt trên biển, không biết sẽ đi đâu.\n",
            "Nó bị mắc kẹt trên một hòn đảo hoang vắng,\n",
            "Và ở đó, nó tìm thấy một ngôi nhà mới, nơi nó thuộc về.\n",
            "\n",
            "Một ngày nọ, một nhóm cướp biển phát hiện ra cậu bé.\n",
            "Họ nghĩ rằng họ đã tìm thấy một kho báu, một thứ gì đó để lấy.\n",
            "Nhưng khi họ cố gắng bắt cậu bé, cậu bé đã chiến đấu chống lại chúng.\n",
            "Với sự giúp đỡ của những người bạn mới, cậu đã giành được chiến thắng\n"
          ]
        },
        {
          "output_type": "stream",
          "name": "stderr",
          "text": [
            "\r 28%|██▊       | 33/118 [03:50<10:36,  7.49s/it]The attention mask and the pad token id were not set. As a consequence, you may observe unexpected behavior. Please pass your input's `attention_mask` to obtain reliable results.\n",
            "Setting `pad_token_id` to `eos_token_id`:2 for open-end generation.\n"
          ]
        },
        {
          "output_type": "stream",
          "name": "stdout",
          "text": [
            "Assistant:  Sau những ngày dài làm việc, Gepetto tạo ra những con búp bê gỗ.\n",
            "Một đêm, một nàng tiên xuất hiện với một món quà bất ngờ.\n",
            "Cô ấy đã biến một bức tượng gỗ thành một cậu bé sống động.\n",
            "Gepetto đặt tên cho anh ta là Pinocchio, một cuộc phiêu lưu mới.\n",
            "\n",
            "Pinocchio không muốn đi học, nhưng lại bị dụ dỗ bởi những kẻ lang thang.\n",
            "Anh ta bị bắt bởi một người làm trò chơi, nhốt trong một cái lồng.\n",
            "Gepetto tìm kiếm đứa con trai mất tích của mình, trái tim tan nát.\n",
            "Nhưng khi Pinocchio khóc lóc, ông đã được cứu rỗi.\n",
            "\n",
            "Cùng nhau, họ đã học được giá trị của sự chăm chỉ và trung thực.\n",
            "Và tình yêu của cha mẹ sẽ luôn chiến thắng.\n"
          ]
        },
        {
          "output_type": "stream",
          "name": "stderr",
          "text": [
            "\r 29%|██▉       | 34/118 [03:58<10:40,  7.62s/it]The attention mask and the pad token id were not set. As a consequence, you may observe unexpected behavior. Please pass your input's `attention_mask` to obtain reliable results.\n",
            "Setting `pad_token_id` to `eos_token_id`:2 for open-end generation.\n"
          ]
        },
        {
          "output_type": "stream",
          "name": "stdout",
          "text": [
            "Assistant:  Tiên xuất hiện, \"Sự thật phải được tiết lộ,\"\n",
            "Pinocchio run rẩy, \"Tôi không thể làm điều đó!\"\n",
            "Mũi anh ta bắt đầu dài ra, mỗi lời nói dối,\n",
            "Cho đến khi nó đạt đến độ cao đáng kinh ngạc.\n",
            "\n",
            "\"Thôi nào, Pinocchio, hãy thành thật đi,\" cô ấy van xin,\n",
            "Nhưng anh ta vẫn còn sợ hãi, \"Tôi không thể làm điều đó!\"\n",
            "\"Tôi sẽ không bao giờ để anh đi,\" cô ấy hứa,\n",
            "Và đưa cái mũi của anh ta trở lại kích thước bình thường.\n",
            "\n",
            "Bác Gepetto, đau lòng vì sự vắng mặt của anh ta,\n",
            "Đã bỏ nhà ra đi, bị một con cá voi nuốt chửng.\n",
            "Pinocchio cảm ơn bà tiên,\n",
            "Và thề sẽ luôn trung thực, từ nay trở đi.\n"
          ]
        },
        {
          "output_type": "stream",
          "name": "stderr",
          "text": [
            "\r 30%|██▉       | 35/118 [04:03<09:16,  6.70s/it]The attention mask and the pad token id were not set. As a consequence, you may observe unexpected behavior. Please pass your input's `attention_mask` to obtain reliable results.\n",
            "Setting `pad_token_id` to `eos_token_id`:2 for open-end generation.\n"
          ]
        },
        {
          "output_type": "stream",
          "name": "stdout",
          "text": [
            "Assistant:  Trong bụng cá voi, họ tìm thấy sự an ủi.\n",
            "Gepetto và Pinocchio, họ không thể tách rời.\n",
            "Họ thắp lên một ngọn lửa sáng ngời,\n",
            "Cá voi đau đớn, họ phải rời đi.\n",
            "\n",
            "Trở về nhà, Gepetto tiếp tục làm việc,\n",
            "Pinocchio trở nên ngoan ngoãn hơn.\n",
            "Nếu nói dối, mũi anh ta sẽ dài ra,\n",
            "Một câu chuyện để dạy trẻ em cách cư xử.\n"
          ]
        },
        {
          "output_type": "stream",
          "name": "stderr",
          "text": [
            "\r 31%|███       | 36/118 [04:12<10:00,  7.32s/it]The attention mask and the pad token id were not set. As a consequence, you may observe unexpected behavior. Please pass your input's `attention_mask` to obtain reliable results.\n",
            "Setting `pad_token_id` to `eos_token_id`:2 for open-end generation.\n"
          ]
        },
        {
          "output_type": "stream",
          "name": "stdout",
          "text": [
            "Assistant:  Trong rừng sâu, một người đàn ông nghèo khổ,\n",
            "Cha mẹ mất sớm, không còn gì ngoài cây búa.\n",
            "Mỗi ngày, anh ta đi vào rừng,\n",
            "Để chặt gỗ và kiếm sống.\n",
            "\n",
            "Bên cạnh dòng sông, nước chảy mạnh,\n",
            "Một nơi nguy hiểm cho những người lạc lối.\n",
            "Một ngày nọ, khi anh ta đang chặt cây,\n",
            "Cái rìu của anh ta bị gãy, và lưỡi dao đã biến mất.\n",
            "\n",
            "Anh ta nhìn xuống dòng sông,\n",
            "Và thấy lưỡi dao lấp lánh dưới ánh mặt trời.\n",
            "Anh ta biết mình phải lấy nó,\n",
            "Nhưng dòng sông quá mạnh, anh ta sẽ không thể làm được.\n",
            "\n",
            "Anh ta cầu nguyện với Chúa,\n",
            "Và tìm cách để cứu lưỡi dao của mình.\n",
            "Anh ta nhìn thấy một cái cây gần đó,\n",
            "Và nghĩ ra một kế hoạch, anh ta sẽ cố gắng hết sức.\n",
            "\n",
            "Anh ta buộc sợi dây vào cây,\n",
            "Và\n"
          ]
        },
        {
          "output_type": "stream",
          "name": "stderr",
          "text": [
            "\r 31%|███▏      | 37/118 [04:20<10:26,  7.74s/it]The attention mask and the pad token id were not set. As a consequence, you may observe unexpected behavior. Please pass your input's `attention_mask` to obtain reliable results.\n",
            "Setting `pad_token_id` to `eos_token_id`:2 for open-end generation.\n"
          ]
        },
        {
          "output_type": "stream",
          "name": "stdout",
          "text": [
            "Assistant:  Một người đàn ông trẻ, một người cha già,\n",
            "Một câu chuyện về sự mất mát và nỗi đau.\n",
            "Người cha già hỏi, \"Có chuyện gì thế?\"\n",
            "\"Cha mẹ tôi đã ra đi, cuộc sống thật khó khăn.\"\n",
            "\n",
            "\"Tôi chỉ còn lại chiếc rìu sắt,\n",
            "Tài sản duy nhất của tôi, một di sản.\n",
            "Nhưng tôi không thể làm gì với nó,\n",
            "Cuộc sống thật khó khăn, tôi cảm thấy mình bị mắc kẹt. '\n",
            "\n",
            "Ông lão mỉm cười, \"Đừng lo lắng, con trai.\n",
            "Tôi sẽ giúp cậu, hãy tin vào tôi.\n",
            "Hãy để tôi dạy cho cậu cách sử dụng cây rìu,\n",
            "Và cùng nhau chúng ta sẽ vượt qua cơn bão này. '\n",
            "\n",
            "Cùng nhau họ làm việc, ngày qua ngày,\n",
            "Học những kỹ năng mới, tìm kiếm sự thay đổi.\n",
            "Với mỗi nhát rìu, họ tìm thấy niềm vui,\n"
          ]
        },
        {
          "output_type": "stream",
          "name": "stderr",
          "text": [
            "\r 32%|███▏      | 38/118 [04:26<09:18,  6.98s/it]The attention mask and the pad token id were not set. As a consequence, you may observe unexpected behavior. Please pass your input's `attention_mask` to obtain reliable results.\n",
            "Setting `pad_token_id` to `eos_token_id`:2 for open-end generation.\n"
          ]
        },
        {
          "output_type": "stream",
          "name": "stdout",
          "text": [
            "Assistant:  Vì thế, tôi rất buồn, thưa ngài,\n",
            "Một người đàn ông già nói với tôi, \"Đừng khóc.\"\n",
            "\"Tôi sẽ lặn xuống sông và tìm cho cậu chiếc rìu đó.\"\n",
            "Ông ấy lặn xuống, và khi trở lại, ông ấy mang theo một cái rìu bạc.\n",
            "Nhưng nó không phải của tôi, thưa ngài,\n",
            "Nó được làm bằng bạc, không phải sắt.\n",
            "Vậy nên tôi lắc đầu và nói, \"Không, thưa ngài,\n",
            "Đây không phải là cái của tôi, nó không phù hợp với tôi. \"\n"
          ]
        },
        {
          "output_type": "stream",
          "name": "stderr",
          "text": [
            "\r 33%|███▎      | 39/118 [04:35<10:07,  7.69s/it]The attention mask and the pad token id were not set. As a consequence, you may observe unexpected behavior. Please pass your input's `attention_mask` to obtain reliable results.\n",
            "Setting `pad_token_id` to `eos_token_id`:2 for open-end generation.\n"
          ]
        },
        {
          "output_type": "stream",
          "name": "stdout",
          "text": [
            "Assistant:  Một lần nữa, ông lão lại lặn xuống dòng sông.\n",
            "Vào tay ông ta, một chiếc rìu vàng lấp lánh.\n",
            "\"Có phải đây là cái mà cậu đã đánh mất?\" ông ta hỏi.\n",
            "Nhưng người đàn ông lắc đầu và nói, \"Không, đó không phải.\"\n",
            "\n",
            "Lần thứ ba, ông già lại lặn xuống dòng sông.\n",
            "Và khi ông nổi lên, một chiếc rìu sắt ở trong tay ông.\n",
            "\"Đây có phải là cái mà cậu đã đánh mất?\" ông ta hỏi với niềm vui.\n",
            "Người đàn ông mỉm cười và nói, \"Đúng vậy, đó chính xác là nó!\"\n",
            "\n",
            "Ông lão trao cho anh ta chiếc rìu sắt, và người đàn ông rất biết ơn.\n",
            "Vì giờ đây anh ta có thể chặt cây và kiếm sống.\n",
            "Câu chuyện về lòng tốt và sự kiên trì của ông lão\n",
            "Đã dạy cho người đàn ông một bài học quý giá.\n"
          ]
        },
        {
          "output_type": "stream",
          "name": "stderr",
          "text": [
            "\r 34%|███▍      | 40/118 [04:40<09:07,  7.02s/it]The attention mask and the pad token id were not set. As a consequence, you may observe unexpected behavior. Please pass your input's `attention_mask` to obtain reliable results.\n",
            "Setting `pad_token_id` to `eos_token_id`:2 for open-end generation.\n"
          ]
        },
        {
          "output_type": "stream",
          "name": "stdout",
          "text": [
            "Assistant:  Một chàng tiều phu trẻ tuổi,\n",
            "Một người trung thực và chân thật.\n",
            "Ông cụ đã ban cho anh ta hai lưỡi rìu,\n",
            "Vàng và bạc, chúng lấp lánh.\n",
            "\n",
            "Với lòng biết ơn, anh ta chấp nhận món quà,\n",
            "Và cảm ơn vì sự hào phóng của nó.\n",
            "Ông già đã làm phép thuật,\n",
            "Và biến mất trong không khí.\n",
            "\n",
            "Người tiều phu giờ đây biết rằng,\n",
            "Bụt đã giúp đỡ anh ta.\n",
            "Câu chuyện này dạy chúng ta phải trung thực,\n",
            "Và đừng bao giờ đánh giá thấp.\n"
          ]
        },
        {
          "output_type": "stream",
          "name": "stderr",
          "text": [
            "\r 35%|███▍      | 41/118 [04:48<09:22,  7.30s/it]The attention mask and the pad token id were not set. As a consequence, you may observe unexpected behavior. Please pass your input's `attention_mask` to obtain reliable results.\n",
            "Setting `pad_token_id` to `eos_token_id`:2 for open-end generation.\n"
          ]
        },
        {
          "output_type": "stream",
          "name": "stdout",
          "text": [
            "Assistant:  Trong cuộc sống, đừng bao giờ đánh mất sự thật,\n",
            "Hãy trung thực với mọi người, cả ngày lẫn đêm.\n",
            "Có hai người bạn, một giàu và một nghèo,\n",
            "Đại Phú và Chí Quân, họ đã từng chia sẻ.\n",
            "\n",
            "Người giàu đề nghị giúp đỡ, nhưng Chí Quân do dự,\n",
            "Sợ rằng anh ta sẽ phải trả lại nếu công việc kinh doanh thất bại.\n",
            "Nhưng cuối cùng, ông chấp nhận lời đề nghị của bạn mình,\n",
            "Và bắt đầu một hành trình mới, đầy hy vọng.\n",
            "\n",
            "Với sự giúp đỡ của Đại Phú, Chí Quân đã thành công,\n",
            "Công việc kinh doanh phát đạt, và anh ấy đã kiếm được nhiều tiền.\n",
            "Khi thời gian trôi qua, tình bạn của họ vẫn bền vững,\n",
            "Họ học được giá trị của sự trung thực, trong suốt cuộc đời.\n"
          ]
        },
        {
          "output_type": "stream",
          "name": "stderr",
          "text": [
            "\r 36%|███▌      | 42/118 [04:57<09:48,  7.74s/it]The attention mask and the pad token id were not set. As a consequence, you may observe unexpected behavior. Please pass your input's `attention_mask` to obtain reliable results.\n",
            "Setting `pad_token_id` to `eos_token_id`:2 for open-end generation.\n"
          ]
        },
        {
          "output_type": "stream",
          "name": "stdout",
          "text": [
            "Assistant:  Nhà giàu lắm, vàng bạc đầy kho.\n",
            "Một con rùa vàng, nó muốn cho.\n",
            "Người thợ bạc, anh ta đã nhờ.\n",
            "Ngày kia, Chí Quân ghé qua.\n",
            "Rùa vàng, hắn đem ra khoe.\n",
            "Chí Quân, hắn nhìn và cười.\n",
            "Đặt trong đĩa, họ uống rượu.\n",
            "Say khướt, họ đều ngủ.\n",
            "Con trai về, nó thấy.\n",
            "Lấy đi chơi, nó sẽ làm.\n",
            "Chí Quân, hắn đã đi.\n",
            "Đại Phú, hắn chợt nhớ.\n",
            "Hỏi vợ, cô ấy nói không.\n",
            "Không có lấy, cô ấy thề.\n",
            "\n",
            "(Khổ 2)\n",
            "\n",
            "Tìm kiếm khắp nơi, không thấy đâu.\n",
            "Tức giận, hắn tìm kiếm nhiều hơn.\n",
            "Cuối cùng, hắn phát hiện ra.\n",
            "Trong tay con trai, nó đang cầm.\n",
            "Trở lại, hắn đòi trả.\n",
            "Con trai, hắn không chịu.\n"
          ]
        },
        {
          "output_type": "stream",
          "name": "stderr",
          "text": [
            "\r 36%|███▋      | 43/118 [05:03<09:07,  7.30s/it]The attention mask and the pad token id were not set. As a consequence, you may observe unexpected behavior. Please pass your input's `attention_mask` to obtain reliable results.\n",
            "Setting `pad_token_id` to `eos_token_id`:2 for open-end generation.\n"
          ]
        },
        {
          "output_type": "stream",
          "name": "stdout",
          "text": [
            "Assistant:  Đại Phú nói, \"Con rùa vàng, hãy giữ nó đi.\"\n",
            "Tôi sẽ tặng anh một món quà, tôi sẽ tặng anh một món quà.\n",
            "Vợ chồng Chí Quân rất lo lắng, họ đã mất đi sự giàu có của mình.\n",
            "Họ quyết định bán nhà cửa, hy vọng tìm thấy một giải pháp.\n",
            "Ông Phú cảm thấy buồn bã, vì vậy ông đã triệu tập một người thợ kim hoàn.\n",
            "Một con rùa vàng khác đã được tạo ra, một món quà tuyệt vời.\n",
            "Chí Quân vui mừng, cuối cùng họ cũng có thể trả lại bạn bè của mình.\n",
            "Ông Phú không yêu cầu họ phục vụ, nhưng vẫn còn ở lại.\n"
          ]
        },
        {
          "output_type": "stream",
          "name": "stderr",
          "text": [
            "\r 37%|███▋      | 44/118 [05:07<07:32,  6.11s/it]The attention mask and the pad token id were not set. As a consequence, you may observe unexpected behavior. Please pass your input's `attention_mask` to obtain reliable results.\n",
            "Setting `pad_token_id` to `eos_token_id`:2 for open-end generation.\n"
          ]
        },
        {
          "output_type": "stream",
          "name": "stdout",
          "text": [
            "Assistant:  Trả lại con rùa vàng,\n",
            "Vợ chồng Đại Phú kinh hoàng.\n",
            "Rùa vàng, bạn tôi mang đi chơi,\n",
            "Một con rùa khác, bạn tôi thay thế.\n",
            "Đại Phú đến nhà Chí Quân,\n",
            "Nhà đã bán, vợ chồng bạn ở đâu?\n",
            "Đến nhà ông Phú, Đại Phú nói,\n",
            "Xin đưa vợ chồng bạn về.\n"
          ]
        },
        {
          "output_type": "stream",
          "name": "stderr",
          "text": [
            "\r 38%|███▊      | 45/118 [05:12<07:11,  5.91s/it]The attention mask and the pad token id were not set. As a consequence, you may observe unexpected behavior. Please pass your input's `attention_mask` to obtain reliable results.\n",
            "Setting `pad_token_id` to `eos_token_id`:2 for open-end generation.\n"
          ]
        },
        {
          "output_type": "stream",
          "name": "stdout",
          "text": [
            "Assistant:  Một câu chuyện về ba người bạn,\n",
            "Một vấn đề mà họ không thể giải quyết.\n",
            "Họ tìm kiếm sự giúp đỡ từ quan tòa,\n",
            "Nhưng ông ta bối rối, không biết phải làm gì.\n",
            "\n",
            "Lòng trung thực là chủ đề của câu chuyện,\n",
            "Thà nhận phần xấu còn hơn nói dối.\n",
            "Người bạn nghèo có cơ hội,\n",
            "Để nói rằng anh ta không lấy rùa vàng.\n",
            "\n",
            "Trong cuộc sống, chúng ta nên đối xử với nhau bằng sự chân thành,\n",
            "Và thấu hiểu, vì kết quả sẽ rất xứng đáng.\n"
          ]
        },
        {
          "output_type": "stream",
          "name": "stderr",
          "text": [
            "\r 39%|███▉      | 46/118 [05:21<08:07,  6.77s/it]The attention mask and the pad token id were not set. As a consequence, you may observe unexpected behavior. Please pass your input's `attention_mask` to obtain reliable results.\n",
            "Setting `pad_token_id` to `eos_token_id`:2 for open-end generation.\n"
          ]
        },
        {
          "output_type": "stream",
          "name": "stdout",
          "text": [
            "Assistant:  Ngày xửa ngày xưa, khi cây cối còn xanh tươi,\n",
            "Trái đất đã được sinh ra với những chiếc lá.\n",
            "Thần sắc đẹp, người vẽ tranh,\n",
            "Được gửi đến để tô điểm cho thế giới bằng màu sắc và sự quyến rũ.\n",
            "\n",
            "Với cây cối, ông ta vẽ rất nhiều,\n",
            "Hoa hồng, hoa tulip, hoa huệ, hoa cúc.\n",
            "Nhưng khi ông nhìn thấy tác phẩm của mình,\n",
            "Ông biết rằng chúng cần thêm một chút gì đó nữa.\n",
            "\n",
            "\"Tôi phải làm gì đó để tăng thêm sức hấp dẫn của họ,\"\n",
            "Ông nghĩ, \"Họ cần một mùi hương ngọt ngào.\"\n",
            "Nhưng ông ấy không có đủ nước hoa để đi vòng quanh,\n",
            "Vì vậy, ông đã suy nghĩ về cách tốt nhất để phân phối nó.\n",
            "\n",
            "Cuối cùng, ông quyết định chọn một số ít,\n",
            "Những bông hoa đẹp nhất trong số đó.\n",
            "Và với mỗi cái, ông\n"
          ]
        },
        {
          "output_type": "stream",
          "name": "stderr",
          "text": [
            "\r 40%|███▉      | 47/118 [05:25<06:51,  5.79s/it]The attention mask and the pad token id were not set. As a consequence, you may observe unexpected behavior. Please pass your input's `attention_mask` to obtain reliable results.\n",
            "Setting `pad_token_id` to `eos_token_id`:2 for open-end generation.\n"
          ]
        },
        {
          "output_type": "stream",
          "name": "stdout",
          "text": [
            "Assistant:  Hỏi hoa hồng, \"Nếu em có mùi hương,\n",
            "Cô ấy sẽ nhờ gió mang nó đi xa.\n",
            "Hoa sữa, \"Nếu em có mùi hương,\n",
            "Nó sẽ toả sáng trong bóng tối, để mọi người đều biết.\n",
            "Nhưng câu trả lời của họ không làm tôi hài lòng.\n",
            "Vì vậy, tôi đã ban cho mỗi người một hương thơm ngọt ngào.\n"
          ]
        },
        {
          "output_type": "stream",
          "name": "stderr",
          "text": [
            "\r 41%|████      | 48/118 [05:30<06:44,  5.79s/it]The attention mask and the pad token id were not set. As a consequence, you may observe unexpected behavior. Please pass your input's `attention_mask` to obtain reliable results.\n",
            "Setting `pad_token_id` to `eos_token_id`:2 for open-end generation.\n"
          ]
        },
        {
          "output_type": "stream",
          "name": "stdout",
          "text": [
            "Assistant:  Đám hoa Dong Riềng kia không dám khoe sắc, đọ tài với tôi.\n",
            "Thần Sắc Đẹp lắc đầu, buồn bã bỏ đi.\n",
            "Đi mãi, ban tặng gần hết bình hương,\n",
            "Thần gặp hoa Ngọc Lan: \"Hỡi hoa Ngọc Lan bé nhỏ!\"\n",
            "\"Nếu ta ban cho nhà ngươi làn hương thơm còn lại kỳ diệu này,\n",
            "Nhà ngươi sẽ làm gì?\"\n",
            "Hoa Ngọc Lan suy nghĩ một hồi,\n",
            "Thần Sắc Đẹp nhắc lại câu hỏi đến lần thứ ba.\n",
            "Hoa Ngọc Lan ngập ngừng trả lời,\n",
            "\"Cháu xin cảm ơn Thần Sắc Đẹp!\n",
            "Cháu thích lắm!\"\n"
          ]
        },
        {
          "output_type": "stream",
          "name": "stderr",
          "text": [
            "\r 42%|████▏     | 49/118 [05:38<07:18,  6.35s/it]The attention mask and the pad token id were not set. As a consequence, you may observe unexpected behavior. Please pass your input's `attention_mask` to obtain reliable results.\n",
            "Setting `pad_token_id` to `eos_token_id`:2 for open-end generation.\n"
          ]
        },
        {
          "output_type": "stream",
          "name": "stdout",
          "text": [
            "Assistant:  Thần Sắc Đẹp kinh ngạc hỏi, \"Tại sao ngươi không muốn?\"\n",
            "\"Tôi muốn hương thơm của mình dành cho những bông hoa khiêm tốn.\"\n",
            "\"Hoa cỏ xấu xí và bị giày vò mỗi ngày.\n",
            "Họ đau khổ, và tôi muốn giúp đỡ họ.\n",
            "\n",
            "Khi nói xong, hoa ngọc lan bắt đầu khóc.\n",
            "Trái tim Thần Sắc Đẹp tràn ngập sự đồng cảm.\n",
            "Ngay lập tức, bà ban cho hoa ngọc lan một ân huệ lớn lao.\n",
            "Một mùi hương mạnh mẽ hơn bất kỳ loài hoa nào khác.\n",
            "\n",
            "Từ ngày đó trở đi, hoa ngọc lan tỏa ra một mùi hương ngọt ngào.\n",
            "Một minh chứng cho trái tim nhân hậu của nó.\n",
            "Và vì thế, nó vẫn tiếp tục tỏa sáng rực rỡ,\n",
            "Một biểu tượng của tình yêu và lòng trắc ẩn.\n"
          ]
        },
        {
          "output_type": "stream",
          "name": "stderr",
          "text": [
            "\r 42%|████▏     | 50/118 [05:45<07:17,  6.43s/it]The attention mask and the pad token id were not set. As a consequence, you may observe unexpected behavior. Please pass your input's `attention_mask` to obtain reliable results.\n",
            "Setting `pad_token_id` to `eos_token_id`:2 for open-end generation.\n"
          ]
        },
        {
          "output_type": "stream",
          "name": "stdout",
          "text": [
            "Assistant:  Trong thế giới huyền bí, nơi phép màu tồn tại,\n",
            "Một người phụ nữ nấu ăn với sự duyên dáng và tài năng.\n",
            "Cô ấy tạo ra những món ăn ngon, thật khó để quên.\n",
            "Ngọc Hoàng đã chọn cô ấy để phục vụ trong thiên đường.\n",
            "\n",
            "Nhưng cô ấy ăn vụng, lòng tham của cô ấy quá lớn.\n",
            "Lệ nhà trời, thức ăn của họ được giữ riêng biệt.\n",
            "Không được phép chạm vào đồ ăn của hoàng gia,\n",
            "Ngay cả khi nó bị bỏ đi bởi chính Ngọc Hoàng.\n",
            "\n",
            "Vậy nên, người phụ nữ này đã phạm tội,\n",
            "Bị trừng phạt vì sự ích kỷ của mình, cô ấy sẽ không bao giờ quên.\n"
          ]
        },
        {
          "output_type": "stream",
          "name": "stderr",
          "text": [
            "\r 43%|████▎     | 51/118 [05:49<06:22,  5.71s/it]The attention mask and the pad token id were not set. As a consequence, you may observe unexpected behavior. Please pass your input's `attention_mask` to obtain reliable results.\n",
            "Setting `pad_token_id` to `eos_token_id`:2 for open-end generation.\n"
          ]
        },
        {
          "output_type": "stream",
          "name": "stdout",
          "text": [
            "Assistant:  Người phụ nữ tìm kiếm sự giàu sang,\n",
            "Để lấp đầy trái tim cô ấy với tình yêu.\n",
            "Một người chăn ngựa, một cuộc sống khó khăn,\n",
            "Nhưng anh ta khao khát nhiều hơn nữa.\n",
            "\n",
            "Cô ấy yêu anh ta, nghĩ rằng anh ta hoàn hảo,\n",
            "Mỗi miếng ăn, mỗi ngụm rượu.\n",
            "Nhưng kho báu của thiên đường đang cạn kiệt,\n",
            "Tình yêu của họ sẽ phải trả giá đắt.\n"
          ]
        },
        {
          "output_type": "stream",
          "name": "stderr",
          "text": [
            "\r 44%|████▍     | 52/118 [05:56<06:50,  6.22s/it]The attention mask and the pad token id were not set. As a consequence, you may observe unexpected behavior. Please pass your input's `attention_mask` to obtain reliable results.\n",
            "Setting `pad_token_id` to `eos_token_id`:2 for open-end generation.\n"
          ]
        },
        {
          "output_type": "stream",
          "name": "stdout",
          "text": [
            "Assistant:  Và trong những ngày đó, bà ấy sẽ dẫn ông ta đi lang thang\n",
            "Kho rượu, nơi họ có thể chơi đùa\n",
            "Ông ta say sưa, không bao giờ mệt mỏi\n",
            "Một bữa tiệc mà họ sẽ không bao giờ quên\n",
            "\n",
            "Ngọc Hoàng tổ chức một bữa tiệc lớn\n",
            "Các đầu bếp làm việc rất chăm chỉ\n",
            "Nhưng khi mặt trăng lên cao\n",
            "Bà ấy đã gặp người yêu của mình\n",
            "\n",
            "Bà ấy dẫn anh ta đến một nơi an toàn\n",
            "Trong góc tủ đựng thức ăn\n",
            "Hai trái tim đập cùng nhau\n",
            "Trong sự hòa hợp ngọt ngào\n",
            "\n",
            "Và vì vậy, họ đã chia sẻ một khoảnh khắc đặc biệt\n",
            "Một tình yêu mà họ sẽ luôn trân trọng\n",
            "Trong thế giới của những bữa tiệc và niềm vui\n",
            "Họ tìm thấy hạnh phúc trong vòng tay của nhau.\n"
          ]
        },
        {
          "output_type": "stream",
          "name": "stderr",
          "text": [
            "\r 45%|████▍     | 53/118 [06:02<06:48,  6.29s/it]The attention mask and the pad token id were not set. As a consequence, you may observe unexpected behavior. Please pass your input's `attention_mask` to obtain reliable results.\n",
            "Setting `pad_token_id` to `eos_token_id`:2 for open-end generation.\n"
          ]
        },
        {
          "output_type": "stream",
          "name": "stdout",
          "text": [
            "Assistant:  Người đàn ông trở về từ việc cưỡi ngựa,\n",
            "Bát cơm nguội trong tay anh ta.\n",
            "Ông nghĩ về bữa tiệc thịnh soạn,\n",
            "Rượu và thịt, ôi thật tuyệt vời!\n",
            "Trong bóng tối, anh ta uống rượu,\n",
            "Hơi men làm cho anh ta cảm thấy phấn chấn.\n",
            "Thèm một thứ gì đó để ăn mừng,\n",
            "Anh ta tìm kiếm trong bóng tối.\n",
            "Trên giá có rất nhiều món ăn,\n",
            "Mùi hương thật quyến rũ.\n",
            "Đói bụng, anh ta bắt đầu ăn.\n",
            "Trước khi họ mang nó ra ngoài.\n",
            "Mỗi đĩa dường như đã được nếm thử,\n",
            "Một bữa tiệc bất ngờ, nhưng không phải là một bữa tiệc.\n"
          ]
        },
        {
          "output_type": "stream",
          "name": "stderr",
          "text": [
            "\r 46%|████▌     | 54/118 [06:08<06:25,  6.02s/it]The attention mask and the pad token id were not set. As a consequence, you may observe unexpected behavior. Please pass your input's `attention_mask` to obtain reliable results.\n",
            "Setting `pad_token_id` to `eos_token_id`:2 for open-end generation.\n"
          ]
        },
        {
          "output_type": "stream",
          "name": "stdout",
          "text": [
            "Assistant:  Tiếng thét của Ngọc Hoàng vang vọng khắp nơi,\n",
            "Làm cho bữa tiệc trở nên ảm đạm.\n",
            "Người phụ nữ nấu nướng cúi đầu,\n",
            "Nhận lấy hình phạt của mình.\n",
            "\n",
            "Cả hai đều bị đày xuống trần gian,\n",
            "Để làm việc không ngừng nghỉ.\n",
            "Tìm kiếm thức ăn trong đống rác,\n",
            "Một sự trừng phạt rất nặng nề.\n",
            "\n",
            "Nhưng rồi, họ đã nói lên nỗi đau khổ của mình,\n",
            "Ngọc Hoàng có lòng trắc ẩn.\n",
            "Ông ta ban cho họ ba ngày nghỉ,\n",
            "Từ công việc mệt mỏi của họ.\n"
          ]
        },
        {
          "output_type": "stream",
          "name": "stderr",
          "text": [
            "\r 47%|████▋     | 55/118 [06:12<05:49,  5.54s/it]The attention mask and the pad token id were not set. As a consequence, you may observe unexpected behavior. Please pass your input's `attention_mask` to obtain reliable results.\n",
            "Setting `pad_token_id` to `eos_token_id`:2 for open-end generation.\n"
          ]
        },
        {
          "output_type": "stream",
          "name": "stdout",
          "text": [
            "Assistant:  Trong ngày Tết, chúng ta có một truyền thống,\n",
            "Kiêng quét nhà, để tránh xui rủi.\n",
            "Một câu đố cổ xưa, nó nói lên tất cả,\n",
            "\"Bà lau chùi, bà lau chùi.\"\n",
            "\n",
            "Thói quen ăn uống của chúng ta, chúng ta nên cẩn thận,\n",
            "Hãy nhớ rằng, đừng bao giờ quá tham lam.\n",
            "Tính xấu của con người, chúng ta phải đối mặt,\n",
            "Ham muốn, chúng ta phải loại bỏ.\n"
          ]
        },
        {
          "output_type": "stream",
          "name": "stderr",
          "text": [
            "\r 47%|████▋     | 56/118 [06:20<06:17,  6.08s/it]The attention mask and the pad token id were not set. As a consequence, you may observe unexpected behavior. Please pass your input's `attention_mask` to obtain reliable results.\n",
            "Setting `pad_token_id` to `eos_token_id`:2 for open-end generation.\n"
          ]
        },
        {
          "output_type": "stream",
          "name": "stdout",
          "text": [
            "Assistant:  Ngày xửa ngày xưa, ở phía đông núi Sóc Sơn,\n",
            "Một cây đào cổ thụ đứng kiêu hãnh.\n",
            "Cành lá sum suê, bóng râm trải dài,\n",
            "Hai vị thần trú ngụ, sức mạnh họ chia sẻ.\n",
            "\n",
            "Trà và Uất Lũy, họ được biết đến như thế,\n",
            "Bảo vệ dân làng, họ sẽ không bao giờ để lại.\n",
            "Quỷ dữ và ma quỷ, họ sợ hãi và chạy trốn,\n",
            "Trước cơn thịnh nộ của các vị thần, họ phải chịu đựng.\n",
            "\n",
            "Uy quyền của họ, không thể phủ nhận,\n",
            "Sấm sét và lửa, họ sẽ không bao giờ bỏ qua.\n",
            "Vì vậy, cây đào, nó vẫn còn tồn tại,\n",
            "Một biểu tượng của hy vọng, trong trái tim của mọi người.\n"
          ]
        },
        {
          "output_type": "stream",
          "name": "stderr",
          "text": [
            "\r 48%|████▊     | 57/118 [06:24<05:45,  5.66s/it]The attention mask and the pad token id were not set. As a consequence, you may observe unexpected behavior. Please pass your input's `attention_mask` to obtain reliable results.\n",
            "Setting `pad_token_id` to `eos_token_id`:2 for open-end generation.\n"
          ]
        },
        {
          "output_type": "stream",
          "name": "stdout",
          "text": [
            "Assistant:  Ngày cuối năm, thần linh lên trời,\n",
            "Trà và Uất Lũy, họ rời xa rồi.\n",
            "Ma quỷ hoành hành, tác oai tác quái,\n",
            "Dân chúng tìm kiếm, đào hoa cắm vào.\n",
            "\n",
            "Cành đào đỏ, xua đuổi tà ma,\n",
            "Giấy hồng điều, vẽ thần linh, ngăn chặn sự sợ hãi.\n",
            "Sự tích hoa đào, một câu chuyện đẹp đẽ,\n",
            "Mỗi năm, mọi người đều làm theo, với niềm tin và hy vọng.\n"
          ]
        },
        {
          "output_type": "stream",
          "name": "stderr",
          "text": [
            "\r 49%|████▉     | 58/118 [06:31<06:03,  6.06s/it]The attention mask and the pad token id were not set. As a consequence, you may observe unexpected behavior. Please pass your input's `attention_mask` to obtain reliable results.\n",
            "Setting `pad_token_id` to `eos_token_id`:2 for open-end generation.\n"
          ]
        },
        {
          "output_type": "stream",
          "name": "stdout",
          "text": [
            "Assistant:  Ngày xửa ngày xưa, hoa đào nở rộ,\n",
            "Một biểu tượng của mùa xuân, một vẻ đẹp để giữ.\n",
            "Tân và Lang, hai anh em, họ rất giống nhau,\n",
            "Nhưng số phận của họ sẽ thay đổi mãi mãi.\n",
            "\n",
            "Trong những ngày đầu năm mới, hoa đào nở rộ,\n",
            "Một biểu tượng của sự may mắn, một lời cầu nguyện cho hòa bình.\n",
            "Tân và Lang, hai anh em, họ rất giống nhau,\n",
            "Nhưng số phận của họ sẽ thay đổi mãi mãi.\n",
            "\n",
            "Hoa đào, biểu tượng của niềm hy vọng,\n",
            "Một lời nhắc nhở về sự khởi đầu mới mẻ.\n",
            "Tân và Lang, hai anh em, họ rất giống nhau,\n",
            "Nhưng số phận của họ sẽ thay đổi mãi mãi.\n"
          ]
        },
        {
          "output_type": "stream",
          "name": "stderr",
          "text": [
            "\r 50%|█████     | 59/118 [06:38<06:08,  6.24s/it]The attention mask and the pad token id were not set. As a consequence, you may observe unexpected behavior. Please pass your input's `attention_mask` to obtain reliable results.\n",
            "Setting `pad_token_id` to `eos_token_id`:2 for open-end generation.\n"
          ]
        },
        {
          "output_type": "stream",
          "name": "stdout",
          "text": [
            "Assistant:  Một gia đình tên Cao, hai anh em ruột thịt,\n",
            "Cha mẹ đã qua đời, tình yêu của họ rất sâu sắc.\n",
            "Một người cha khôn ngoan, một lời nhắn nhủ,\n",
            "Tân theo học với một đạo sĩ họ Lưu.\n",
            "Lang khao khát kiến thức, cầu xin để tham gia,\n",
            "Đạo sĩ họ Lưu có một cô con gái trẻ.\n",
            "Để xác định thứ tự, cô ấy nghĩ ra một kế hoạch,\n",
            "Chỉ có một bát cháo và một cặp đũa.\n",
            "Họ đói, nhưng họ không tranh giành,\n",
            "Tình yêu của họ dành cho nhau thật rõ ràng.\n",
            "Người chị họ Lưu quan sát, mỉm cười,\n",
            "Hai anh em ruột thịt, mãi mãi gắn bó.\n"
          ]
        },
        {
          "output_type": "stream",
          "name": "stderr",
          "text": [
            "\r 51%|█████     | 60/118 [06:44<06:01,  6.23s/it]The attention mask and the pad token id were not set. As a consequence, you may observe unexpected behavior. Please pass your input's `attention_mask` to obtain reliable results.\n",
            "Setting `pad_token_id` to `eos_token_id`:2 for open-end generation.\n"
          ]
        },
        {
          "output_type": "stream",
          "name": "stdout",
          "text": [
            "Assistant:  Tân và cô gái gặp gỡ và yêu nhau,\n",
            "Đạo sĩ họ Lưu vui lòng gả con cho Tân.\n",
            "Họ đến sống trong một ngôi nhà mới,\n",
            "Với Lang, người đã chia sẻ tình yêu của họ.\n",
            "Từ ngày kết hôn, Tân không còn âu yếm em như trước nữa,\n",
            "Lang cảm thấy bị bỏ rơi và rất buồn.\n",
            "Một ngày nọ, Lang và Tân đi làm đồng,\n",
            "Vào buổi tối, Lang trở về nhà trước.\n",
            "Lang về trước, vợ Tân ôm chặt lấy,\n",
            "Tân bước vào nhà và ghen tị,\n",
            "Với Lang, người mà anh ta đã phớt lờ.\n",
            "Lang vừa giận vừa xấu hổ.\n"
          ]
        },
        {
          "output_type": "stream",
          "name": "stderr",
          "text": [
            "\r 52%|█████▏    | 61/118 [06:53<06:37,  6.97s/it]The attention mask and the pad token id were not set. As a consequence, you may observe unexpected behavior. Please pass your input's `attention_mask` to obtain reliable results.\n",
            "Setting `pad_token_id` to `eos_token_id`:2 for open-end generation.\n"
          ]
        },
        {
          "output_type": "stream",
          "name": "stdout",
          "text": [
            "Assistant:  Ngày dài và xa xôi, Lang lang thang\n",
            "Đến bờ một dòng sông rộng, nước chảy mạnh.\n",
            "Anh ta không thể quay lại, anh ta sẽ không bao giờ làm thế.\n",
            "Ôm mặt, anh ta khóc cho đến khi trời sáng.\n",
            "\n",
            "Chim chóc nghe thấy tiếng khóc của anh ta,\n",
            "Vào ban đêm, họ vẫn có thể nghe thấy tiếng nức nở của anh ấy.\n",
            "Sáng hôm sau, Lang biến thành đá.\n",
            "Không thấy em đâu, Tân rất buồn.\n",
            "\n",
            "Hắn hối hận vì đã làm tổn thương người yêu của mình.\n",
            "Hôm sau, hắn không thấy cô ấy về nhà.\n",
            "Lo lắng, hắn bỏ vợ ở nhà.\n",
            "Và bắt đầu cuộc hành trình tìm kiếm cô ấy.\n",
            "\n",
            "Khi đến bờ sông, anh nhìn thấy cô ấy.\n",
            "Bây giờ là một tảng đá, không còn sống nữa.\n",
            "Tân đau lòng, nhưng quá muộn rồi.\n",
            "Lang đã biến thành\n"
          ]
        },
        {
          "output_type": "stream",
          "name": "stderr",
          "text": [
            "\r 53%|█████▎    | 62/118 [06:57<05:38,  6.04s/it]The attention mask and the pad token id were not set. As a consequence, you may observe unexpected behavior. Please pass your input's `attention_mask` to obtain reliable results.\n",
            "Setting `pad_token_id` to `eos_token_id`:2 for open-end generation.\n"
          ]
        },
        {
          "output_type": "stream",
          "name": "stdout",
          "text": [
            "Assistant:  Vợ Tân chờ mãi không thấy chồng về,\n",
            "Nàng cũng bỏ nhà đi tìm.\n",
            "Cùng nhau khóc cạn nước mắt,\n",
            "Hóa thành một cây dây quấn quanh.\n",
            "\n",
            "Vợ chồng đạo sĩ tìm kiếm khắp nơi,\n",
            "Trước những cây lạ, họ xây miếu thờ.\n",
            "Miếu \"anh em hoà thuận, vợ chồng tiết nghĩa\",\n",
            "Một năm hạn hán, hai cây vẫn xanh tươi.\n"
          ]
        },
        {
          "output_type": "stream",
          "name": "stderr",
          "text": [
            "\r 53%|█████▎    | 63/118 [07:06<06:17,  6.87s/it]The attention mask and the pad token id were not set. As a consequence, you may observe unexpected behavior. Please pass your input's `attention_mask` to obtain reliable results.\n",
            "Setting `pad_token_id` to `eos_token_id`:2 for open-end generation.\n"
          ]
        },
        {
          "output_type": "stream",
          "name": "stdout",
          "text": [
            "Assistant:  Một ngày nọ, vua Hùng đã đi rất xa\n",
            "Khi ông ấy nhìn thấy một ngôi đền, ông ấy đã tự hỏi\n",
            "\"Thần thánh nào mà họ tôn thờ?\"\n",
            "Lạc tướng đã triệu tập những người lớn tuổi để giải thích\n",
            "Họ nói về một loại trái cây đặc biệt\n",
            "Một hương vị độc đáo, chua và ngọt ngào\n",
            "Vua Hùng muốn nếm thử, nên ông đã ra lệnh\n",
            "Để hái quả và kiểm tra xem nó có đúng như vậy không\n",
            "Khi cắn vào quả, ông nhận ra rằng\n",
            "Nó không giống bất cứ thứ gì khác mà ông từng nếm\n",
            "Nhưng khi ông nhai lá cây dây leo\n",
            "Một hương vị kỳ diệu bắt đầu lan tỏa\n",
            "Ngọt ngào và cay, nó thực sự là một món ăn\n",
            "Và vì thế, vua Hùng đã tìm hiểu\n",
            "Rằng đây là cách để thưởng thức trái cây\n",
            "Với lá cây dây leo, nó sẽ trở nên hoàn hảo\n",
            "Và kể từ đó, truyền thống vẫn\n"
          ]
        },
        {
          "output_type": "stream",
          "name": "stderr",
          "text": [
            "\r 54%|█████▍    | 64/118 [07:14<06:30,  7.24s/it]The attention mask and the pad token id were not set. As a consequence, you may observe unexpected behavior. Please pass your input's `attention_mask` to obtain reliable results.\n",
            "Setting `pad_token_id` to `eos_token_id`:2 for open-end generation.\n"
          ]
        },
        {
          "output_type": "stream",
          "name": "stdout",
          "text": [
            "Assistant:  Một lần nọ, trong rừng sâu,\n",
            "Hai cây mọc lên, một màu xanh tươi.\n",
            "Một cái tên chúng ta biết rất rõ,\n",
            "Cây kia, một bí ẩn, chưa được khám phá.\n",
            "\n",
            "Vua tò mò, ông đã đi tìm kiếm,\n",
            "Để xem những gì họ có thể làm.\n",
            "Ông hái lá và quả của họ,\n",
            "Và trộn chúng lại, một cách kỳ diệu.\n",
            "\n",
            "Khi ông nhai, ông cảm thấy ấm áp,\n",
            "Môi ông đỏ, khuôn mặt ông sáng ngời.\n",
            "\"Thật là kỳ diệu!\" Ông thốt lên, \"\n",
            "Tình yêu của họ thật nồng nàn, nó thấm đẫm.\"\n",
            "\n",
            "Từ ngày đó trở đi, ông đã ra lệnh,\n",
            "Rằng tất cả mọi người nên trồng trọt.\n",
            "Trầu, cau, vôi, chúng phải có,\n",
            "Để nhắc nhở về tình yêu, mãi mãi.\n"
          ]
        },
        {
          "output_type": "stream",
          "name": "stderr",
          "text": [
            "\r 55%|█████▌    | 65/118 [07:21<06:28,  7.34s/it]The attention mask and the pad token id were not set. As a consequence, you may observe unexpected behavior. Please pass your input's `attention_mask` to obtain reliable results.\n",
            "Setting `pad_token_id` to `eos_token_id`:2 for open-end generation.\n"
          ]
        },
        {
          "output_type": "stream",
          "name": "stdout",
          "text": [
            "Assistant:  Trầu cau, biểu tượng của sự đoàn kết,\n",
            "Một truyền thống lâu đời, một mối liên kết thiêng liêng.\n",
            "Giao tiếp, kết hôn, tình yêu thương,\n",
            "Trái tim chúng ta cùng nhau, mãi mãi gắn bó.\n",
            "\n",
            "Quả bầu tiên, một câu chuyện đẹp đẽ,\n",
            "Về lòng tốt và sự hào phóng, một bài học để chia sẻ.\n",
            "Một cậu bé nghèo, nhưng giàu lòng nhân ái,\n",
            "Sống hòa hợp với thiên nhiên, trái tim anh ấy thật ngọt ngào.\n",
            "\n",
            "Ông giúp con én nhỏ, một hành động tử tế,\n",
            "Và nhận được phần thưởng xứng đáng, một món quà bất ngờ.\n",
            "Tình yêu và sự tôn trọng, đó là điều mà ông đã có,\n",
            "Một bài học cho tất cả chúng ta, hãy nhớ rằng.\n"
          ]
        },
        {
          "output_type": "stream",
          "name": "stderr",
          "text": [
            "\r 56%|█████▌    | 66/118 [07:30<06:44,  7.78s/it]The attention mask and the pad token id were not set. As a consequence, you may observe unexpected behavior. Please pass your input's `attention_mask` to obtain reliable results.\n",
            "Setting `pad_token_id` to `eos_token_id`:2 for open-end generation.\n"
          ]
        },
        {
          "output_type": "stream",
          "name": "stdout",
          "text": [
            "Assistant:  Một lần nọ, trong vườn nhà cậu bé,\n",
            "Một quả bầu kỳ lạ đã mọc lên.\n",
            "Nó to lớn và sáng bóng,\n",
            "Và đầy những điều kỳ diệu bên trong.\n",
            "\n",
            "Khi cậu bé mở nó ra,\n",
            "Những kho báu tuyệt vời anh ta thấy.\n",
            "Vàng bạc, đá quý lấp lánh,\n",
            "Và một chiếc chìa khóa nhỏ, sáng ngời.\n",
            "\n",
            "Cậu bé biết rằng đây là một món quà,\n",
            "Từ những người bạn chim của cậu.\n",
            "Họ muốn cậu sử dụng chìa khoá đúng cách,\n",
            "Để mở ra một tương lai tươi sáng.\n",
            "\n",
            "Cậu bé mang theo chiếc chìa khoá,\n",
            "Và tìm kiếm một nơi để giấu nó.\n",
            "Anh ta đặt nó dưới một tảng đá,\n",
            "Và cầu nguyện cho sự an toàn của nó.\n",
            "\n",
            "Ngày tháng trôi qua, cậu bé lớn lên,\n",
            "Và trở nên khôn ngoan hơn và mạnh mẽ hơn.\n",
            "Anh ta vẫn giữ chiếc chìa khoá bên mình,\n"
          ]
        },
        {
          "output_type": "stream",
          "name": "stderr",
          "text": [
            "\r 57%|█████▋    | 67/118 [07:39<06:51,  8.06s/it]The attention mask and the pad token id were not set. As a consequence, you may observe unexpected behavior. Please pass your input's `attention_mask` to obtain reliable results.\n",
            "Setting `pad_token_id` to `eos_token_id`:2 for open-end generation.\n"
          ]
        },
        {
          "output_type": "stream",
          "name": "stdout",
          "text": [
            "Assistant:  Con én non nớt ngã xuống đất,\n",
            "Cánh gãy, đau đớn, trái tim tan nát.\n",
            "Cậu bé chạy tới, với lòng nhân hậu,\n",
            "Ôm ấp, an ủi, một cảnh tượng đẹp đẽ.\n",
            "\n",
            "Anh ta mang nó về nhà, để chữa lành và chăm sóc,\n",
            "Một ngôi nhà mới, thức ăn ngon, mỗi ngày.\n",
            "Với tình yêu và sự quan tâm, anh ấy đã chữa lành vết thương của mình,\n",
            "Én nhỏ, giờ đây mạnh mẽ hơn trước.\n",
            "\n",
            "Mùa thu đến, trời trở lạnh,\n",
            "Đàn én bay đi, tìm nơi ấm áp.\n",
            "Én nhỏ do dự, trái tim nó đang giằng xé,\n",
            "Nửa muốn đi, nửa lại không thể rời xa.\n",
            "\n",
            "Cậu bé đứng đó, nhìn lên bầu trời,\n",
            "Nhìn những con én bay đi, trong nỗi buồn vô tận.\n",
            "Én nhỏ, cảm ơn vì tất cả,\n"
          ]
        },
        {
          "output_type": "stream",
          "name": "stderr",
          "text": [
            "\r 58%|█████▊    | 68/118 [07:45<06:15,  7.50s/it]The attention mask and the pad token id were not set. As a consequence, you may observe unexpected behavior. Please pass your input's `attention_mask` to obtain reliable results.\n",
            "Setting `pad_token_id` to `eos_token_id`:2 for open-end generation.\n"
          ]
        },
        {
          "output_type": "stream",
          "name": "stdout",
          "text": [
            "Assistant:  Đến mùa xuân Én lại trở về,\n",
            "Với niềm vui trong tim, nó bay đi.\n",
            "Nó bay cao trên bầu trời xanh,\n",
            "Vào một đàn chim, chúng bay đi xa.\n",
            "\n",
            "Mùa xuân đến, Én quay về,\n",
            "Với tình yêu và sự ấm áp, nó sẽ không bao giờ quên.\n",
            "Một tiếng kêu vui vẻ, nó hạ cánh,\n",
            "Trước mặt cậu bé, nó mang theo một món quà.\n",
            "\n",
            "Một hạt bầu to, nó đặt xuống,\n",
            "Để trồng và chăm sóc, để nó phát triển.\n",
            "Tình yêu của Én dành cho cậu bé,\n",
            "Trong trái tim họ, mãi mãi được kết nối.\n"
          ]
        },
        {
          "output_type": "stream",
          "name": "stderr",
          "text": [
            "\r 58%|█████▊    | 69/118 [07:53<06:11,  7.58s/it]The attention mask and the pad token id were not set. As a consequence, you may observe unexpected behavior. Please pass your input's `attention_mask` to obtain reliable results.\n",
            "Setting `pad_token_id` to `eos_token_id`:2 for open-end generation.\n"
          ]
        },
        {
          "output_type": "stream",
          "name": "stdout",
          "text": [
            "Assistant:  Mỗi ngày, cậu bé tưới nước cho những hạt giống nhỏ bé,\n",
            "Chăm sóc chúng với tất cả trái tim mình, chúng bắt đầu phát triển.\n",
            "Một cây nho mọc lên, nở hoa và kết trái,\n",
            "Nhưng chỉ có một quả, nó sẽ không ngừng phát triển.\n",
            "\n",
            "Ngày qua ngày, cậu bé chăm sóc cây nho,\n",
            "Nó lớn lên và lớn lên, cao hơn cả anh ta.\n",
            "Cậu bé rất vui mừng khi thấy quả bầu ngày càng to,\n",
            "Một quả bầu khổng lồ, cao hơn cả người anh ta.\n",
            "\n",
            "Mùa thu hoạch đã đến, và cậu bé muốn mang theo,\n",
            "Quả bầu khổng lồ, một kỳ quan thực sự.\n",
            "Với sự chăm sóc và tình yêu của mình,\n",
            "Anh ấy đã tạo ra một điều gì đó đặc biệt, một món quà tuyệt vời.\n"
          ]
        },
        {
          "output_type": "stream",
          "name": "stderr",
          "text": [
            "\r 59%|█████▉    | 70/118 [07:57<05:23,  6.74s/it]The attention mask and the pad token id were not set. As a consequence, you may observe unexpected behavior. Please pass your input's `attention_mask` to obtain reliable results.\n",
            "Setting `pad_token_id` to `eos_token_id`:2 for open-end generation.\n"
          ]
        },
        {
          "output_type": "stream",
          "name": "stdout",
          "text": [
            "Assistant:  Ai đó đã lấy đi niềm vui,\n",
            "Khi quả bầu vỡ ra,\n",
            "Mọi người đều kinh ngạc,\n",
            "Vài thứ quý giá bên trong.\n",
            "\n",
            "Gia đình cậu bé vui mừng,\n",
            "Chia sẻ sự giàu có với tất cả,\n",
            "Nhưng có một kẻ tham lam,\n",
            "Tìm cách để có được nhiều hơn nữa.\n",
            "\n",
            "Hắn bắt một con én nhỏ,\n",
            "Và làm gãy đôi cánh của nó,\n",
            "Nhưng phép màu vẫn còn đó,\n",
            "Và những hạt giống đã được gieo trồng.\n"
          ]
        },
        {
          "output_type": "stream",
          "name": "stderr",
          "text": [
            "\r 60%|██████    | 71/118 [08:05<05:26,  6.95s/it]The attention mask and the pad token id were not set. As a consequence, you may observe unexpected behavior. Please pass your input's `attention_mask` to obtain reliable results.\n",
            "Setting `pad_token_id` to `eos_token_id`:2 for open-end generation.\n"
          ]
        },
        {
          "output_type": "stream",
          "name": "stdout",
          "text": [
            "Assistant:  Mùa thu đến, tôi thấy những con én đầu tiên,\n",
            "\"Bay đi, em yêu!\" Tôi nói với họ, \"Tìm hạt giống bầu trời.\"\n",
            "Con én tội nghiệp bay đi,\n",
            "Và kỳ diệu thay, mùa xuân năm sau nó quay lại.\n",
            "\n",
            "Một hạt giống bầu trời,\n",
            "Lão địa chủ tham lam rất vui mừng.\n",
            "Ông ra lệnh cho người hầu của mình để trồng nó,\n",
            "Và chăm sóc nó mỗi ngày.\n",
            "\n",
            "Không có sự lơ là,\n",
            "Hắn canh chừng cây bầu bí,\n",
            "Và khi nó lớn lên,\n",
            "Lão địa chủ cười toe toét.\n",
            "\n",
            "Nhưng hãy cẩn thận,\n",
            "Vì đôi khi, những điều tốt đẹp nhất,\n",
            "Có thể mang lại sự bất hạnh,\n",
            "Như câu chuyện về hạt giống bầu trời.\n"
          ]
        },
        {
          "output_type": "stream",
          "name": "stderr",
          "text": [
            "\r 61%|██████    | 72/118 [08:12<05:21,  6.99s/it]The attention mask and the pad token id were not set. As a consequence, you may observe unexpected behavior. Please pass your input's `attention_mask` to obtain reliable results.\n",
            "Setting `pad_token_id` to `eos_token_id`:2 for open-end generation.\n"
          ]
        },
        {
          "output_type": "stream",
          "name": "stdout",
          "text": [
            "Assistant:  Khi quả bầu già đi, nó kêu gọi mọi người mang nó về.\n",
            "Một quả bầu to lớn, cần nhiều người để nâng lên.\n",
            "Họ mang nó về nhà, nhưng không ai ở lại.\n",
            "Địa chủ tham lam, hắn tự mình làm việc đó.\n",
            "\n",
            "Với một nhát chém, hắn mở quả bầu ra.\n",
            "Nhưng không có vàng hay ngọc quý nào cả.\n",
            "Thay vào đó, rắn và côn trùng xuất hiện.\n",
            "Địa chủ kinh hoàng, hắn ngã xuống đất.\n",
            "\n",
            "Rắn và côn trùng tấn công, hắn không thể trốn thoát.\n",
            "Cái chết của ông ta là kết thúc cho sự tham lam của mình.\n",
            "Quả bầu đã dạy cho hắn một bài học.\n",
            "Đừng bao giờ đánh giá thấp sức mạnh của thiên nhiên.\n"
          ]
        },
        {
          "output_type": "stream",
          "name": "stderr",
          "text": [
            "\r 62%|██████▏   | 73/118 [08:18<04:55,  6.56s/it]The attention mask and the pad token id were not set. As a consequence, you may observe unexpected behavior. Please pass your input's `attention_mask` to obtain reliable results.\n",
            "Setting `pad_token_id` to `eos_token_id`:2 for open-end generation.\n"
          ]
        },
        {
          "output_type": "stream",
          "name": "stdout",
          "text": [
            "Assistant:  Một lần có một con én,\n",
            "Rơi từ trên cây xuống,\n",
            "Một cậu bé tốt bụng,\n",
            "Đã giúp nó chữa lành.\n",
            "\n",
            "Én không bao giờ quên,\n",
            "Sự tử tế của cậu bé,\n",
            "Và vào mùa xuân,\n",
            "Nó mang lại một món quà.\n",
            "\n",
            "Một quả bầu tiên,\n",
            "Với hạt giống bên trong,\n",
            "Cậu bé trồng nó,\n",
            "Và nó phát triển mạnh mẽ.\n",
            "\n",
            "Từ quả bầu tiên,\n",
            "Họ lấy thức ăn ngon,\n",
            "Và họ sống hạnh phúc mãi mãi,\n",
            "Trong sự ấm áp của tình yêu.\n"
          ]
        },
        {
          "output_type": "stream",
          "name": "stderr",
          "text": [
            "\r 63%|██████▎   | 74/118 [08:25<04:54,  6.69s/it]The attention mask and the pad token id were not set. As a consequence, you may observe unexpected behavior. Please pass your input's `attention_mask` to obtain reliable results.\n",
            "Setting `pad_token_id` to `eos_token_id`:2 for open-end generation.\n"
          ]
        },
        {
          "output_type": "stream",
          "name": "stdout",
          "text": [
            "Assistant:  Cuộc sống thật hạnh phúc,\n",
            "Khi mùa xuân đến gần,\n",
            "Chim chóc hát vang,\n",
            "Làm tổ quanh nhà.\n",
            "\n",
            "Với sự siêng năng và kiên trì,\n",
            "Một con én mang đến cho anh ta một hạt giống,\n",
            "Anh ấy đã gieo trồng nó với niềm đam mê,\n",
            "Và thu hoạch của ông ấy thật tuyệt vời.\n",
            "\n",
            "Một quả bầu chứa đầy vàng bạc,\n",
            "Gia đình ông ta đã trở nên giàu có,\n",
            "Nhưng khi họ mở nó ra,\n",
            "Họ tìm thấy rắn thay vì kho báu.\n",
            "\n",
            "Cuộc sống dạy chúng ta phải cẩn thận,\n",
            "Không phải tất cả đều như vẻ ngoài của nó,\n",
            "Và đôi khi những điều bất ngờ nhất,\n",
            "Có thể xảy ra trong cuộc sống của chúng ta.\n"
          ]
        },
        {
          "output_type": "stream",
          "name": "stderr",
          "text": [
            "\r 64%|██████▎   | 75/118 [08:31<04:43,  6.59s/it]The attention mask and the pad token id were not set. As a consequence, you may observe unexpected behavior. Please pass your input's `attention_mask` to obtain reliable results.\n",
            "Setting `pad_token_id` to `eos_token_id`:2 for open-end generation.\n"
          ]
        },
        {
          "output_type": "stream",
          "name": "stdout",
          "text": [
            "Assistant:  Một tên địa chủ độc ác,\n",
            "Tham lam và tàn nhẫn, hắn đã phạm tội.\n",
            "Một con én nhỏ, nó bay đi,\n",
            "Hắn cố gắng để bắt nó, nhưng không thể làm gì được.\n",
            "\n",
            "Hắn giả vờ thương hại, đưa nó vào,\n",
            "Nhưng sự trả thù của thiên nhiên sẽ sớm đến.\n",
            "Rắn từ quả bầu nhảy ra,\n",
            "Và cắn vào chân hắn, khiến hắn đau đớn.\n",
            "\n",
            "Đó là một bài học cho tất cả chúng ta,\n",
            "Để sống hòa hợp với thiên nhiên, và đừng bao giờ quên.\n",
            "Hãy tử tế và chăm chỉ,\n",
            "Và giúp đỡ khi cần thiết, hãy nhớ điều đó.\n"
          ]
        },
        {
          "output_type": "stream",
          "name": "stderr",
          "text": [
            "\r 64%|██████▍   | 76/118 [08:38<04:37,  6.62s/it]The attention mask and the pad token id were not set. As a consequence, you may observe unexpected behavior. Please pass your input's `attention_mask` to obtain reliable results.\n",
            "Setting `pad_token_id` to `eos_token_id`:2 for open-end generation.\n"
          ]
        },
        {
          "output_type": "stream",
          "name": "stdout",
          "text": [
            "Assistant:  Trong một khu rừng xanh tươi,\n",
            "Một đàn hươu đang chơi đùa.\n",
            "Với đôi mắt đen và sáng ngời,\n",
            "Và bộ lông màu nâu và vàng.\n",
            "\n",
            "Chúng gặm cỏ bên bờ suối,\n",
            "Một cảnh tượng thật yên bình.\n",
            "Nhưng khi họ nhìn thấy một điều,\n",
            "Một con nai con bị thương.\n",
            "\n",
            "Chân nó bị thương và bẩn thỉu,\n",
            "Bộ lông của nó bị vấy bùn.\n",
            "Nó đã bị thương nặng nề,\n",
            "Và cần sự giúp đỡ của chúng ta.\n",
            "\n",
            "Họ tập hợp lại để giúp đỡ,\n",
            "Và chăm sóc cho con nai con.\n",
            "Cùng nhau, họ chữa lành vết thương của mình,\n",
            "Và đảm bảo rằng anh ấy sẽ ổn thôi.\n"
          ]
        },
        {
          "output_type": "stream",
          "name": "stderr",
          "text": [
            "\r 65%|██████▌   | 77/118 [08:42<04:02,  5.91s/it]The attention mask and the pad token id were not set. As a consequence, you may observe unexpected behavior. Please pass your input's `attention_mask` to obtain reliable results.\n",
            "Setting `pad_token_id` to `eos_token_id`:2 for open-end generation.\n"
          ]
        },
        {
          "output_type": "stream",
          "name": "stdout",
          "text": [
            "Assistant:  Chú hươu con, với trái tim trong sáng,\n",
            "Cảm ơn những người bạn đã chia sẻ bữa ăn.\n",
            "Một con hươu già nhìn thấy hành động tử tế,\n",
            "Và ca ngợi họ với niềm tự hào.\n",
            "\n",
            "Cả đàn hươu, tràn đầy niềm vui,\n",
            "Vì đã làm điều đúng đắn, không cần phải nói.\n",
            "Hãy nhớ, hãy giúp đỡ những người gặp khó khăn,\n",
            "Như chú hươu con và bạn bè của nó đã làm.\n"
          ]
        },
        {
          "output_type": "stream",
          "name": "stderr",
          "text": [
            "\r 66%|██████▌   | 78/118 [08:48<03:53,  5.85s/it]The attention mask and the pad token id were not set. As a consequence, you may observe unexpected behavior. Please pass your input's `attention_mask` to obtain reliable results.\n",
            "Setting `pad_token_id` to `eos_token_id`:2 for open-end generation.\n"
          ]
        },
        {
          "output_type": "stream",
          "name": "stdout",
          "text": [
            "Assistant:  Rùa con nhìn thấy tổ ong trên cây,\n",
            "\"Đây có phải là nhà của tôi?\" nó hỏi với một tiếng kêu.\n",
            "Một bầy ong bay xuống, làm cho anh ta sợ hãi,\n",
            "Rùa con rút lui vào vỏ bọc của mình, để lại anh ta đứng yên.\n",
            "\n",
            "Anh ta tìm thấy một cái hang chuột gần đó,\n",
            "Nhưng một con chuột đã ngăn anh ta lại, \"Không, đây không phải là nhà của bạn.\"\n",
            "Rùa con cảm thấy buồn bã, nhưng anh biết điều gì đó,\n",
            "Nhà của anh ấy là nơi mà anh ấy cảm thấy an toàn và hạnh phúc.\n"
          ]
        },
        {
          "output_type": "stream",
          "name": "stderr",
          "text": [
            "\r 67%|██████▋   | 79/118 [08:56<04:21,  6.70s/it]The attention mask and the pad token id were not set. As a consequence, you may observe unexpected behavior. Please pass your input's `attention_mask` to obtain reliable results.\n",
            "Setting `pad_token_id` to `eos_token_id`:2 for open-end generation.\n"
          ]
        },
        {
          "output_type": "stream",
          "name": "stdout",
          "text": [
            "Assistant:  Vừa nói xong, rùa con liền nhảy xuống dòng nước,\n",
            "Bơi, bơi, bơi, bơi, bơi, bơi, bơi, bơi, bơi, bơi, bơi, bơi, bơi, bơi, bơi, bơi, bơi, bơi, bơi, bơi, bơi, bơi, bơi, bơi, bơi, bơi, bơi, bơi, bơi, bơi, bơi, bơi, bơi, bơi, bơi, bơi, bơi, bơi, bơi, bơi, bơi, bơi, bơi, bơi, bơi, bơi, bơi, bơi, bơi, bơi, bơi, bơi, bơi, bơi, bơi, bơi, bơi, bơi, bơi, bơi, bơi, bơi, bơi, bơi, bơi, bơi, bơi, bơi, bơi, bơi, bơi, bơi, bơi, bơi, bơi, bơi, bơi, bơi, bơi, bơi, bơi, bơi, bơi, bơi, bơi, bơi, bơi, bơi, bơi, bơi, bơi, bơi, bơi\n"
          ]
        },
        {
          "output_type": "stream",
          "name": "stderr",
          "text": [
            "\r 68%|██████▊   | 80/118 [09:04<04:23,  6.93s/it]The attention mask and the pad token id were not set. As a consequence, you may observe unexpected behavior. Please pass your input's `attention_mask` to obtain reliable results.\n",
            "Setting `pad_token_id` to `eos_token_id`:2 for open-end generation.\n"
          ]
        },
        {
          "output_type": "stream",
          "name": "stdout",
          "text": [
            "Assistant:  Trong câu chuyện về những con vật,\n",
            "Hãy học hỏi từ họ, đừng bao giờ vội vàng.\n",
            "Một buổi sáng mùa xuân,\n",
            "Gà con và vịt con,\n",
            "Đã đi ra ngoài để vui vẻ.\n",
            "\n",
            "\"Chúng ta sẽ bắt sâu bọ,\" gà con nói,\n",
            "\"Và bảo vệ khu vườn.\"\n",
            "Nhưng vịt con không có mỏ nhọn,\n",
            "Nên nó không thể bắt chúng.\n",
            "\n",
            "Voi xuất hiện với cái vòi dài,\n",
            "\"Để tôi giúp bạn,\" anh ta nói.\n",
            "Với sự giúp đỡ của voi,\n",
            "Vịt con đã bắt được nhiều sâu bọ.\n",
            "\n",
            "Vì vậy, hãy nhớ, hãy suy nghĩ trước khi hành động,\n",
            "Đừng vội vàng, hãy cẩn thận.\n",
            "Học hỏi từ những người khác,\n",
            "Và luôn cố gắng hết sức.\n"
          ]
        },
        {
          "output_type": "stream",
          "name": "stderr",
          "text": [
            "\r 69%|██████▊   | 81/118 [09:10<04:08,  6.71s/it]The attention mask and the pad token id were not set. As a consequence, you may observe unexpected behavior. Please pass your input's `attention_mask` to obtain reliable results.\n",
            "Setting `pad_token_id` to `eos_token_id`:2 for open-end generation.\n"
          ]
        },
        {
          "output_type": "stream",
          "name": "stdout",
          "text": [
            "Assistant:  Vịt và gà con, họ đã cùng nhau chơi đùa,\n",
            "Bơi trong ao, dưới ánh nắng mặt trời.\n",
            "Chú vịt con, nó bơi rất nhanh,\n",
            "Với lớp màng bao phủ đôi chân của mình.\n",
            "Nhưng chú gà con, anh ta không thể bơi,\n",
            "Và rơi xuống nước, ướt sũng và ướt đẫm.\n",
            "Voi đến gần, cứu lấy chú gà con,\n",
            "Và mang nó lên bờ, để khô ráo.\n",
            "Họ chơi đùa, cười và nhảy múa,\n",
            "Trong khi những con ruồi bay đi, sợ hãi.\n",
            "Một ngày vui vẻ, tràn ngập niềm vui,\n",
            "Cho vịt, gà và cả voi nữa.\n"
          ]
        },
        {
          "output_type": "stream",
          "name": "stderr",
          "text": [
            "\r 69%|██████▉   | 82/118 [09:18<04:15,  7.10s/it]The attention mask and the pad token id were not set. As a consequence, you may observe unexpected behavior. Please pass your input's `attention_mask` to obtain reliable results.\n",
            "Setting `pad_token_id` to `eos_token_id`:2 for open-end generation.\n"
          ]
        },
        {
          "output_type": "stream",
          "name": "stdout",
          "text": [
            "Assistant:  Một ngày nắng đẹp, trong công viên,\n",
            "Một con voi già với tiếng kèn thật ngọt ngào.\n",
            "Những chú gà con và vịt con nhảy múa và hát,\n",
            "Khi họ lắng nghe âm thanh của anh ấy, trái tim họ tràn ngập niềm vui.\n",
            "\n",
            "Các loài chim trên cây dừng lại và lắng nghe,\n",
            "Khi giai điệu của anh ấy vang lên, chúng không thể cưỡng lại.\n",
            "Với mỗi nốt nhạc, anh ta đã chạm vào trái tim của họ,\n",
            "Và họ biết rằng anh ấy là một người tốt, không bao giờ nói dối.\n",
            "\n",
            "Ngày hôm đó, họ trở thành bạn bè thân thiết nhất,\n",
            "Cùng nhau chia sẻ tình yêu và sự ấm áp.\n",
            "Vì vậy, hãy nhớ, hãy đối xử tử tế với tất cả mọi người,\n",
            "Và giúp đỡ khi bạn có thể, như chú voi tốt bụng này.\n"
          ]
        },
        {
          "output_type": "stream",
          "name": "stderr",
          "text": [
            "\r 70%|███████   | 83/118 [09:25<04:03,  6.96s/it]The attention mask and the pad token id were not set. As a consequence, you may observe unexpected behavior. Please pass your input's `attention_mask` to obtain reliable results.\n",
            "Setting `pad_token_id` to `eos_token_id`:2 for open-end generation.\n"
          ]
        },
        {
          "output_type": "stream",
          "name": "stdout",
          "text": [
            "Assistant:  Một lần nọ, trong một buổi chiều nắng đẹp,\n",
            "Vịt con đi bơi, cảm thấy thật vui vẻ.\n",
            "Nhưng khi kết thúc cuộc chơi,\n",
            "Quần áo của anh ta bị cuốn trôi bởi dòng nước.\n",
            "Anh ta khóc to, tìm kiếm quần áo của mình.\n",
            "Vào những chiếc lá sen, anh ta sẽ không bao giờ nhìn thấy.\n",
            "Thỏ nhìn thấy cảnh tượng đó,\n",
            "\"Lêu lêu, bạn vịt!\" Anh ta cười khúc khích.\n",
            "Vịt con đỏ mặt, chạy nhanh hơn.\n",
            "Để tránh sự chế giễu của Thỏ.\n",
            "Cuộc phiêu lưu nhỏ này, một bài học quý giá.\n",
            "Trong việc giữ quần áo của chúng ta, luôn ở gần.\n"
          ]
        },
        {
          "output_type": "stream",
          "name": "stderr",
          "text": [
            "\r 71%|███████   | 84/118 [09:27<03:13,  5.69s/it]The attention mask and the pad token id were not set. As a consequence, you may observe unexpected behavior. Please pass your input's `attention_mask` to obtain reliable results.\n",
            "Setting `pad_token_id` to `eos_token_id`:2 for open-end generation.\n"
          ]
        },
        {
          "output_type": "stream",
          "name": "stdout",
          "text": [
            "Assistant:  Ha ha! Mặt đỏ bừng,\n",
            "Chạy nhanh, nước mắt tuôn trào.\n",
            "Về nhà, mẹ hỏi tại sao,\n",
            "\"Con đã học được bài học của mình rồi đấy!\"\n",
            "\"Từ nay, con sẽ dọn dẹp sạch sẽ.\"\n",
            "Và hứa sẽ làm tốt hơn.\n"
          ]
        },
        {
          "output_type": "stream",
          "name": "stderr",
          "text": [
            "\r 72%|███████▏  | 85/118 [09:33<03:06,  5.65s/it]The attention mask and the pad token id were not set. As a consequence, you may observe unexpected behavior. Please pass your input's `attention_mask` to obtain reliable results.\n",
            "Setting `pad_token_id` to `eos_token_id`:2 for open-end generation.\n"
          ]
        },
        {
          "output_type": "stream",
          "name": "stdout",
          "text": [
            "Assistant:  Trong khu rừng xanh tươi,\n",
            "Thỏ và Rùa, những người bạn tốt.\n",
            "Một cuộc tranh luận nảy sinh,\n",
            "Ai là người chạy nhanh nhất?\n",
            "\n",
            "Họ đã đồng ý về một cuộc đua,\n",
            "Để xác định ai sẽ thắng.\n",
            "Thỏ chạy nhanh như chớp,\n",
            "Rùa bị bỏ lại phía sau.\n",
            "\n",
            "Nhưng thỏ dừng lại để chơi,\n",
            "Và ngủ dưới một cái cây.\n",
            "Khi nó thức dậy,\n",
            "Rùa đã gần đến đích.\n",
            "\n",
            "Rùa đã chiến thắng cuộc đua,\n",
            "Bài học rút ra, đừng bao giờ tự mãn.\n"
          ]
        },
        {
          "output_type": "stream",
          "name": "stderr",
          "text": [
            "\r 73%|███████▎  | 86/118 [09:39<03:05,  5.78s/it]The attention mask and the pad token id were not set. As a consequence, you may observe unexpected behavior. Please pass your input's `attention_mask` to obtain reliable results.\n",
            "Setting `pad_token_id` to `eos_token_id`:2 for open-end generation.\n"
          ]
        },
        {
          "output_type": "stream",
          "name": "stdout",
          "text": [
            "Assistant:  Một lần nọ, Thỏ và Rùa tham gia cuộc đua.\n",
            "Rùa chậm chạp, Thỏ cười nhạo, \"Tôi sẽ thắng!\"\n",
            "Nhưng sau đó, Thỏ ngủ quên, còn Rùa thì tiến lên phía trước.\n",
            "Khi Thỏ thức dậy, Rùa đã gần tới đích.\n",
            "Thỏ cố gắng hết sức, nhưng đã quá muộn.\n",
            "Rùa đã chiến thắng, Thỏ học được một bài học quý giá.\n",
            "Đừng bao giờ coi thường người khác, hãy khiêm tốn.\n",
            "Và đừng bao giờ tự mãn, luôn phấn đấu.\n",
            "Câu chuyện về Thỏ và Rùa dạy chúng ta phải cẩn thận.\n"
          ]
        },
        {
          "output_type": "stream",
          "name": "stderr",
          "text": [
            "\r 74%|███████▎  | 87/118 [09:45<03:03,  5.91s/it]The attention mask and the pad token id were not set. As a consequence, you may observe unexpected behavior. Please pass your input's `attention_mask` to obtain reliable results.\n",
            "Setting `pad_token_id` to `eos_token_id`:2 for open-end generation.\n"
          ]
        },
        {
          "output_type": "stream",
          "name": "stdout",
          "text": [
            "Assistant:  Nó cố gắng thêm vài lần nữa,\n",
            "Nhưng dù có cố gắng thế nào, nó vẫn không thể.\n",
            "Cáo ngồi xuống, tức giận,\n",
            "Nhìn những quả nho, và nói, \"Tôi thật ngu ngốc!\"\n",
            "Chùm nho còn xanh, quá chua,\n",
            "Không đáng để hái, nó nghĩ vậy.\n",
            "\"Tôi sẽ không hái nó,\" nó nói,\n",
            "Và bỏ đi, không hề hối tiếc.\n",
            "Ý nghĩa của câu chuyện này rất rõ ràng,\n",
            "Đừng tự lừa dối bản thân, đừng tự lừa dối mình.\n",
            "Hãy biết giới hạn của mình, đừng cố gắng quá sức.\n",
            "Hãy chấp nhận sự thật, đừng giả vờ.\n"
          ]
        },
        {
          "output_type": "stream",
          "name": "stderr",
          "text": [
            "\r 75%|███████▍  | 88/118 [09:52<03:01,  6.06s/it]The attention mask and the pad token id were not set. As a consequence, you may observe unexpected behavior. Please pass your input's `attention_mask` to obtain reliable results.\n",
            "Setting `pad_token_id` to `eos_token_id`:2 for open-end generation.\n"
          ]
        },
        {
          "output_type": "stream",
          "name": "stdout",
          "text": [
            "Assistant:  Một lần, hai con gà, anh em ruột thịt,\n",
            "Cãi nhau suốt ngày, không thể chịu nổi.\n",
            "Mỗi đứa đều nghĩ mình là vua,\n",
            "Nông trại này thuộc về tôi, không ai khác.\n",
            "\n",
            "Họ đánh nhau, không ngừng nghỉ,\n",
            "Để chứng minh họ xứng đáng với vương miện.\n",
            "Một trận chiến tàn khốc, không khoan nhượng,\n",
            "Người chiến thắng sẽ cai trị, kẻ thua cuộc sẽ khóc.\n",
            "\n",
            "Và thế là, một con gà đã chiến thắng,\n",
            "Trong khi con kia, nó đã mất.\n",
            "Nhưng họ vẫn là anh em, dù sao đi nữa,\n",
            "Yêu thương và bảo vệ, đó là những gì họ nên làm.\n"
          ]
        },
        {
          "output_type": "stream",
          "name": "stderr",
          "text": [
            "\r 75%|███████▌  | 89/118 [09:55<02:35,  5.37s/it]The attention mask and the pad token id were not set. As a consequence, you may observe unexpected behavior. Please pass your input's `attention_mask` to obtain reliable results.\n",
            "Setting `pad_token_id` to `eos_token_id`:2 for open-end generation.\n"
          ]
        },
        {
          "output_type": "stream",
          "name": "stdout",
          "text": [
            "Assistant:  Một con gà trống gáy vang,\n",
            "Một con chim ưng bay vút lên.\n",
            "Con gà chiến thắng đã bị bắt,\n",
            "Con gà thua cuộc nằm trên mặt đất.\n",
            "\n",
            "Câu chuyện ngụ ngôn dạy chúng ta rằng,\n",
            "Tình yêu gia đình là điều quan trọng nhất.\n",
            "Hãy đoàn kết lại, đừng để kẻ thù chia rẽ,\n",
            "Và bảo vệ những gì thuộc về chúng ta.\n"
          ]
        },
        {
          "output_type": "stream",
          "name": "stderr",
          "text": [
            "\r 76%|███████▋  | 90/118 [10:00<02:20,  5.03s/it]The attention mask and the pad token id were not set. As a consequence, you may observe unexpected behavior. Please pass your input's `attention_mask` to obtain reliable results.\n",
            "Setting `pad_token_id` to `eos_token_id`:2 for open-end generation.\n"
          ]
        },
        {
          "output_type": "stream",
          "name": "stdout",
          "text": [
            "Assistant:  Một lần nọ, một con cáo rơi xuống giếng,\n",
            "Nó cố gắng trèo lên, nhưng chẳng thấy gì.\n",
            "Một con dê nghe thấy tiếng kêu của nó, \"Có chuyện gì thế?\"\n",
            "\"Tôi đến từ ngôi làng bên cạnh,\" con cáo trả lời, \"và tôi cần nước.\"\n",
            "Con dê nhảy xuống giếng, và con cáo nắm lấy sừng của nó.\n",
            "Cả hai đều leo lên, và con cáo đã được cứu.\n"
          ]
        },
        {
          "output_type": "stream",
          "name": "stderr",
          "text": [
            "\r 77%|███████▋  | 91/118 [10:08<02:45,  6.13s/it]The attention mask and the pad token id were not set. As a consequence, you may observe unexpected behavior. Please pass your input's `attention_mask` to obtain reliable results.\n",
            "Setting `pad_token_id` to `eos_token_id`:2 for open-end generation.\n"
          ]
        },
        {
          "output_type": "stream",
          "name": "stdout",
          "text": [
            "Assistant:  Câu chuyện về con lừa hát dạy ta đừng tin tưởng ai đó một cách mù quáng.\n",
            "Một con lừa, không hài lòng với thức ăn của mình,\n",
            "Tìm kiếm sự an ủi ở một cánh đồng xanh tươi.\n",
            "Nó gặp một con cáo, họ trở thành bạn bè,\n",
            "Và tìm thấy một cánh đồng đầy dưa hấu.\n",
            "\n",
            "Họ ăn dưa hấu, và con lừa cảm thấy vui vẻ,\n",
            "\"Tôi muốn hát!\" Nó nói với con cáo.\n",
            "Nhưng con cáo đã có một kế hoạch khác,\n",
            "Để lừa con lừa vào bẫy.\n",
            "\n",
            "Con cáo bảo con lừa hát, \"Hãy hát cho tôi nghe!\"\n",
            "Con lừa bắt đầu hát, và con cáo lắng nghe.\n",
            "Khi con lừa hát xong, con cáo nói, \"Giờ thì hãy giúp tôi.\"\n",
            "Với việc hái dưa hấu, và chúng ta sẽ chia sẻ.\n",
            "\n",
            "Con lừa tin tưởng con cáo, và giúp nó hái dưa hấu,\n",
            "Nhưng\n"
          ]
        },
        {
          "output_type": "stream",
          "name": "stderr",
          "text": [
            "\r 78%|███████▊  | 92/118 [10:12<02:23,  5.51s/it]The attention mask and the pad token id were not set. As a consequence, you may observe unexpected behavior. Please pass your input's `attention_mask` to obtain reliable results.\n",
            "Setting `pad_token_id` to `eos_token_id`:2 for open-end generation.\n"
          ]
        },
        {
          "output_type": "stream",
          "name": "stdout",
          "text": [
            "Assistant:  Một con cáo ranh mãnh,\n",
            "Một con lừa hát,\n",
            "Cáo nghe thấy tiếng hát,\n",
            "Và nhanh chóng trốn thoát.\n",
            "\n",
            "Lời khuyên của cáo,\n",
            "Lừa không nghe theo,\n",
            "Và con cáo đã lẻn đi,\n",
            "Trước khi dân làng đến.\n",
            "\n",
            "Bài học ở đây,\n",
            "Hãy lắng nghe những gì người khác nói,\n",
            "Vì đôi khi,\n",
            "Những lời khuyên có thể cứu vãn ngày hôm nay.\n"
          ]
        },
        {
          "output_type": "stream",
          "name": "stderr",
          "text": [
            "\r 79%|███████▉  | 93/118 [10:20<02:35,  6.23s/it]The attention mask and the pad token id were not set. As a consequence, you may observe unexpected behavior. Please pass your input's `attention_mask` to obtain reliable results.\n",
            "Setting `pad_token_id` to `eos_token_id`:2 for open-end generation.\n"
          ]
        },
        {
          "output_type": "stream",
          "name": "stdout",
          "text": [
            "Assistant:  Một lần nọ, trong đêm tối,\n",
            "Tích Chu buồn bã trở về nhà.\n",
            "Anh ta tìm kiếm khắp nơi,\n",
            "Nhưng không thể tìm thấy con chó con yêu quý của mình.\n",
            "\n",
            "Anh ta đi qua ngôi nhà của người hàng xóm,\n",
            "Và thấy anh ta ngồi trên hiên nhà.\n",
            "\"Chúc ngủ ngon,\" anh nói, \"Tôi hy vọng rằng\n",
            "Ông đã nhìn thấy con chó con của tôi ở đâu?\"\n",
            "\n",
            "Người hàng xóm trả lời, \"Ồ, tôi thấy nó đây.\n",
            "Nó đang chơi đùa trong sân của tôi.\n",
            "Tôi không biết nó thuộc về ai,\n",
            "Vì vậy tôi đã giữ nó cho đến bây giờ.\"\n",
            "\n",
            "Tích Chu rất vui mừng,\n",
            "Khi anh nhận lại con chó con của mình.\n",
            "Anh học được một bài học quý giá,\n",
            "Đừng bao giờ bỏ cuộc trước khi thử.\n"
          ]
        },
        {
          "output_type": "stream",
          "name": "stderr",
          "text": [
            "\r 80%|███████▉  | 94/118 [10:29<02:47,  6.98s/it]The attention mask and the pad token id were not set. As a consequence, you may observe unexpected behavior. Please pass your input's `attention_mask` to obtain reliable results.\n",
            "Setting `pad_token_id` to `eos_token_id`:2 for open-end generation.\n"
          ]
        },
        {
          "output_type": "stream",
          "name": "stdout",
          "text": [
            "Assistant:  Trong bóng tối, bà ấy thức dậy,\n",
            "Quạt cho Tích Chu đang ngủ say.\n",
            "Tình yêu của bà ấy thật cao cả và rộng lớn,\n",
            "Như bầu trời và đại dương vậy.\n",
            "\n",
            "Một ngày nọ, một người lạ đã nói,\n",
            "\"Bà ơi, con sẽ nhớ mãi lòng tốt của bà.\"\n",
            "Nhưng khi lớn lên, Tích Chu không quan tâm,\n",
            "Làm việc chăm chỉ trong khi anh ta vui vẻ chơi đùa.\n",
            "\n",
            "Bà ấy ốm yếu, không ai ở bên cạnh,\n",
            "Vì Tích Chu vẫn còn chơi đùa với bạn bè của mình.\n",
            "Và rồi, bà qua đời, không ai biết.\n",
            "Để lại Tích Chu cô đơn và buồn bã.\n",
            "\n",
            "Tích Chu khóc lóc và hối hận,\n",
            "Về tình yêu mà ông đã bỏ lỡ.\n",
            "Ông tìm kiếm sự giúp đỡ từ một vị thần,\n",
            "Để mang bà trở về từ cõi chết.\n",
            "\n",
            "Vị thần nói, \"Con phải đi tìm thuốc\n"
          ]
        },
        {
          "output_type": "stream",
          "name": "stderr",
          "text": [
            "\r 81%|████████  | 95/118 [10:36<02:38,  6.90s/it]The attention mask and the pad token id were not set. As a consequence, you may observe unexpected behavior. Please pass your input's `attention_mask` to obtain reliable results.\n",
            "Setting `pad_token_id` to `eos_token_id`:2 for open-end generation.\n"
          ]
        },
        {
          "output_type": "stream",
          "name": "stdout",
          "text": [
            "Assistant:  Khát khao cháy bỏng, bà gọi tên tôi\n",
            "\"Tích Chu, Tích Chu, hãy trả lời!\"\n",
            "Nhưng anh ta không nghe thấy, nên tôi phải đi\n",
            "Để tìm sự sống, trong khi anh ta ngủ say\n",
            "\n",
            "Khi tôi trở về, bà tôi đã biến mất\n",
            "Một con chim, bay cao trên bầu trời\n",
            "\"Bà ơi, bà đi đâu?\" Tôi khóc\n",
            "\"Cúc... cu... cu! Cúc... cu... cu!\" Bà trả lời\n",
            "\n",
            "Quá muộn, bà tôi đã uống nước\n",
            "Không còn là người, giờ là một con chim\n",
            "\"Tôi không quay lại,\" cô ấy nói, \"Tôi sẽ không bao giờ làm vậy\"\n",
            "Và bay đi, để lại tôi đau lòng.\n"
          ]
        },
        {
          "output_type": "stream",
          "name": "stderr",
          "text": [
            "\r 81%|████████▏ | 96/118 [10:44<02:40,  7.28s/it]The attention mask and the pad token id were not set. As a consequence, you may observe unexpected behavior. Please pass your input's `attention_mask` to obtain reliable results.\n",
            "Setting `pad_token_id` to `eos_token_id`:2 for open-end generation.\n"
          ]
        },
        {
          "output_type": "stream",
          "name": "stdout",
          "text": [
            "Assistant:  Cuối cùng Tích Chu tìm thấy một con chim\n",
            "Uống nước từ một dòng suối mát mẻ.\n",
            "\"Bà ơi!\" cậu bé kêu lên, \"Xin hãy quay lại với tôi.\"\n",
            "\"Tôi sẽ đi lấy nước cho cô,\n",
            "Và tôi sẽ chăm sóc cô,\n",
            "Tôi hứa tôi sẽ không bao giờ làm cô buồn nữa. \"\n",
            "- Cúc... cu... cu, đã quá muộn rồi, cháu ơi!\n",
            "Bà không thể trở lại với cháu được nữa.\n",
            "Nghe những lời của con chim, Tích Chu bắt đầu khóc\n",
            "Ông nhớ bà mình rất nhiều,\n",
            "Và cảm thấy tội lỗi vì hành động của mình.\n",
            "Một bà tiên xuất hiện trước mặt anh ta,\n",
            "\"Tích Chu thân mến,\" bà ấy nói, \"nếu bạn muốn\n",
            "Để bà của bạn trở lại như cũ,\n",
            "Bạn phải đi lấy nước suối tiên cho bà ấy uống. \"\n"
          ]
        },
        {
          "output_type": "stream",
          "name": "stderr",
          "text": [
            "\r 82%|████████▏ | 97/118 [10:53<02:42,  7.73s/it]The attention mask and the pad token id were not set. As a consequence, you may observe unexpected behavior. Please pass your input's `attention_mask` to obtain reliable results.\n",
            "Setting `pad_token_id` to `eos_token_id`:2 for open-end generation.\n"
          ]
        },
        {
          "output_type": "stream",
          "name": "stdout",
          "text": [
            "Assistant:  Trong rừng sâu, nơi bóng tối ngự trị,\n",
            "Một con ếch nhỏ tên Tích Chu đã tìm thấy.\n",
            "Nó chạy rất nhanh, không ngừng nghỉ,\n",
            "Qua những ngọn đồi và thung lũng, nó đã tìm ra đường.\n",
            "\n",
            "Suối tiên, nó tìm thấy, với niềm vui sướng,\n",
            "Đầy nước mát, để chữa lành cho bà của mình.\n",
            "Với đôi tay run rẩy, nó đổ đầy bình nước,\n",
            "Và quay trở lại, với trái tim tràn đầy tình yêu.\n",
            "\n",
            "\"Bà ơi!\" Nó kêu lên, khi nó bước vào trong,\n",
            "\"Tôi đã mang nước về cho bà, hãy uống đi.\"\n",
            "Với một nụ cười trên môi, bà uống từng ngụm,\n",
            "Và trở lại hình dạng ban đầu, thật tuyệt vời.\n",
            "\n",
            "Tích Chu ôm chặt bà, nước mắt chảy dài,\n",
            "\"Con xin lỗi, mẹ ơi, con hứa sẽ ở bên cạnh mẹ.\"\n",
            "Từ đó trở đi,\n"
          ]
        },
        {
          "output_type": "stream",
          "name": "stderr",
          "text": [
            "\r 83%|████████▎ | 98/118 [11:01<02:40,  8.02s/it]The attention mask and the pad token id were not set. As a consequence, you may observe unexpected behavior. Please pass your input's `attention_mask` to obtain reliable results.\n",
            "Setting `pad_token_id` to `eos_token_id`:2 for open-end generation.\n"
          ]
        },
        {
          "output_type": "stream",
          "name": "stdout",
          "text": [
            "Assistant:  Ngày xửa ngày xưa, có hai chị em tên là Tấm và Cám.\n",
            "Mẹ Tấm đã mất, cha lấy vợ mới.\n",
            "Cha rất yêu thương Tấm, nhưng rồi ông ta bị ốm.\n",
            "Ông ấy không thể ở bên chúng tôi nữa.\n",
            "\n",
            "Tấm phải sống với mẹ kế, người rất độc ác.\n",
            "Cô ấy đối xử với Tấm như rác rưởi.\n",
            "Trong khi đó, Cám được phép vui vẻ cả ngày.\n",
            "Một ngày nọ, mẹ kế nói: \"Hãy ra ngoài và bắt cá.\"\n",
            "\n",
            "Tấm và Cám đều ra đồng.\n",
            "Nhưng Cám đã lừa Tấm.\n",
            "Cô ấy ném chiếc giày của mình xuống nước,\n",
            "Và bảo Tấm nhặt nó lên.\n",
            "\n",
            "Tấm tìm kiếm khắp nơi,\n",
            "Nhưng không thể tìm thấy chiếc giày.\n",
            "Cám cười nhạo cô ấy,\n",
            "Và trở về nhà với mẹ kế.\n",
            "\n",
            "Nhưng Tấm không bỏ cuộc.\n",
            "Cô ấy cầu xin sự giúp đỡ từ\n"
          ]
        },
        {
          "output_type": "stream",
          "name": "stderr",
          "text": [
            "\r 84%|████████▍ | 99/118 [11:08<02:26,  7.74s/it]The attention mask and the pad token id were not set. As a consequence, you may observe unexpected behavior. Please pass your input's `attention_mask` to obtain reliable results.\n",
            "Setting `pad_token_id` to `eos_token_id`:2 for open-end generation.\n"
          ]
        },
        {
          "output_type": "stream",
          "name": "stdout",
          "text": [
            "Assistant:  Tấm vâng lời mẹ, bắt cá thật nhiều.\n",
            "Cám thì lang thang, không có gì cả.\n",
            "Tấm thấy giỏ cá, cô ấy rất vui mừng.\n",
            "Nhưng Cám đã đánh cắp chúng, và bỏ chạy.\n",
            "Tấm khóc, nhưng cô ấy không thể làm gì được.\n",
            "Cám cười, khi cô ấy trở về nhà.\n",
            "Tấm cầu xin mẹ giúp đỡ, bà ta nói rằng\n",
            "\"Con phải mạnh mẽ, và đừng bao giờ ngừng cố gắng.\"\n",
            "Tấm nghe lời mẹ, và cô ấy đã cố gắng hơn nữa.\n",
            "Và cuối cùng, cô ấy cũng giành chiến thắng.\n",
            "Cám học được một bài học, và cô ấy đã thay đổi.\n",
            "Để đối xử với người khác bằng sự tôn trọng và tình yêu thương.\n"
          ]
        },
        {
          "output_type": "stream",
          "name": "stderr",
          "text": [
            "\r 85%|████████▍ | 100/118 [11:14<02:09,  7.17s/it]The attention mask and the pad token id were not set. As a consequence, you may observe unexpected behavior. Please pass your input's `attention_mask` to obtain reliable results.\n",
            "Setting `pad_token_id` to `eos_token_id`:2 for open-end generation.\n"
          ]
        },
        {
          "output_type": "stream",
          "name": "stdout",
          "text": [
            "Assistant:  Bụt xuất hiện, Tấm khóc lóc,\n",
            "\"Tại sao em khóc?\" ông ấy hỏi.\n",
            "Tấm kể lại câu chuyện, và Bụt lắng nghe.\n",
            "\"Tìm kiếm trong giỏ,\" ông nói, \"Có thể có thứ gì đó.\"\n",
            "Chỉ còn lại một con cá bống.\n",
            "\"Hãy mang nó về nhà,\" ông nói, \"Và nuôi dưỡng nó.\"\n",
            "Mỗi ngày, cho nó ăn.\n",
            "Khi cho ăn, hãy gọi tên anh ta,\n",
            "\"Bống bống bang bang!\"\n",
            "Ăn cơm vàng, cơm bạc nhà ta.\n",
            "Đừng ăn cơm hẩm, cháo hoa nhà người.\n"
          ]
        },
        {
          "output_type": "stream",
          "name": "stderr",
          "text": [
            "\r 86%|████████▌ | 101/118 [11:23<02:09,  7.64s/it]The attention mask and the pad token id were not set. As a consequence, you may observe unexpected behavior. Please pass your input's `attention_mask` to obtain reliable results.\n",
            "Setting `pad_token_id` to `eos_token_id`:2 for open-end generation.\n"
          ]
        },
        {
          "output_type": "stream",
          "name": "stdout",
          "text": [
            "Assistant:  Một lần nọ, Tấm nghe theo lời Phật dạy,\n",
            "Mang Bống về nhà, thả xuống giếng.\n",
            "Mỗi ngày, cô ấy sẽ mang thức ăn cho nó,\n",
            "Hai bát cơm, một cho Bống, một cho tôi.\n",
            "Bống lớn lên rất nhanh,\n",
            "Tấm vui mừng, nhưng mẹ kế lại ghen tị.\n",
            "Cô ta bảo Tấm đi chăn trâu,\n",
            "Và nói dối, \"Đồng làng bị cấm.\"\n",
            "Nhưng Tấm không tin, và tiếp tục làm việc của mình.\n",
            "Và mỗi ngày, cô ấy sẽ mang thức ăn cho Bống.\n",
            "Một ngày nọ, khi Tấm đang đi lấy nước,\n",
            "Bà thấy một con cá nhỏ, thật đẹp.\n",
            "Nó có vảy vàng và đuôi đỏ,\n",
            "Và đôi mắt sáng lấp lánh dưới ánh mặt trời.\n",
            "Tấm nhận ra đó chính là Bống,\n",
            "Và cô ấy khóc, vì cô ấy biết điều gì sẽ xảy ra.\n",
            "Nhưng Bống nói, \"\n"
          ]
        },
        {
          "output_type": "stream",
          "name": "stderr",
          "text": [
            "\r 86%|████████▋ | 102/118 [11:32<02:07,  7.96s/it]The attention mask and the pad token id were not set. As a consequence, you may observe unexpected behavior. Please pass your input's `attention_mask` to obtain reliable results.\n",
            "Setting `pad_token_id` to `eos_token_id`:2 for open-end generation.\n"
          ]
        },
        {
          "output_type": "stream",
          "name": "stdout",
          "text": [
            "Assistant:  Nghe lời mẹ, tôi dẫn trâu đi xa.\n",
            "Ở nhà, mẹ con Cám gọi tên tôi.\n",
            "Bống nghe tiếng, trồi lên khỏi giếng.\n",
            "Hai mẹ con bắt lấy, giết chết Bống.\n",
            "Chiều nay, tôi trở về với con trâu.\n",
            "Không thấy Bống, tôi khóc rất nhiều.\n",
            "Bụt xuất hiện, hỏi tại sao tôi khóc.\n",
            "Bống đã bị giết, Bụt nói với tôi.\n",
            "Tôi đau lòng, nước mắt chảy dài.\n",
            "Bụt bảo tôi hãy tìm một cái gì đó để chôn cất.\n",
            "Tôi tìm thấy xương của Bống, chôn chúng trong vườn.\n",
            "Vào ngày giỗ cha tôi, tôi đã trồng một cây thị.\n",
            "Từ trên cây, một quả rơi xuống.\n",
            "Một bà lão hỏi mua nó, nhưng tôi từ chối.\n",
            "Bà ấy trả giá cao hơn, và tôi đồng ý bán.\n",
            "Khi bà lão cắn miếng đầu tiên,\n",
            "Bà ấy biến thành\n"
          ]
        },
        {
          "output_type": "stream",
          "name": "stderr",
          "text": [
            "\r 87%|████████▋ | 103/118 [11:41<02:03,  8.24s/it]The attention mask and the pad token id were not set. As a consequence, you may observe unexpected behavior. Please pass your input's `attention_mask` to obtain reliable results.\n",
            "Setting `pad_token_id` to `eos_token_id`:2 for open-end generation.\n"
          ]
        },
        {
          "output_type": "stream",
          "name": "stdout",
          "text": [
            "Assistant:  Trong ngôi nhà nhỏ, Tấm tìm kiếm thật kỹ lưỡng,\n",
            "Để tìm xương của Bống, cô ấy đã cố gắng hết sức mình.\n",
            "Một con gà xuất hiện, nó nói với cô ấy, \"Hãy cho tôi một nắm thóc!\"\n",
            "\"Tôi sẽ giúp bạn tìm những gì bạn đang tìm kiếm.\"\n",
            "Tấm đưa cho cô ấy một nắm thóc, và con gà đã làm việc của mình.\n",
            "Nó đào bới đống tro tàn, và tìm thấy những gì cần thiết.\n",
            "Xương của Bống được tìm thấy, và Tấm vui mừng khôn xiết.\n",
            "Cô ấy cẩn thận cất chúng đi, để giữ an toàn cho họ.\n",
            "Nhà vua tổ chức một lễ kỷ niệm lớn, và mọi người đều tham gia.\n",
            "Mẹ và Cám háo hức chờ đợi ngày này.\n",
            "Tấm cầu xin được tham gia, nhưng mẹ kế cô ấy đã nói,\n",
            "\"Trộn thóc và gạo, và nhặt chúng lên trước khi bạn có\n"
          ]
        },
        {
          "output_type": "stream",
          "name": "stderr",
          "text": [
            "\r 88%|████████▊ | 104/118 [11:50<02:00,  8.60s/it]The attention mask and the pad token id were not set. As a consequence, you may observe unexpected behavior. Please pass your input's `attention_mask` to obtain reliable results.\n",
            "Setting `pad_token_id` to `eos_token_id`:2 for open-end generation.\n"
          ]
        },
        {
          "output_type": "stream",
          "name": "stdout",
          "text": [
            "Assistant:  Bụt xuất hiện, hỏi thăm,\n",
            "\"Tại sao em khóc, con yêu?\"\n",
            "Tấm kể cho ông nghe câu chuyện của mình,\n",
            "Và nỗi buồn của cô ấy, những gì cô ấy đã làm.\n",
            "\n",
            "Ông sai chim sẻ nhặt hạt,\n",
            "Một công việc nhanh chóng, họ đã hoàn thành.\n",
            "Nhưng Tấm vẫn còn đau khổ,\n",
            "Cô ấy cần quần áo để tham dự buổi khiêu vũ.\n",
            "\n",
            "\"Làm sao con khóc, con yêu?\" Bụt hỏi,\n",
            "\"Quần áo của tôi rách rưới, tôi sẽ không đi đâu cả.\"\n",
            "\"Hãy đào bốn hũ dưới gầm giường,\" Bụt nói,\n",
            "\"Và tìm thấy những kho báu mà anh hằng mơ ước.\"\n",
            "\n",
            "Trong hũ đầu tiên, một bộ đồ đẹp đẽ,\n",
            "Một chiếc váy lấp lánh, một đôi giày thêu.\n",
            "Hũ thứ hai, một con ngựa nhỏ,\n",
            "Nhưng khi nó chạm đất, nó trở nên lớn hơn nhiều\n"
          ]
        },
        {
          "output_type": "stream",
          "name": "stderr",
          "text": [
            "\r 89%|████████▉ | 105/118 [11:54<01:33,  7.19s/it]The attention mask and the pad token id were not set. As a consequence, you may observe unexpected behavior. Please pass your input's `attention_mask` to obtain reliable results.\n",
            "Setting `pad_token_id` to `eos_token_id`:2 for open-end generation.\n"
          ]
        },
        {
          "output_type": "stream",
          "name": "stdout",
          "text": [
            "Assistant:  Ngựa phi nhanh, tới kinh thành,\n",
            "Một bước chân bị lạc, trong bùn.\n",
            "Tấm vội vàng, với khăn gói,\n",
            "Một chiếc giày còn lại, giữa đám đông.\n",
            "\n",
            "Voi ngự, không chịu đi,\n",
            "Nhà vua nhìn thấy một chiếc giày.\n",
            "\"Đẹp quá,\" ông ta nói, \"người mang nó phải đẹp.\"\n",
            "Vào ngày mai, anh sẽ tìm cô ấy.\n"
          ]
        },
        {
          "output_type": "stream",
          "name": "stderr",
          "text": [
            "\r 90%|████████▉ | 106/118 [12:02<01:28,  7.34s/it]The attention mask and the pad token id were not set. As a consequence, you may observe unexpected behavior. Please pass your input's `attention_mask` to obtain reliable results.\n",
            "Setting `pad_token_id` to `eos_token_id`:2 for open-end generation.\n"
          ]
        },
        {
          "output_type": "stream",
          "name": "stdout",
          "text": [
            "Assistant:  Ai ai cũng háo hức đi thử giày,\n",
            "Nhưng không một ai vừa vặn, dù cố gắng hết sức.\n",
            "Mẹ con Cám cũng đã thử, nhưng họ không thể tìm ra,\n",
            "Tới lượt Tấm, cô ấy đã có một cú đánh lớn!\n",
            "\"Chuông khánh còn chẳng ăn ai, nữa là mảnh chĩnh mảnh chai bờ rào.\"\n",
            "Nhưng khi cô ấy mang đôi giày vào, nó vừa vặn hoàn hảo.\n",
            "Quân lính reo hò, và nhà vua rất vui mừng,\n",
            "Họ cưới nhau, và Tấm trở thành nữ hoàng.\n",
            "Mẹ con Cám ghen tị, nhưng họ không thể làm gì,\n",
            "Vào ngày giỗ cha, Tấm xin phép về nhà.\n",
            "Cô ấy đã làm một bữa tiệc, và mọi người đều hạnh phúc,\n",
            "Và mẹ con Cám chỉ có thể nhìn từ xa.\n"
          ]
        },
        {
          "output_type": "stream",
          "name": "stderr",
          "text": [
            "\r 91%|█████████ | 107/118 [12:06<01:11,  6.46s/it]The attention mask and the pad token id were not set. As a consequence, you may observe unexpected behavior. Please pass your input's `attention_mask` to obtain reliable results.\n",
            "Setting `pad_token_id` to `eos_token_id`:2 for open-end generation.\n"
          ]
        },
        {
          "output_type": "stream",
          "name": "stdout",
          "text": [
            "Assistant:  Mẹ ghẻ bảo Tấm, \"Ngày giỗ cha con\"\n",
            "Trèo lên cây cau, dâng lễ vật.\n",
            "Tấm nghe cây rung lắc, hỏi thăm.\n",
            "- Mẹ ghẻ nói, \"Kiến cắn, tôi sẽ bắt chúng.\"\n",
            "Khi Tấm ngã xuống, cô ấy đã chết đuối.\n",
            "Quần áo của Tấm được trao cho Cám.\n",
            "Vua bị lừa, tin vào lời nói dối.\n",
            "Cám bây giờ sống trong sự giàu có.\n"
          ]
        },
        {
          "output_type": "stream",
          "name": "stderr",
          "text": [
            "\r 92%|█████████▏| 108/118 [12:11<01:00,  6.08s/it]The attention mask and the pad token id were not set. As a consequence, you may observe unexpected behavior. Please pass your input's `attention_mask` to obtain reliable results.\n",
            "Setting `pad_token_id` to `eos_token_id`:2 for open-end generation.\n"
          ]
        },
        {
          "output_type": "stream",
          "name": "stdout",
          "text": [
            "Assistant:  Nhà vua giận dữ, không nói gì.\n",
            "Tấm chết, biến thành chim Vàng Anh.\n",
            "Bay vào cung điện, nơi vua ở.\n",
            "Một ngày nọ, Cám giặt đồ.\n",
            "Nghe tiếng chim hót, \"Giặt áo chồng tôi!\"\n",
            "Cám sợ hãi, Vàng Anh bay đi.\n",
            "Theo nhà vua, nó sẽ đi cùng.\n",
            "\"Vàng Anh, Vàng Anh, có phải vợ anh chui vào tay áo?\"\n",
            "Chim đậu trên tay vua, chui vào.\n",
            "Giờ đây, nhà vua đã có một người bạn mới.\n"
          ]
        },
        {
          "output_type": "stream",
          "name": "stderr",
          "text": [
            "\r 92%|█████████▏| 109/118 [12:20<01:03,  7.01s/it]The attention mask and the pad token id were not set. As a consequence, you may observe unexpected behavior. Please pass your input's `attention_mask` to obtain reliable results.\n",
            "Setting `pad_token_id` to `eos_token_id`:2 for open-end generation.\n"
          ]
        },
        {
          "output_type": "stream",
          "name": "stdout",
          "text": [
            "Assistant:  Một ngày nọ, Cám cảm thấy rất bực bội.\n",
            "Cô ấy đã về nhà và nói với mẹ mình, \"Tôi cần sự giúp đỡ của bạn.\"\n",
            "Mẹ cô ấy nói, \"Hãy để tôi nghĩ xem.\"\n",
            "\"Bắt con chim đó và ăn nó,\" bà nói.\n",
            "Cám làm theo lời khuyên của mẹ mình, và chim biến mất.\n",
            "Lông chim bị vứt đi, và một cái cây xuất hiện.\n",
            "Nhà vua nhìn thấy cái cây và rất ngạc nhiên.\n",
            "Cây này trở thành một nơi tuyệt vời để nghỉ ngơi.\n",
            "Nhưng Cám không hài lòng, vì vậy cô ấy đã nói dối.\n",
            "Mẹ cô ấy bảo cô ấy chặt cây xuống.\n",
            "Cám làm như vậy, và một khung cửi xuất hiện.\n",
            "Khi Cám dệt, khung cửi kêu.\n",
            "\"Lấy chồng chị, chị sẽ khoét mắt ra!\"\n",
            "Cám sợ hãi và đốt khung cửi.\n",
            "Một cây mới xuất hiện,\n"
          ]
        },
        {
          "output_type": "stream",
          "name": "stderr",
          "text": [
            "\r 93%|█████████▎| 110/118 [12:27<00:56,  7.01s/it]The attention mask and the pad token id were not set. As a consequence, you may observe unexpected behavior. Please pass your input's `attention_mask` to obtain reliable results.\n",
            "Setting `pad_token_id` to `eos_token_id`:2 for open-end generation.\n"
          ]
        },
        {
          "output_type": "stream",
          "name": "stdout",
          "text": [
            "Assistant:  Tấm mang về nhà,\n",
            "Trên gối, cô ấy ngửi, nhưng không ăn.\n",
            "Mỗi ngày cô ấy đi chợ,\n",
            "Về nhà, thức ăn được chuẩn bị sẵn sàng.\n",
            "\n",
            "Một ngày nọ, cô ấy cảm thấy bối rối,\n",
            "Cô ấy giả vờ đi chợ, rồi quay trở lại.\n",
            "Cô nhìn qua cửa sổ,\n",
            "Một cô gái bước ra khỏi quả thị.\n",
            "\n",
            "Cô ấy nhanh chóng xé vỏ,\n",
            "Và ôm chặt cô ấy trong vòng tay.\n",
            "Cô nhận cô làm con gái mình,\n",
            "Tấm giúp đỡ công việc hàng ngày.\n",
            "\n",
            "Bà lão mở một quán nước,\n",
            "Tấm giúp têm trầu cánh phượng.\n",
            "Khách hàng đến mỗi ngày,\n",
            "Cuộc sống của họ thật hạnh phúc và vui vẻ.\n"
          ]
        },
        {
          "output_type": "stream",
          "name": "stderr",
          "text": [
            "\r 94%|█████████▍| 111/118 [12:33<00:46,  6.59s/it]The attention mask and the pad token id were not set. As a consequence, you may observe unexpected behavior. Please pass your input's `attention_mask` to obtain reliable results.\n",
            "Setting `pad_token_id` to `eos_token_id`:2 for open-end generation.\n"
          ]
        },
        {
          "output_type": "stream",
          "name": "stdout",
          "text": [
            "Assistant:  Nhà vua muốn gặp con gái của bà,\n",
            "Bà gọi Tấm, cô ấy rất vui.\n",
            "Vua nhận ra Tấm, anh ta đã mang cô ấy đi.\n",
            "Về đến cung điện, cô ấy nói với nhà vua.\n",
            "\n",
            "Tấm kể lại câu chuyện, nhà vua rất tức giận.\n",
            "Anh ta cho người đưa mẹ con Cám đi.\n",
            "Nhưng Tấm cầu xin, nhà vua đã tha thứ cho họ.\n",
            "Mẹ con Cám bị đuổi ra khỏi cung điện.\n",
            "\n",
            "Giông tố ập đến, họ bị sét đánh.\n",
            "Từ đó, nhà vua và Tấm sống hạnh phúc mãi mãi.\n"
          ]
        },
        {
          "output_type": "stream",
          "name": "stderr",
          "text": [
            "\r 95%|█████████▍| 112/118 [12:38<00:37,  6.17s/it]The attention mask and the pad token id were not set. As a consequence, you may observe unexpected behavior. Please pass your input's `attention_mask` to obtain reliable results.\n",
            "Setting `pad_token_id` to `eos_token_id`:2 for open-end generation.\n"
          ]
        },
        {
          "output_type": "stream",
          "name": "stdout",
          "text": [
            "Assistant:  Vào thời giặc Minh xâm lược,\n",
            "Cuộc sống của người dân thật là kinh hoàng.\n",
            "Chúng tàn sát người vô tội,\n",
            "Cướp bóc của cải, không ngừng nghỉ.\n",
            "\n",
            "Người dân phải chịu đựng đau khổ,\n",
            "Lầm than, cuộc sống thật khó khăn.\n",
            "Một số người có lòng yêu nước,\n",
            "Tập hợp lại, họ bắt đầu lên kế hoạch.\n",
            "\n",
            "Nghĩa quân ở Lam Sơn,\n",
            "Những người nông dân áo vải, vũ khí thô sơ.\n",
            "Nhưng họ thiếu sức mạnh,\n",
            "Để chiến đấu chống lại kẻ thù.\n"
          ]
        },
        {
          "output_type": "stream",
          "name": "stderr",
          "text": [
            "\r 96%|█████████▌| 113/118 [12:43<00:28,  5.76s/it]The attention mask and the pad token id were not set. As a consequence, you may observe unexpected behavior. Please pass your input's `attention_mask` to obtain reliable results.\n",
            "Setting `pad_token_id` to `eos_token_id`:2 for open-end generation.\n"
          ]
        },
        {
          "output_type": "stream",
          "name": "stdout",
          "text": [
            "Assistant:  Đức Long Quân quan sát,\n",
            "Tấm lòng dũng cảm của nghĩa quân,\n",
            "Một thanh gươm thần được ban tặng,\n",
            "Để tăng cường sức mạnh và tinh thần.\n",
            "\n",
            "Ở Thanh Hóa, một ngư dân,\n",
            "Kéo lưới nặng trĩu,\n",
            "Nhưng thay vì cá,\n",
            "Một thanh kiếm cũ bị mắc kẹt.\n",
            "\n",
            "Anh ta ném nó trở lại,\n",
            "Vào lần thứ hai, anh ta kéo lưới,\n",
            "Lại bắt gặp thanh gươm,\n",
            "Như thể số phận đã định sẵn.\n"
          ]
        },
        {
          "output_type": "stream",
          "name": "stderr",
          "text": [
            "\r 97%|█████████▋| 114/118 [12:47<00:21,  5.30s/it]The attention mask and the pad token id were not set. As a consequence, you may observe unexpected behavior. Please pass your input's `attention_mask` to obtain reliable results.\n",
            "Setting `pad_token_id` to `eos_token_id`:2 for open-end generation.\n"
          ]
        },
        {
          "output_type": "stream",
          "name": "stdout",
          "text": [
            "Assistant:  Một lưỡi gươm bị mắc kẹt trong lưới,\n",
            "Ba lần nó được tìm thấy bởi một người đàn ông dũng cảm.\n",
            "Lê Thận, một nông dân từ Thanh Hóa,\n",
            "Có trái tim yêu nước, luôn sẵn sàng chiến đấu.\n",
            "\n",
            "Anh ta đã gia nhập lực lượng của nghĩa quân Lam Sơn,\n",
            "Một đội quân đang phát triển mạnh mẽ.\n",
            "Với sức mạnh và lòng yêu nước,\n",
            "Ông ấy sẽ giúp đánh bại kẻ thù.\n"
          ]
        },
        {
          "output_type": "stream",
          "name": "stderr",
          "text": [
            "\r 97%|█████████▋| 115/118 [12:56<00:18,  6.33s/it]The attention mask and the pad token id were not set. As a consequence, you may observe unexpected behavior. Please pass your input's `attention_mask` to obtain reliable results.\n",
            "Setting `pad_token_id` to `eos_token_id`:2 for open-end generation.\n"
          ]
        },
        {
          "output_type": "stream",
          "name": "stdout",
          "text": [
            "Assistant:  Trong vùng đất Thanh Hóa, nơi chiến tranh đang diễn ra,\n",
            "Lê Lợi dẫn đầu, với lòng can đảm và sự thật.\n",
            "Họ tìm nơi trú ẩn trong ngôi nhà của Lê Thận,\n",
            "Vào bên trong, họ nhìn thấy một thanh kiếm cũ, bị bỏ rơi.\n",
            "\n",
            "Ánh sáng rực rỡ của nó, một cảnh tượng đáng chú ý,\n",
            "Hai chữ \"Thuận Thiên\" được khắc trên đó, một dấu hiệu rõ ràng.\n",
            "Nhưng họ không biết rằng đây là một kho báu thực sự,\n",
            "Chỉ coi nó như bất kỳ thanh kiếm nào khác, không có gì đặc biệt.\n",
            "\n",
            "Thời gian trôi qua, những trận chiến tiếp tục diễn ra,\n",
            "Nghĩa quân của Lê Lợi đã chiến đấu dũng cảm, không bao giờ nao núng.\n",
            "Thanh kiếm đó, một biểu tượng của hy vọng và sức mạnh,\n",
            "Đã giúp họ giành chiến thắng, và cuối cùng, họ đã thành công.\n",
            "\n",
            "Giờ\n"
          ]
        },
        {
          "output_type": "stream",
          "name": "stderr",
          "text": [
            "\r 98%|█████████▊| 116/118 [13:04<00:14,  7.00s/it]The attention mask and the pad token id were not set. As a consequence, you may observe unexpected behavior. Please pass your input's `attention_mask` to obtain reliable results.\n",
            "Setting `pad_token_id` to `eos_token_id`:2 for open-end generation.\n"
          ]
        },
        {
          "output_type": "stream",
          "name": "stdout",
          "text": [
            "Assistant:  Trong rừng sâu, một ánh sáng lóe lên,\n",
            "Lê Lợi kinh ngạc, trái tim anh ta đập mạnh.\n",
            "Anh leo lên cao, tìm kiếm nguồn gốc của nó,\n",
            "Và tìm thấy một chuôi gươm với một viên ngọc quý.\n",
            "\n",
            "Trong tâm trí anh, một ký ức hiện ra,\n",
            "Về một thanh gươm phát sáng ở nhà Thận.\n",
            "Với sự tò mò, anh mang theo chuôi gươm,\n",
            "Để xem liệu chúng có thể khớp với nhau hay không.\n",
            "\n",
            "Một vài ngày sau, họ gặp nhau,\n",
            "Lê Lợi chia sẻ câu chuyện của mình, và yêu cầu một lưỡi dao.\n",
            "Lê Thận đưa cho anh ta lưỡi gươm cũ của mình,\n",
            "Và khi đặt vào chuôi gươm, nó đã phù hợp hoàn hảo.\n",
            "\n",
            "Ánh sáng rực rỡ, lưỡi dao sắc bén,\n",
            "Một vũ khí để chiến đấu chống lại kẻ thù.\n"
          ]
        },
        {
          "output_type": "stream",
          "name": "stderr",
          "text": [
            "\r 99%|█████████▉| 117/118 [13:09<00:06,  6.24s/it]The attention mask and the pad token id were not set. As a consequence, you may observe unexpected behavior. Please pass your input's `attention_mask` to obtain reliable results.\n",
            "Setting `pad_token_id` to `eos_token_id`:2 for open-end generation.\n"
          ]
        },
        {
          "output_type": "stream",
          "name": "stdout",
          "text": [
            "Assistant:  Trong thời kỳ khó khăn,\n",
            "Lê Lợi đã đứng lên.\n",
            "Với thanh gươm thiêng liêng,\n",
            "Ông ấy đã thề sẽ dẫn dắt.\n",
            "\n",
            "Nghĩa quân nổi dậy,\n",
            "Trăm trận trăm thắng.\n",
            "Quân Minh suy yếu,\n",
            "Vào rừng họ không thể trốn thoát.\n",
            "\n",
            "Kho lương thực đầy đủ,\n",
            "Tinh thần chiến đấu tăng lên.\n",
            "Họ đã chiến đấu dũng cảm,\n",
            "Để bảo vệ đất đai của chúng ta.\n"
          ]
        },
        {
          "output_type": "stream",
          "name": "stderr",
          "text": [
            "100%|██████████| 118/118 [13:17<00:00,  6.76s/it]"
          ]
        },
        {
          "output_type": "stream",
          "name": "stdout",
          "text": [
            "Assistant:  Giặc tan, vua Lê lên ngôi,\n",
            "Dân chúng vui mừng, đất trời yên bình.\n",
            "Lê Lợi đã chiến thắng,\n",
            "Trên ngai vàng, ông cai trị với sự khôn ngoan.\n",
            "\n",
            "Một năm sau, một cảnh tượng kỳ lạ,\n",
            "Rùa vàng nổi lên, tìm kiếm thanh kiếm.\n",
            "\"Thưa bệ hạ,\" nó nói, \"Tôi nhớ,\n",
            "Long Quân đã cho anh mượn thanh kiếm thần thánh.\n",
            "\n",
            "Nhà vua ngạc nhiên, nhưng không hề sợ hãi,\n",
            "Ông ta rút thanh kiếm ra khỏi vỏ.\n",
            "Con rùa vươn cổ, nắm chặt lưỡi kiếm,\n",
            "Và biến mất vào sâu thẳm của hồ.\n",
            "\n",
            "Vua Lê nhìn theo, đầy kinh ngạc,\n",
            "Khi con rùa mang thanh kiếm trở lại.\n",
            "Từ đó, đất nước được an toàn,\n",
            "Dưới sự cai trị công bằng của vua Lê.\n",
            "6.754121933953237\n"
          ]
        },
        {
          "output_type": "stream",
          "name": "stderr",
          "text": [
            "\n"
          ]
        }
      ],
      "source": [
        "data_output = []\n",
        "total_time = 0\n",
        "for data in tqdm(load_json(\"/content/testset.json\")):\n",
        "    conversation = [{\"role\": \"system\", \"content\": system_prompt }]\n",
        "    conversation.append({\"role\": \"user\", \"content\": data['text']})\n",
        "\n",
        "    input_ids = tokenizer1.apply_chat_template(conversation, return_tensors=\"pt\").to(model1.device)\n",
        "    start_time = time.time()\n",
        "    out_ids = model1.generate(\n",
        "        input_ids=input_ids,\n",
        "        max_new_tokens=200,\n",
        "        do_sample=True,\n",
        "        top_p=0.95,\n",
        "        top_k=20,\n",
        "        temperature=0.1,\n",
        "        repetition_penalty=1.05,\n",
        "    )\n",
        "\n",
        "    total_time += time.time() - start_time\n",
        "\n",
        "    assistant = tokenizer1.batch_decode(out_ids[:, input_ids.size(1): ], skip_special_tokens=True)[0].strip()\n",
        "    print(\"Assistant: \", assistant)\n",
        "    output_dict = {\"id\": data[\"id\"],\n",
        "                   \"text\": data[\"text\"],\n",
        "                   \"poem\": assistant}\n",
        "    data_output.append(output_dict)\n",
        "\n",
        "print(total_time / 118)\n",
        "\n",
        "with open('output.json', 'w') as f:\n",
        "  json.dump(data_output, f)"
      ]
    },
    {
      "cell_type": "code",
      "execution_count": null,
      "metadata": {
        "id": "j3xfEoZIJEsC"
      },
      "outputs": [],
      "source": [
        "# template = [\n",
        "#     {\n",
        "#         \"role\": \"system\",\n",
        "#         \"content\": \"\"\"Bạn là một nhà kể chuyện phiếm, nhiệm vụ của bạn là hãy kể 1 câu chuyện đơn giản và ngắn gọn từ một bài thơ, câu chuyện nên là 1 bài liền mạch, thực tế\"\"\"\n",
        "#     }\n",
        "# ]\n",
        "\n",
        "# llm = LLM(model=args.model)\n",
        "# sampling_params = SamplingParams(temperature=0.8, top_p=0.95, max_tokens=1024)\n",
        "# tokenizer = AutoTokenizer.from_pretrained(args.model, device_map=\"auto\")\n",
        "\n",
        "# def apply_template(data):\n",
        "#     poem = data[\"poem\"]\n",
        "#     data[\"prompts_vllm\"] = tokenizer.apply_chat_template(template + [{\"role\": \"user\", \"content\": poem}], tokenize=False)\n",
        "#     return data\n",
        "\n",
        "# prompts = data.map(apply_template, num_proc=args.num_proc)\n",
        "\n",
        "\n",
        "# count_file = 1\n",
        "# for idx in tqdm(range(0, len(prompts), args.batch_size)):\n",
        "#     final_data = []\n",
        "#     if idx + args.batch_size >= len(prompts):\n",
        "#         end = len(prompts)\n",
        "#     else:\n",
        "#         end = idx+args.batch_size\n",
        "#     outputs = llm.generate(prompts[idx:end][\"prompts_vllm\"], sampling_params)\n",
        "\n",
        "#     for output, prompt_origin in zip(outputs, prompts[idx:end][\"prompts_vllm\"]):\n",
        "#         final_data.append({\"text\": output.outputs[0].text.strip(), \"prompt\": prompt_origin})\n"
      ]
    },
    {
      "cell_type": "code",
      "execution_count": null,
      "metadata": {
        "id": "FfM3MhkR74Mh"
      },
      "outputs": [],
      "source": [
        "# load_json(\"/content/testset.json\")"
      ]
    },
    {
      "cell_type": "code",
      "execution_count": null,
      "metadata": {
        "id": "YkPLZyjs7ATU"
      },
      "outputs": [],
      "source": [
        "# output_dict = []\n",
        "# for i,j in zip(data_output, load_json(\"/content/testset.json\", encoding='utf-8')):\n",
        "#     output = {}\n",
        "#     output['id'] = j['id']\n",
        "#     output['text'] = j[\"id\"]\n",
        "#     output['poem'] = i\n",
        "#     output_dict.append(output)\n",
        "# # Save to json file\n",
        "# with open('output.json', 'w') as f:\n",
        "#     json.dump(output_dict, f)"
      ]
    },
    {
      "cell_type": "code",
      "execution_count": 14,
      "metadata": {
        "id": "diF5aT5-7wsv",
        "colab": {
          "base_uri": "https://localhost:8080/"
        },
        "outputId": "04ea7481-3932-487f-a3c6-fe1b39ed2a3a"
      },
      "outputs": [
        {
          "output_type": "stream",
          "name": "stdout",
          "text": [
            "Collecting gradio\n",
            "  Downloading gradio-4.21.0-py3-none-any.whl (17.0 MB)\n",
            "\u001b[2K     \u001b[90m━━━━━━━━━━━━━━━━━━━━━━━━━━━━━━━━━━━━━━━━\u001b[0m \u001b[32m17.0/17.0 MB\u001b[0m \u001b[31m73.9 MB/s\u001b[0m eta \u001b[36m0:00:00\u001b[0m\n",
            "\u001b[?25hCollecting aiofiles<24.0,>=22.0 (from gradio)\n",
            "  Downloading aiofiles-23.2.1-py3-none-any.whl (15 kB)\n",
            "Requirement already satisfied: altair<6.0,>=4.2.0 in /usr/local/lib/python3.10/dist-packages (from gradio) (4.2.2)\n",
            "Collecting fastapi (from gradio)\n",
            "  Downloading fastapi-0.110.0-py3-none-any.whl (92 kB)\n",
            "\u001b[2K     \u001b[90m━━━━━━━━━━━━━━━━━━━━━━━━━━━━━━━━━━━━━━━━\u001b[0m \u001b[32m92.1/92.1 kB\u001b[0m \u001b[31m14.1 MB/s\u001b[0m eta \u001b[36m0:00:00\u001b[0m\n",
            "\u001b[?25hCollecting ffmpy (from gradio)\n",
            "  Downloading ffmpy-0.3.2.tar.gz (5.5 kB)\n",
            "  Preparing metadata (setup.py) ... \u001b[?25l\u001b[?25hdone\n",
            "Collecting gradio-client==0.12.0 (from gradio)\n",
            "  Downloading gradio_client-0.12.0-py3-none-any.whl (310 kB)\n",
            "\u001b[2K     \u001b[90m━━━━━━━━━━━━━━━━━━━━━━━━━━━━━━━━━━━━━━━━\u001b[0m \u001b[32m310.7/310.7 kB\u001b[0m \u001b[31m40.3 MB/s\u001b[0m eta \u001b[36m0:00:00\u001b[0m\n",
            "\u001b[?25hCollecting httpx>=0.24.1 (from gradio)\n",
            "  Downloading httpx-0.27.0-py3-none-any.whl (75 kB)\n",
            "\u001b[2K     \u001b[90m━━━━━━━━━━━━━━━━━━━━━━━━━━━━━━━━━━━━━━━━\u001b[0m \u001b[32m75.6/75.6 kB\u001b[0m \u001b[31m11.6 MB/s\u001b[0m eta \u001b[36m0:00:00\u001b[0m\n",
            "\u001b[?25hRequirement already satisfied: huggingface-hub>=0.19.3 in /usr/local/lib/python3.10/dist-packages (from gradio) (0.20.3)\n",
            "Requirement already satisfied: importlib-resources<7.0,>=1.3 in /usr/local/lib/python3.10/dist-packages (from gradio) (6.1.2)\n",
            "Requirement already satisfied: jinja2<4.0 in /usr/local/lib/python3.10/dist-packages (from gradio) (3.1.3)\n",
            "Requirement already satisfied: markupsafe~=2.0 in /usr/local/lib/python3.10/dist-packages (from gradio) (2.1.5)\n",
            "Requirement already satisfied: matplotlib~=3.0 in /usr/local/lib/python3.10/dist-packages (from gradio) (3.7.1)\n",
            "Requirement already satisfied: numpy~=1.0 in /usr/local/lib/python3.10/dist-packages (from gradio) (1.25.2)\n",
            "Collecting orjson~=3.0 (from gradio)\n",
            "  Downloading orjson-3.9.15-cp310-cp310-manylinux_2_17_x86_64.manylinux2014_x86_64.whl (138 kB)\n",
            "\u001b[2K     \u001b[90m━━━━━━━━━━━━━━━━━━━━━━━━━━━━━━━━━━━━━━━━\u001b[0m \u001b[32m138.5/138.5 kB\u001b[0m \u001b[31m21.1 MB/s\u001b[0m eta \u001b[36m0:00:00\u001b[0m\n",
            "\u001b[?25hRequirement already satisfied: packaging in /usr/local/lib/python3.10/dist-packages (from gradio) (23.2)\n",
            "Requirement already satisfied: pandas<3.0,>=1.0 in /usr/local/lib/python3.10/dist-packages (from gradio) (1.5.3)\n",
            "Requirement already satisfied: pillow<11.0,>=8.0 in /usr/local/lib/python3.10/dist-packages (from gradio) (9.4.0)\n",
            "Requirement already satisfied: pydantic>=2.0 in /usr/local/lib/python3.10/dist-packages (from gradio) (2.6.3)\n",
            "Collecting pydub (from gradio)\n",
            "  Downloading pydub-0.25.1-py2.py3-none-any.whl (32 kB)\n",
            "Collecting python-multipart>=0.0.9 (from gradio)\n",
            "  Downloading python_multipart-0.0.9-py3-none-any.whl (22 kB)\n",
            "Requirement already satisfied: pyyaml<7.0,>=5.0 in /usr/local/lib/python3.10/dist-packages (from gradio) (6.0.1)\n",
            "Collecting ruff>=0.2.2 (from gradio)\n",
            "  Downloading ruff-0.3.2-py3-none-manylinux_2_17_x86_64.manylinux2014_x86_64.whl (7.9 MB)\n",
            "\u001b[2K     \u001b[90m━━━━━━━━━━━━━━━━━━━━━━━━━━━━━━━━━━━━━━━━\u001b[0m \u001b[32m7.9/7.9 MB\u001b[0m \u001b[31m108.8 MB/s\u001b[0m eta \u001b[36m0:00:00\u001b[0m\n",
            "\u001b[?25hCollecting semantic-version~=2.0 (from gradio)\n",
            "  Downloading semantic_version-2.10.0-py2.py3-none-any.whl (15 kB)\n",
            "Collecting tomlkit==0.12.0 (from gradio)\n",
            "  Downloading tomlkit-0.12.0-py3-none-any.whl (37 kB)\n",
            "Requirement already satisfied: typer[all]<1.0,>=0.9 in /usr/local/lib/python3.10/dist-packages (from gradio) (0.9.0)\n",
            "Requirement already satisfied: typing-extensions~=4.0 in /usr/local/lib/python3.10/dist-packages (from gradio) (4.10.0)\n",
            "Collecting uvicorn>=0.14.0 (from gradio)\n",
            "  Downloading uvicorn-0.28.0-py3-none-any.whl (60 kB)\n",
            "\u001b[2K     \u001b[90m━━━━━━━━━━━━━━━━━━━━━━━━━━━━━━━━━━━━━━━━\u001b[0m \u001b[32m60.6/60.6 kB\u001b[0m \u001b[31m10.5 MB/s\u001b[0m eta \u001b[36m0:00:00\u001b[0m\n",
            "\u001b[?25hRequirement already satisfied: fsspec in /usr/local/lib/python3.10/dist-packages (from gradio-client==0.12.0->gradio) (2023.6.0)\n",
            "Collecting websockets<12.0,>=10.0 (from gradio-client==0.12.0->gradio)\n",
            "  Downloading websockets-11.0.3-cp310-cp310-manylinux_2_5_x86_64.manylinux1_x86_64.manylinux_2_17_x86_64.manylinux2014_x86_64.whl (129 kB)\n",
            "\u001b[2K     \u001b[90m━━━━━━━━━━━━━━━━━━━━━━━━━━━━━━━━━━━━━━━━\u001b[0m \u001b[32m129.9/129.9 kB\u001b[0m \u001b[31m19.2 MB/s\u001b[0m eta \u001b[36m0:00:00\u001b[0m\n",
            "\u001b[?25hRequirement already satisfied: entrypoints in /usr/local/lib/python3.10/dist-packages (from altair<6.0,>=4.2.0->gradio) (0.4)\n",
            "Requirement already satisfied: jsonschema>=3.0 in /usr/local/lib/python3.10/dist-packages (from altair<6.0,>=4.2.0->gradio) (4.19.2)\n",
            "Requirement already satisfied: toolz in /usr/local/lib/python3.10/dist-packages (from altair<6.0,>=4.2.0->gradio) (0.12.1)\n",
            "Requirement already satisfied: anyio in /usr/local/lib/python3.10/dist-packages (from httpx>=0.24.1->gradio) (3.7.1)\n",
            "Requirement already satisfied: certifi in /usr/local/lib/python3.10/dist-packages (from httpx>=0.24.1->gradio) (2024.2.2)\n",
            "Collecting httpcore==1.* (from httpx>=0.24.1->gradio)\n",
            "  Downloading httpcore-1.0.4-py3-none-any.whl (77 kB)\n",
            "\u001b[2K     \u001b[90m━━━━━━━━━━━━━━━━━━━━━━━━━━━━━━━━━━━━━━━━\u001b[0m \u001b[32m77.8/77.8 kB\u001b[0m \u001b[31m12.9 MB/s\u001b[0m eta \u001b[36m0:00:00\u001b[0m\n",
            "\u001b[?25hRequirement already satisfied: idna in /usr/local/lib/python3.10/dist-packages (from httpx>=0.24.1->gradio) (3.6)\n",
            "Requirement already satisfied: sniffio in /usr/local/lib/python3.10/dist-packages (from httpx>=0.24.1->gradio) (1.3.1)\n",
            "Collecting h11<0.15,>=0.13 (from httpcore==1.*->httpx>=0.24.1->gradio)\n",
            "  Downloading h11-0.14.0-py3-none-any.whl (58 kB)\n",
            "\u001b[2K     \u001b[90m━━━━━━━━━━━━━━━━━━━━━━━━━━━━━━━━━━━━━━━━\u001b[0m \u001b[32m58.3/58.3 kB\u001b[0m \u001b[31m9.6 MB/s\u001b[0m eta \u001b[36m0:00:00\u001b[0m\n",
            "\u001b[?25hRequirement already satisfied: filelock in /usr/local/lib/python3.10/dist-packages (from huggingface-hub>=0.19.3->gradio) (3.13.1)\n",
            "Requirement already satisfied: requests in /usr/local/lib/python3.10/dist-packages (from huggingface-hub>=0.19.3->gradio) (2.31.0)\n",
            "Requirement already satisfied: tqdm>=4.42.1 in /usr/local/lib/python3.10/dist-packages (from huggingface-hub>=0.19.3->gradio) (4.66.2)\n",
            "Requirement already satisfied: contourpy>=1.0.1 in /usr/local/lib/python3.10/dist-packages (from matplotlib~=3.0->gradio) (1.2.0)\n",
            "Requirement already satisfied: cycler>=0.10 in /usr/local/lib/python3.10/dist-packages (from matplotlib~=3.0->gradio) (0.12.1)\n",
            "Requirement already satisfied: fonttools>=4.22.0 in /usr/local/lib/python3.10/dist-packages (from matplotlib~=3.0->gradio) (4.49.0)\n",
            "Requirement already satisfied: kiwisolver>=1.0.1 in /usr/local/lib/python3.10/dist-packages (from matplotlib~=3.0->gradio) (1.4.5)\n",
            "Requirement already satisfied: pyparsing>=2.3.1 in /usr/local/lib/python3.10/dist-packages (from matplotlib~=3.0->gradio) (3.1.1)\n",
            "Requirement already satisfied: python-dateutil>=2.7 in /usr/local/lib/python3.10/dist-packages (from matplotlib~=3.0->gradio) (2.8.2)\n",
            "Requirement already satisfied: pytz>=2020.1 in /usr/local/lib/python3.10/dist-packages (from pandas<3.0,>=1.0->gradio) (2023.4)\n",
            "Requirement already satisfied: annotated-types>=0.4.0 in /usr/local/lib/python3.10/dist-packages (from pydantic>=2.0->gradio) (0.6.0)\n",
            "Requirement already satisfied: pydantic-core==2.16.3 in /usr/local/lib/python3.10/dist-packages (from pydantic>=2.0->gradio) (2.16.3)\n",
            "Requirement already satisfied: click<9.0.0,>=7.1.1 in /usr/local/lib/python3.10/dist-packages (from typer[all]<1.0,>=0.9->gradio) (8.1.7)\n",
            "Collecting colorama<0.5.0,>=0.4.3 (from typer[all]<1.0,>=0.9->gradio)\n",
            "  Downloading colorama-0.4.6-py2.py3-none-any.whl (25 kB)\n",
            "Collecting shellingham<2.0.0,>=1.3.0 (from typer[all]<1.0,>=0.9->gradio)\n",
            "  Downloading shellingham-1.5.4-py2.py3-none-any.whl (9.8 kB)\n",
            "Requirement already satisfied: rich<14.0.0,>=10.11.0 in /usr/local/lib/python3.10/dist-packages (from typer[all]<1.0,>=0.9->gradio) (13.7.1)\n",
            "Collecting starlette<0.37.0,>=0.36.3 (from fastapi->gradio)\n",
            "  Downloading starlette-0.36.3-py3-none-any.whl (71 kB)\n",
            "\u001b[2K     \u001b[90m━━━━━━━━━━━━━━━━━━━━━━━━━━━━━━━━━━━━━━━━\u001b[0m \u001b[32m71.5/71.5 kB\u001b[0m \u001b[31m11.2 MB/s\u001b[0m eta \u001b[36m0:00:00\u001b[0m\n",
            "\u001b[?25hRequirement already satisfied: attrs>=22.2.0 in /usr/local/lib/python3.10/dist-packages (from jsonschema>=3.0->altair<6.0,>=4.2.0->gradio) (23.2.0)\n",
            "Requirement already satisfied: jsonschema-specifications>=2023.03.6 in /usr/local/lib/python3.10/dist-packages (from jsonschema>=3.0->altair<6.0,>=4.2.0->gradio) (2023.12.1)\n",
            "Requirement already satisfied: referencing>=0.28.4 in /usr/local/lib/python3.10/dist-packages (from jsonschema>=3.0->altair<6.0,>=4.2.0->gradio) (0.33.0)\n",
            "Requirement already satisfied: rpds-py>=0.7.1 in /usr/local/lib/python3.10/dist-packages (from jsonschema>=3.0->altair<6.0,>=4.2.0->gradio) (0.18.0)\n",
            "Requirement already satisfied: six>=1.5 in /usr/local/lib/python3.10/dist-packages (from python-dateutil>=2.7->matplotlib~=3.0->gradio) (1.16.0)\n",
            "Requirement already satisfied: markdown-it-py>=2.2.0 in /usr/local/lib/python3.10/dist-packages (from rich<14.0.0,>=10.11.0->typer[all]<1.0,>=0.9->gradio) (3.0.0)\n",
            "Requirement already satisfied: pygments<3.0.0,>=2.13.0 in /usr/local/lib/python3.10/dist-packages (from rich<14.0.0,>=10.11.0->typer[all]<1.0,>=0.9->gradio) (2.16.1)\n",
            "Requirement already satisfied: exceptiongroup in /usr/local/lib/python3.10/dist-packages (from anyio->httpx>=0.24.1->gradio) (1.2.0)\n",
            "Requirement already satisfied: charset-normalizer<4,>=2 in /usr/local/lib/python3.10/dist-packages (from requests->huggingface-hub>=0.19.3->gradio) (3.3.2)\n",
            "Requirement already satisfied: urllib3<3,>=1.21.1 in /usr/local/lib/python3.10/dist-packages (from requests->huggingface-hub>=0.19.3->gradio) (2.0.7)\n",
            "Requirement already satisfied: mdurl~=0.1 in /usr/local/lib/python3.10/dist-packages (from markdown-it-py>=2.2.0->rich<14.0.0,>=10.11.0->typer[all]<1.0,>=0.9->gradio) (0.1.2)\n",
            "Building wheels for collected packages: ffmpy\n",
            "  Building wheel for ffmpy (setup.py) ... \u001b[?25l\u001b[?25hdone\n",
            "  Created wheel for ffmpy: filename=ffmpy-0.3.2-py3-none-any.whl size=5584 sha256=d23422fb9eefd1df9e27096dfb04c362c76a7f970991453d1902989b448aa25d\n",
            "  Stored in directory: /root/.cache/pip/wheels/bd/65/9a/671fc6dcde07d4418df0c592f8df512b26d7a0029c2a23dd81\n",
            "Successfully built ffmpy\n",
            "Installing collected packages: pydub, ffmpy, websockets, tomlkit, shellingham, semantic-version, ruff, python-multipart, orjson, h11, colorama, aiofiles, uvicorn, starlette, httpcore, httpx, fastapi, gradio-client, gradio\n",
            "Successfully installed aiofiles-23.2.1 colorama-0.4.6 fastapi-0.110.0 ffmpy-0.3.2 gradio-4.21.0 gradio-client-0.12.0 h11-0.14.0 httpcore-1.0.4 httpx-0.27.0 orjson-3.9.15 pydub-0.25.1 python-multipart-0.0.9 ruff-0.3.2 semantic-version-2.10.0 shellingham-1.5.4 starlette-0.36.3 tomlkit-0.12.0 uvicorn-0.28.0 websockets-11.0.3\n"
          ]
        }
      ],
      "source": [
        "# Gradio\n",
        "!pip install gradio"
      ]
    },
    {
      "cell_type": "code",
      "source": [
        "import gradio as gr\n",
        "import os\n",
        "\n",
        "def summarize(x):\n",
        "    system_prompt = \"Bạn là một nhà thơ chuyên nghiệp, nhiệm vụ của bạn là chuyển bài văn này thành 1 bài thơ 5 chữ từ khoảng 1 đến 3 khổ\"\n",
        "    conversation = [{\"role\": \"system\", \"content\": system_prompt }]\n",
        "    conversation.append({\"role\": \"user\", \"content\": x})\n",
        "\n",
        "    input_ids = tokenizer.apply_chat_template(conversation, return_tensors=\"pt\").to(model.device)\n",
        "    start_time = time.time()\n",
        "    out_ids = model.generate(\n",
        "        input_ids=input_ids,\n",
        "        max_new_tokens=200,\n",
        "        do_sample=True,\n",
        "        top_p=0.95,\n",
        "        top_k=20,\n",
        "        temperature=0.1,\n",
        "        repetition_penalty=1.05,\n",
        "    )\n",
        "\n",
        "    assistant = tokenizer.batch_decode(out_ids[:, input_ids.size(1): ], skip_special_tokens=True)[0].strip()\n",
        "    return assistant\n",
        "\n",
        "gr.close_all()\n",
        "demo = gr.Interface(fn=summarize,\n",
        "                    inputs=[gr.Textbox(label=\"Text to generate poem\", lines=6)],\n",
        "                    outputs=[gr.Textbox(label=\"Result\", lines=5)],\n",
        "                    title=\"Poem generation with VistralPoem\",\n",
        "                    description=\"Summarize any text with poem\",\n",
        "                    examples=[\"Tấm nghe lời mẹ nên dẫn trâu đi thật xa. Ở nhà mẹ con Cám ra giếng gọi y như Tấm hay gọi mỗi ngày, cá nghe tiếng trồi lên miệng giếng, hai mẹ con Cám bắt bống đem làm thịt. Đến chiều chăn trâu về, Tấm đem cơm ra giếng kêu mà không thấy Bống lên, chỉ thấy nổi lên một cục máu đỏ. Thấy vậy Tấm ngồi khóc nức nở, Bụt hiện lên và hỏi:\",\n",
        "                              \"Trong suốt chiều 9.3, Công ty Bảo Tín Minh Châu liên tục tăng giá vàng nhẫn với mỗi lần từ 40.000 - 60.000 đồng mỗi lượng, giá mua vào của công ty này lên 69,73 triệu đồng, bán ra 71,03 triệu đồng. Chỉ chưa đầy 2 ngày qua, Công ty Bảo Tín Minh Châu đã tăng giá vàng nhẫn 2,15 triệu đồng mỗi lượng và trở thành đơn vị có mức giá vàng nhẫn cao nhất trên thị trường hiện nay. Kế đến là Tập đoàn Doji có giá bán vàng nhẫn cao thứ 2, ở mức 70,9 triệu đồng/lượng, chiều mua vào ở mức 69,6 triệu đồng/lượng. Tập đoàn Doji liên tục tăng giá vàng nhẫn với mỗi bước nhảy lên từ 100.000 - 200.000 đồng mỗi lượng, nâng tổng mức tăng lên 1,3 triệu đồng/lương so với mở cửa đầu ngày. Trong khi đó, Công ty vàng bạc đá quý Sài Gòn - SJC tăng giá vàng nhẫn gàn 1,5 triệu đồng/lượng trong 2 ngày qua, giá mua vào lên 68,35 triệu đồng, bán ra 69,7 triệu đồng…\"]\n",
        "                   )\n",
        "demo.launch(share=True)"
      ],
      "metadata": {
        "colab": {
          "base_uri": "https://localhost:8080/",
          "height": 612
        },
        "id": "A2mQUgGjDJnk",
        "outputId": "c797ee3b-d8c2-4818-f6c3-5c46b74cd636"
      },
      "execution_count": 16,
      "outputs": [
        {
          "output_type": "stream",
          "name": "stdout",
          "text": [
            "Colab notebook detected. To show errors in colab notebook, set debug=True in launch()\n",
            "Running on public URL: https://432ec0ebbf6e4b8b17.gradio.live\n",
            "\n",
            "This share link expires in 72 hours. For free permanent hosting and GPU upgrades, run `gradio deploy` from Terminal to deploy to Spaces (https://huggingface.co/spaces)\n"
          ]
        },
        {
          "output_type": "display_data",
          "data": {
            "text/plain": [
              "<IPython.core.display.HTML object>"
            ],
            "text/html": [
              "<div><iframe src=\"https://432ec0ebbf6e4b8b17.gradio.live\" width=\"100%\" height=\"500\" allow=\"autoplay; camera; microphone; clipboard-read; clipboard-write;\" frameborder=\"0\" allowfullscreen></iframe></div>"
            ]
          },
          "metadata": {}
        },
        {
          "output_type": "execute_result",
          "data": {
            "text/plain": []
          },
          "metadata": {},
          "execution_count": 16
        }
      ]
    },
    {
      "cell_type": "code",
      "source": [],
      "metadata": {
        "id": "QyevyiY-EHIv"
      },
      "execution_count": null,
      "outputs": []
    }
  ],
  "metadata": {
    "accelerator": "GPU",
    "colab": {
      "gpuType": "A100",
      "machine_shape": "hm",
      "provenance": []
    },
    "kernelspec": {
      "display_name": "Python 3",
      "name": "python3"
    },
    "language_info": {
      "name": "python"
    },
    "widgets": {
      "application/vnd.jupyter.widget-state+json": {
        "a3ed0834f8a84e64b6abc7a8118857a2": {
          "model_module": "@jupyter-widgets/controls",
          "model_name": "HBoxModel",
          "model_module_version": "1.5.0",
          "state": {
            "_dom_classes": [],
            "_model_module": "@jupyter-widgets/controls",
            "_model_module_version": "1.5.0",
            "_model_name": "HBoxModel",
            "_view_count": null,
            "_view_module": "@jupyter-widgets/controls",
            "_view_module_version": "1.5.0",
            "_view_name": "HBoxView",
            "box_style": "",
            "children": [
              "IPY_MODEL_dc06c566218a41f2a5e283b44e2463f1",
              "IPY_MODEL_c629b4c0e74d470bb64984449e6aff3b",
              "IPY_MODEL_16187fc27047485186032cac008af9cc"
            ],
            "layout": "IPY_MODEL_40c509502d774b90ad02c0735bb01510"
          }
        },
        "dc06c566218a41f2a5e283b44e2463f1": {
          "model_module": "@jupyter-widgets/controls",
          "model_name": "HTMLModel",
          "model_module_version": "1.5.0",
          "state": {
            "_dom_classes": [],
            "_model_module": "@jupyter-widgets/controls",
            "_model_module_version": "1.5.0",
            "_model_name": "HTMLModel",
            "_view_count": null,
            "_view_module": "@jupyter-widgets/controls",
            "_view_module_version": "1.5.0",
            "_view_name": "HTMLView",
            "description": "",
            "description_tooltip": null,
            "layout": "IPY_MODEL_684d57281a7c471aa66364c321fc1817",
            "placeholder": "​",
            "style": "IPY_MODEL_d7cd4bef030e46b59df9e84026f2f21d",
            "value": "tokenizer_config.json: 100%"
          }
        },
        "c629b4c0e74d470bb64984449e6aff3b": {
          "model_module": "@jupyter-widgets/controls",
          "model_name": "FloatProgressModel",
          "model_module_version": "1.5.0",
          "state": {
            "_dom_classes": [],
            "_model_module": "@jupyter-widgets/controls",
            "_model_module_version": "1.5.0",
            "_model_name": "FloatProgressModel",
            "_view_count": null,
            "_view_module": "@jupyter-widgets/controls",
            "_view_module_version": "1.5.0",
            "_view_name": "ProgressView",
            "bar_style": "success",
            "description": "",
            "description_tooltip": null,
            "layout": "IPY_MODEL_4c7ce27a6d324edaa22560bb47043c58",
            "max": 2515,
            "min": 0,
            "orientation": "horizontal",
            "style": "IPY_MODEL_0f397296f21f4e19ae2d921dbf5c3be7",
            "value": 2515
          }
        },
        "16187fc27047485186032cac008af9cc": {
          "model_module": "@jupyter-widgets/controls",
          "model_name": "HTMLModel",
          "model_module_version": "1.5.0",
          "state": {
            "_dom_classes": [],
            "_model_module": "@jupyter-widgets/controls",
            "_model_module_version": "1.5.0",
            "_model_name": "HTMLModel",
            "_view_count": null,
            "_view_module": "@jupyter-widgets/controls",
            "_view_module_version": "1.5.0",
            "_view_name": "HTMLView",
            "description": "",
            "description_tooltip": null,
            "layout": "IPY_MODEL_c9369c1d545242f3b4e34c9afd6a8ac0",
            "placeholder": "​",
            "style": "IPY_MODEL_05a5d693f9b94f7db2a14a77404caa86",
            "value": " 2.52k/2.52k [00:00&lt;00:00, 230kB/s]"
          }
        },
        "40c509502d774b90ad02c0735bb01510": {
          "model_module": "@jupyter-widgets/base",
          "model_name": "LayoutModel",
          "model_module_version": "1.2.0",
          "state": {
            "_model_module": "@jupyter-widgets/base",
            "_model_module_version": "1.2.0",
            "_model_name": "LayoutModel",
            "_view_count": null,
            "_view_module": "@jupyter-widgets/base",
            "_view_module_version": "1.2.0",
            "_view_name": "LayoutView",
            "align_content": null,
            "align_items": null,
            "align_self": null,
            "border": null,
            "bottom": null,
            "display": null,
            "flex": null,
            "flex_flow": null,
            "grid_area": null,
            "grid_auto_columns": null,
            "grid_auto_flow": null,
            "grid_auto_rows": null,
            "grid_column": null,
            "grid_gap": null,
            "grid_row": null,
            "grid_template_areas": null,
            "grid_template_columns": null,
            "grid_template_rows": null,
            "height": null,
            "justify_content": null,
            "justify_items": null,
            "left": null,
            "margin": null,
            "max_height": null,
            "max_width": null,
            "min_height": null,
            "min_width": null,
            "object_fit": null,
            "object_position": null,
            "order": null,
            "overflow": null,
            "overflow_x": null,
            "overflow_y": null,
            "padding": null,
            "right": null,
            "top": null,
            "visibility": null,
            "width": null
          }
        },
        "684d57281a7c471aa66364c321fc1817": {
          "model_module": "@jupyter-widgets/base",
          "model_name": "LayoutModel",
          "model_module_version": "1.2.0",
          "state": {
            "_model_module": "@jupyter-widgets/base",
            "_model_module_version": "1.2.0",
            "_model_name": "LayoutModel",
            "_view_count": null,
            "_view_module": "@jupyter-widgets/base",
            "_view_module_version": "1.2.0",
            "_view_name": "LayoutView",
            "align_content": null,
            "align_items": null,
            "align_self": null,
            "border": null,
            "bottom": null,
            "display": null,
            "flex": null,
            "flex_flow": null,
            "grid_area": null,
            "grid_auto_columns": null,
            "grid_auto_flow": null,
            "grid_auto_rows": null,
            "grid_column": null,
            "grid_gap": null,
            "grid_row": null,
            "grid_template_areas": null,
            "grid_template_columns": null,
            "grid_template_rows": null,
            "height": null,
            "justify_content": null,
            "justify_items": null,
            "left": null,
            "margin": null,
            "max_height": null,
            "max_width": null,
            "min_height": null,
            "min_width": null,
            "object_fit": null,
            "object_position": null,
            "order": null,
            "overflow": null,
            "overflow_x": null,
            "overflow_y": null,
            "padding": null,
            "right": null,
            "top": null,
            "visibility": null,
            "width": null
          }
        },
        "d7cd4bef030e46b59df9e84026f2f21d": {
          "model_module": "@jupyter-widgets/controls",
          "model_name": "DescriptionStyleModel",
          "model_module_version": "1.5.0",
          "state": {
            "_model_module": "@jupyter-widgets/controls",
            "_model_module_version": "1.5.0",
            "_model_name": "DescriptionStyleModel",
            "_view_count": null,
            "_view_module": "@jupyter-widgets/base",
            "_view_module_version": "1.2.0",
            "_view_name": "StyleView",
            "description_width": ""
          }
        },
        "4c7ce27a6d324edaa22560bb47043c58": {
          "model_module": "@jupyter-widgets/base",
          "model_name": "LayoutModel",
          "model_module_version": "1.2.0",
          "state": {
            "_model_module": "@jupyter-widgets/base",
            "_model_module_version": "1.2.0",
            "_model_name": "LayoutModel",
            "_view_count": null,
            "_view_module": "@jupyter-widgets/base",
            "_view_module_version": "1.2.0",
            "_view_name": "LayoutView",
            "align_content": null,
            "align_items": null,
            "align_self": null,
            "border": null,
            "bottom": null,
            "display": null,
            "flex": null,
            "flex_flow": null,
            "grid_area": null,
            "grid_auto_columns": null,
            "grid_auto_flow": null,
            "grid_auto_rows": null,
            "grid_column": null,
            "grid_gap": null,
            "grid_row": null,
            "grid_template_areas": null,
            "grid_template_columns": null,
            "grid_template_rows": null,
            "height": null,
            "justify_content": null,
            "justify_items": null,
            "left": null,
            "margin": null,
            "max_height": null,
            "max_width": null,
            "min_height": null,
            "min_width": null,
            "object_fit": null,
            "object_position": null,
            "order": null,
            "overflow": null,
            "overflow_x": null,
            "overflow_y": null,
            "padding": null,
            "right": null,
            "top": null,
            "visibility": null,
            "width": null
          }
        },
        "0f397296f21f4e19ae2d921dbf5c3be7": {
          "model_module": "@jupyter-widgets/controls",
          "model_name": "ProgressStyleModel",
          "model_module_version": "1.5.0",
          "state": {
            "_model_module": "@jupyter-widgets/controls",
            "_model_module_version": "1.5.0",
            "_model_name": "ProgressStyleModel",
            "_view_count": null,
            "_view_module": "@jupyter-widgets/base",
            "_view_module_version": "1.2.0",
            "_view_name": "StyleView",
            "bar_color": null,
            "description_width": ""
          }
        },
        "c9369c1d545242f3b4e34c9afd6a8ac0": {
          "model_module": "@jupyter-widgets/base",
          "model_name": "LayoutModel",
          "model_module_version": "1.2.0",
          "state": {
            "_model_module": "@jupyter-widgets/base",
            "_model_module_version": "1.2.0",
            "_model_name": "LayoutModel",
            "_view_count": null,
            "_view_module": "@jupyter-widgets/base",
            "_view_module_version": "1.2.0",
            "_view_name": "LayoutView",
            "align_content": null,
            "align_items": null,
            "align_self": null,
            "border": null,
            "bottom": null,
            "display": null,
            "flex": null,
            "flex_flow": null,
            "grid_area": null,
            "grid_auto_columns": null,
            "grid_auto_flow": null,
            "grid_auto_rows": null,
            "grid_column": null,
            "grid_gap": null,
            "grid_row": null,
            "grid_template_areas": null,
            "grid_template_columns": null,
            "grid_template_rows": null,
            "height": null,
            "justify_content": null,
            "justify_items": null,
            "left": null,
            "margin": null,
            "max_height": null,
            "max_width": null,
            "min_height": null,
            "min_width": null,
            "object_fit": null,
            "object_position": null,
            "order": null,
            "overflow": null,
            "overflow_x": null,
            "overflow_y": null,
            "padding": null,
            "right": null,
            "top": null,
            "visibility": null,
            "width": null
          }
        },
        "05a5d693f9b94f7db2a14a77404caa86": {
          "model_module": "@jupyter-widgets/controls",
          "model_name": "DescriptionStyleModel",
          "model_module_version": "1.5.0",
          "state": {
            "_model_module": "@jupyter-widgets/controls",
            "_model_module_version": "1.5.0",
            "_model_name": "DescriptionStyleModel",
            "_view_count": null,
            "_view_module": "@jupyter-widgets/base",
            "_view_module_version": "1.2.0",
            "_view_name": "StyleView",
            "description_width": ""
          }
        },
        "c70bc75705e3403bbd6906f104222a5b": {
          "model_module": "@jupyter-widgets/controls",
          "model_name": "HBoxModel",
          "model_module_version": "1.5.0",
          "state": {
            "_dom_classes": [],
            "_model_module": "@jupyter-widgets/controls",
            "_model_module_version": "1.5.0",
            "_model_name": "HBoxModel",
            "_view_count": null,
            "_view_module": "@jupyter-widgets/controls",
            "_view_module_version": "1.5.0",
            "_view_name": "HBoxView",
            "box_style": "",
            "children": [
              "IPY_MODEL_bfb04ce6d14a4762b457799fe1ebcb04",
              "IPY_MODEL_1da3da84766a4f3cafc9cdda32cd3d93",
              "IPY_MODEL_f578beaea9b6471ca7156a9238ffeb4b"
            ],
            "layout": "IPY_MODEL_b9420f0049af454fb92ca5878a766b8f"
          }
        },
        "bfb04ce6d14a4762b457799fe1ebcb04": {
          "model_module": "@jupyter-widgets/controls",
          "model_name": "HTMLModel",
          "model_module_version": "1.5.0",
          "state": {
            "_dom_classes": [],
            "_model_module": "@jupyter-widgets/controls",
            "_model_module_version": "1.5.0",
            "_model_name": "HTMLModel",
            "_view_count": null,
            "_view_module": "@jupyter-widgets/controls",
            "_view_module_version": "1.5.0",
            "_view_name": "HTMLView",
            "description": "",
            "description_tooltip": null,
            "layout": "IPY_MODEL_a54a1cee3ddb41fb8e46d1df6c83072a",
            "placeholder": "​",
            "style": "IPY_MODEL_a07f61a4f55b485a9e9eecd22136fd2f",
            "value": "tokenizer.model: 100%"
          }
        },
        "1da3da84766a4f3cafc9cdda32cd3d93": {
          "model_module": "@jupyter-widgets/controls",
          "model_name": "FloatProgressModel",
          "model_module_version": "1.5.0",
          "state": {
            "_dom_classes": [],
            "_model_module": "@jupyter-widgets/controls",
            "_model_module_version": "1.5.0",
            "_model_name": "FloatProgressModel",
            "_view_count": null,
            "_view_module": "@jupyter-widgets/controls",
            "_view_module_version": "1.5.0",
            "_view_name": "ProgressView",
            "bar_style": "success",
            "description": "",
            "description_tooltip": null,
            "layout": "IPY_MODEL_0a6867bbe60c4fedb25c4f07b81de67b",
            "max": 596883,
            "min": 0,
            "orientation": "horizontal",
            "style": "IPY_MODEL_1d655645dc2247adb33417a0a41cde16",
            "value": 596883
          }
        },
        "f578beaea9b6471ca7156a9238ffeb4b": {
          "model_module": "@jupyter-widgets/controls",
          "model_name": "HTMLModel",
          "model_module_version": "1.5.0",
          "state": {
            "_dom_classes": [],
            "_model_module": "@jupyter-widgets/controls",
            "_model_module_version": "1.5.0",
            "_model_name": "HTMLModel",
            "_view_count": null,
            "_view_module": "@jupyter-widgets/controls",
            "_view_module_version": "1.5.0",
            "_view_name": "HTMLView",
            "description": "",
            "description_tooltip": null,
            "layout": "IPY_MODEL_d9df7c05ac444568abdd46edcf4b9ed1",
            "placeholder": "​",
            "style": "IPY_MODEL_c2e039e7442e4273a2360a7a1afcfef6",
            "value": " 597k/597k [00:00&lt;00:00, 30.8MB/s]"
          }
        },
        "b9420f0049af454fb92ca5878a766b8f": {
          "model_module": "@jupyter-widgets/base",
          "model_name": "LayoutModel",
          "model_module_version": "1.2.0",
          "state": {
            "_model_module": "@jupyter-widgets/base",
            "_model_module_version": "1.2.0",
            "_model_name": "LayoutModel",
            "_view_count": null,
            "_view_module": "@jupyter-widgets/base",
            "_view_module_version": "1.2.0",
            "_view_name": "LayoutView",
            "align_content": null,
            "align_items": null,
            "align_self": null,
            "border": null,
            "bottom": null,
            "display": null,
            "flex": null,
            "flex_flow": null,
            "grid_area": null,
            "grid_auto_columns": null,
            "grid_auto_flow": null,
            "grid_auto_rows": null,
            "grid_column": null,
            "grid_gap": null,
            "grid_row": null,
            "grid_template_areas": null,
            "grid_template_columns": null,
            "grid_template_rows": null,
            "height": null,
            "justify_content": null,
            "justify_items": null,
            "left": null,
            "margin": null,
            "max_height": null,
            "max_width": null,
            "min_height": null,
            "min_width": null,
            "object_fit": null,
            "object_position": null,
            "order": null,
            "overflow": null,
            "overflow_x": null,
            "overflow_y": null,
            "padding": null,
            "right": null,
            "top": null,
            "visibility": null,
            "width": null
          }
        },
        "a54a1cee3ddb41fb8e46d1df6c83072a": {
          "model_module": "@jupyter-widgets/base",
          "model_name": "LayoutModel",
          "model_module_version": "1.2.0",
          "state": {
            "_model_module": "@jupyter-widgets/base",
            "_model_module_version": "1.2.0",
            "_model_name": "LayoutModel",
            "_view_count": null,
            "_view_module": "@jupyter-widgets/base",
            "_view_module_version": "1.2.0",
            "_view_name": "LayoutView",
            "align_content": null,
            "align_items": null,
            "align_self": null,
            "border": null,
            "bottom": null,
            "display": null,
            "flex": null,
            "flex_flow": null,
            "grid_area": null,
            "grid_auto_columns": null,
            "grid_auto_flow": null,
            "grid_auto_rows": null,
            "grid_column": null,
            "grid_gap": null,
            "grid_row": null,
            "grid_template_areas": null,
            "grid_template_columns": null,
            "grid_template_rows": null,
            "height": null,
            "justify_content": null,
            "justify_items": null,
            "left": null,
            "margin": null,
            "max_height": null,
            "max_width": null,
            "min_height": null,
            "min_width": null,
            "object_fit": null,
            "object_position": null,
            "order": null,
            "overflow": null,
            "overflow_x": null,
            "overflow_y": null,
            "padding": null,
            "right": null,
            "top": null,
            "visibility": null,
            "width": null
          }
        },
        "a07f61a4f55b485a9e9eecd22136fd2f": {
          "model_module": "@jupyter-widgets/controls",
          "model_name": "DescriptionStyleModel",
          "model_module_version": "1.5.0",
          "state": {
            "_model_module": "@jupyter-widgets/controls",
            "_model_module_version": "1.5.0",
            "_model_name": "DescriptionStyleModel",
            "_view_count": null,
            "_view_module": "@jupyter-widgets/base",
            "_view_module_version": "1.2.0",
            "_view_name": "StyleView",
            "description_width": ""
          }
        },
        "0a6867bbe60c4fedb25c4f07b81de67b": {
          "model_module": "@jupyter-widgets/base",
          "model_name": "LayoutModel",
          "model_module_version": "1.2.0",
          "state": {
            "_model_module": "@jupyter-widgets/base",
            "_model_module_version": "1.2.0",
            "_model_name": "LayoutModel",
            "_view_count": null,
            "_view_module": "@jupyter-widgets/base",
            "_view_module_version": "1.2.0",
            "_view_name": "LayoutView",
            "align_content": null,
            "align_items": null,
            "align_self": null,
            "border": null,
            "bottom": null,
            "display": null,
            "flex": null,
            "flex_flow": null,
            "grid_area": null,
            "grid_auto_columns": null,
            "grid_auto_flow": null,
            "grid_auto_rows": null,
            "grid_column": null,
            "grid_gap": null,
            "grid_row": null,
            "grid_template_areas": null,
            "grid_template_columns": null,
            "grid_template_rows": null,
            "height": null,
            "justify_content": null,
            "justify_items": null,
            "left": null,
            "margin": null,
            "max_height": null,
            "max_width": null,
            "min_height": null,
            "min_width": null,
            "object_fit": null,
            "object_position": null,
            "order": null,
            "overflow": null,
            "overflow_x": null,
            "overflow_y": null,
            "padding": null,
            "right": null,
            "top": null,
            "visibility": null,
            "width": null
          }
        },
        "1d655645dc2247adb33417a0a41cde16": {
          "model_module": "@jupyter-widgets/controls",
          "model_name": "ProgressStyleModel",
          "model_module_version": "1.5.0",
          "state": {
            "_model_module": "@jupyter-widgets/controls",
            "_model_module_version": "1.5.0",
            "_model_name": "ProgressStyleModel",
            "_view_count": null,
            "_view_module": "@jupyter-widgets/base",
            "_view_module_version": "1.2.0",
            "_view_name": "StyleView",
            "bar_color": null,
            "description_width": ""
          }
        },
        "d9df7c05ac444568abdd46edcf4b9ed1": {
          "model_module": "@jupyter-widgets/base",
          "model_name": "LayoutModel",
          "model_module_version": "1.2.0",
          "state": {
            "_model_module": "@jupyter-widgets/base",
            "_model_module_version": "1.2.0",
            "_model_name": "LayoutModel",
            "_view_count": null,
            "_view_module": "@jupyter-widgets/base",
            "_view_module_version": "1.2.0",
            "_view_name": "LayoutView",
            "align_content": null,
            "align_items": null,
            "align_self": null,
            "border": null,
            "bottom": null,
            "display": null,
            "flex": null,
            "flex_flow": null,
            "grid_area": null,
            "grid_auto_columns": null,
            "grid_auto_flow": null,
            "grid_auto_rows": null,
            "grid_column": null,
            "grid_gap": null,
            "grid_row": null,
            "grid_template_areas": null,
            "grid_template_columns": null,
            "grid_template_rows": null,
            "height": null,
            "justify_content": null,
            "justify_items": null,
            "left": null,
            "margin": null,
            "max_height": null,
            "max_width": null,
            "min_height": null,
            "min_width": null,
            "object_fit": null,
            "object_position": null,
            "order": null,
            "overflow": null,
            "overflow_x": null,
            "overflow_y": null,
            "padding": null,
            "right": null,
            "top": null,
            "visibility": null,
            "width": null
          }
        },
        "c2e039e7442e4273a2360a7a1afcfef6": {
          "model_module": "@jupyter-widgets/controls",
          "model_name": "DescriptionStyleModel",
          "model_module_version": "1.5.0",
          "state": {
            "_model_module": "@jupyter-widgets/controls",
            "_model_module_version": "1.5.0",
            "_model_name": "DescriptionStyleModel",
            "_view_count": null,
            "_view_module": "@jupyter-widgets/base",
            "_view_module_version": "1.2.0",
            "_view_name": "StyleView",
            "description_width": ""
          }
        },
        "42aad1e6691a43a69476ffd9e066ec3a": {
          "model_module": "@jupyter-widgets/controls",
          "model_name": "HBoxModel",
          "model_module_version": "1.5.0",
          "state": {
            "_dom_classes": [],
            "_model_module": "@jupyter-widgets/controls",
            "_model_module_version": "1.5.0",
            "_model_name": "HBoxModel",
            "_view_count": null,
            "_view_module": "@jupyter-widgets/controls",
            "_view_module_version": "1.5.0",
            "_view_name": "HBoxView",
            "box_style": "",
            "children": [
              "IPY_MODEL_c32ed150d6094f58b44781109f7c2ea3",
              "IPY_MODEL_c0a5fadfa5414a3fbc883b8847c89755",
              "IPY_MODEL_565a0114f916462a9bdbc9c3aee23e2e"
            ],
            "layout": "IPY_MODEL_c81745fe57c5418cb34188ac1df63ece"
          }
        },
        "c32ed150d6094f58b44781109f7c2ea3": {
          "model_module": "@jupyter-widgets/controls",
          "model_name": "HTMLModel",
          "model_module_version": "1.5.0",
          "state": {
            "_dom_classes": [],
            "_model_module": "@jupyter-widgets/controls",
            "_model_module_version": "1.5.0",
            "_model_name": "HTMLModel",
            "_view_count": null,
            "_view_module": "@jupyter-widgets/controls",
            "_view_module_version": "1.5.0",
            "_view_name": "HTMLView",
            "description": "",
            "description_tooltip": null,
            "layout": "IPY_MODEL_2cccab1db2c046f78eec5293a2193695",
            "placeholder": "​",
            "style": "IPY_MODEL_03cc78fba0da4667a54d519d2d6a616a",
            "value": "tokenizer.json: 100%"
          }
        },
        "c0a5fadfa5414a3fbc883b8847c89755": {
          "model_module": "@jupyter-widgets/controls",
          "model_name": "FloatProgressModel",
          "model_module_version": "1.5.0",
          "state": {
            "_dom_classes": [],
            "_model_module": "@jupyter-widgets/controls",
            "_model_module_version": "1.5.0",
            "_model_name": "FloatProgressModel",
            "_view_count": null,
            "_view_module": "@jupyter-widgets/controls",
            "_view_module_version": "1.5.0",
            "_view_name": "ProgressView",
            "bar_style": "success",
            "description": "",
            "description_tooltip": null,
            "layout": "IPY_MODEL_e3bf5e89adac4a3bbee8b85e4e7cb658",
            "max": 2149785,
            "min": 0,
            "orientation": "horizontal",
            "style": "IPY_MODEL_21251702888f477fb95034230aa7aaf4",
            "value": 2149785
          }
        },
        "565a0114f916462a9bdbc9c3aee23e2e": {
          "model_module": "@jupyter-widgets/controls",
          "model_name": "HTMLModel",
          "model_module_version": "1.5.0",
          "state": {
            "_dom_classes": [],
            "_model_module": "@jupyter-widgets/controls",
            "_model_module_version": "1.5.0",
            "_model_name": "HTMLModel",
            "_view_count": null,
            "_view_module": "@jupyter-widgets/controls",
            "_view_module_version": "1.5.0",
            "_view_name": "HTMLView",
            "description": "",
            "description_tooltip": null,
            "layout": "IPY_MODEL_7041d82e1e14422a9407d30bd2a43e5b",
            "placeholder": "​",
            "style": "IPY_MODEL_a0fecf1507b2443181065ff9c7970711",
            "value": " 2.15M/2.15M [00:00&lt;00:00, 8.29MB/s]"
          }
        },
        "c81745fe57c5418cb34188ac1df63ece": {
          "model_module": "@jupyter-widgets/base",
          "model_name": "LayoutModel",
          "model_module_version": "1.2.0",
          "state": {
            "_model_module": "@jupyter-widgets/base",
            "_model_module_version": "1.2.0",
            "_model_name": "LayoutModel",
            "_view_count": null,
            "_view_module": "@jupyter-widgets/base",
            "_view_module_version": "1.2.0",
            "_view_name": "LayoutView",
            "align_content": null,
            "align_items": null,
            "align_self": null,
            "border": null,
            "bottom": null,
            "display": null,
            "flex": null,
            "flex_flow": null,
            "grid_area": null,
            "grid_auto_columns": null,
            "grid_auto_flow": null,
            "grid_auto_rows": null,
            "grid_column": null,
            "grid_gap": null,
            "grid_row": null,
            "grid_template_areas": null,
            "grid_template_columns": null,
            "grid_template_rows": null,
            "height": null,
            "justify_content": null,
            "justify_items": null,
            "left": null,
            "margin": null,
            "max_height": null,
            "max_width": null,
            "min_height": null,
            "min_width": null,
            "object_fit": null,
            "object_position": null,
            "order": null,
            "overflow": null,
            "overflow_x": null,
            "overflow_y": null,
            "padding": null,
            "right": null,
            "top": null,
            "visibility": null,
            "width": null
          }
        },
        "2cccab1db2c046f78eec5293a2193695": {
          "model_module": "@jupyter-widgets/base",
          "model_name": "LayoutModel",
          "model_module_version": "1.2.0",
          "state": {
            "_model_module": "@jupyter-widgets/base",
            "_model_module_version": "1.2.0",
            "_model_name": "LayoutModel",
            "_view_count": null,
            "_view_module": "@jupyter-widgets/base",
            "_view_module_version": "1.2.0",
            "_view_name": "LayoutView",
            "align_content": null,
            "align_items": null,
            "align_self": null,
            "border": null,
            "bottom": null,
            "display": null,
            "flex": null,
            "flex_flow": null,
            "grid_area": null,
            "grid_auto_columns": null,
            "grid_auto_flow": null,
            "grid_auto_rows": null,
            "grid_column": null,
            "grid_gap": null,
            "grid_row": null,
            "grid_template_areas": null,
            "grid_template_columns": null,
            "grid_template_rows": null,
            "height": null,
            "justify_content": null,
            "justify_items": null,
            "left": null,
            "margin": null,
            "max_height": null,
            "max_width": null,
            "min_height": null,
            "min_width": null,
            "object_fit": null,
            "object_position": null,
            "order": null,
            "overflow": null,
            "overflow_x": null,
            "overflow_y": null,
            "padding": null,
            "right": null,
            "top": null,
            "visibility": null,
            "width": null
          }
        },
        "03cc78fba0da4667a54d519d2d6a616a": {
          "model_module": "@jupyter-widgets/controls",
          "model_name": "DescriptionStyleModel",
          "model_module_version": "1.5.0",
          "state": {
            "_model_module": "@jupyter-widgets/controls",
            "_model_module_version": "1.5.0",
            "_model_name": "DescriptionStyleModel",
            "_view_count": null,
            "_view_module": "@jupyter-widgets/base",
            "_view_module_version": "1.2.0",
            "_view_name": "StyleView",
            "description_width": ""
          }
        },
        "e3bf5e89adac4a3bbee8b85e4e7cb658": {
          "model_module": "@jupyter-widgets/base",
          "model_name": "LayoutModel",
          "model_module_version": "1.2.0",
          "state": {
            "_model_module": "@jupyter-widgets/base",
            "_model_module_version": "1.2.0",
            "_model_name": "LayoutModel",
            "_view_count": null,
            "_view_module": "@jupyter-widgets/base",
            "_view_module_version": "1.2.0",
            "_view_name": "LayoutView",
            "align_content": null,
            "align_items": null,
            "align_self": null,
            "border": null,
            "bottom": null,
            "display": null,
            "flex": null,
            "flex_flow": null,
            "grid_area": null,
            "grid_auto_columns": null,
            "grid_auto_flow": null,
            "grid_auto_rows": null,
            "grid_column": null,
            "grid_gap": null,
            "grid_row": null,
            "grid_template_areas": null,
            "grid_template_columns": null,
            "grid_template_rows": null,
            "height": null,
            "justify_content": null,
            "justify_items": null,
            "left": null,
            "margin": null,
            "max_height": null,
            "max_width": null,
            "min_height": null,
            "min_width": null,
            "object_fit": null,
            "object_position": null,
            "order": null,
            "overflow": null,
            "overflow_x": null,
            "overflow_y": null,
            "padding": null,
            "right": null,
            "top": null,
            "visibility": null,
            "width": null
          }
        },
        "21251702888f477fb95034230aa7aaf4": {
          "model_module": "@jupyter-widgets/controls",
          "model_name": "ProgressStyleModel",
          "model_module_version": "1.5.0",
          "state": {
            "_model_module": "@jupyter-widgets/controls",
            "_model_module_version": "1.5.0",
            "_model_name": "ProgressStyleModel",
            "_view_count": null,
            "_view_module": "@jupyter-widgets/base",
            "_view_module_version": "1.2.0",
            "_view_name": "StyleView",
            "bar_color": null,
            "description_width": ""
          }
        },
        "7041d82e1e14422a9407d30bd2a43e5b": {
          "model_module": "@jupyter-widgets/base",
          "model_name": "LayoutModel",
          "model_module_version": "1.2.0",
          "state": {
            "_model_module": "@jupyter-widgets/base",
            "_model_module_version": "1.2.0",
            "_model_name": "LayoutModel",
            "_view_count": null,
            "_view_module": "@jupyter-widgets/base",
            "_view_module_version": "1.2.0",
            "_view_name": "LayoutView",
            "align_content": null,
            "align_items": null,
            "align_self": null,
            "border": null,
            "bottom": null,
            "display": null,
            "flex": null,
            "flex_flow": null,
            "grid_area": null,
            "grid_auto_columns": null,
            "grid_auto_flow": null,
            "grid_auto_rows": null,
            "grid_column": null,
            "grid_gap": null,
            "grid_row": null,
            "grid_template_areas": null,
            "grid_template_columns": null,
            "grid_template_rows": null,
            "height": null,
            "justify_content": null,
            "justify_items": null,
            "left": null,
            "margin": null,
            "max_height": null,
            "max_width": null,
            "min_height": null,
            "min_width": null,
            "object_fit": null,
            "object_position": null,
            "order": null,
            "overflow": null,
            "overflow_x": null,
            "overflow_y": null,
            "padding": null,
            "right": null,
            "top": null,
            "visibility": null,
            "width": null
          }
        },
        "a0fecf1507b2443181065ff9c7970711": {
          "model_module": "@jupyter-widgets/controls",
          "model_name": "DescriptionStyleModel",
          "model_module_version": "1.5.0",
          "state": {
            "_model_module": "@jupyter-widgets/controls",
            "_model_module_version": "1.5.0",
            "_model_name": "DescriptionStyleModel",
            "_view_count": null,
            "_view_module": "@jupyter-widgets/base",
            "_view_module_version": "1.2.0",
            "_view_name": "StyleView",
            "description_width": ""
          }
        },
        "db8f6073f25c48f991f9900ae5ca9976": {
          "model_module": "@jupyter-widgets/controls",
          "model_name": "HBoxModel",
          "model_module_version": "1.5.0",
          "state": {
            "_dom_classes": [],
            "_model_module": "@jupyter-widgets/controls",
            "_model_module_version": "1.5.0",
            "_model_name": "HBoxModel",
            "_view_count": null,
            "_view_module": "@jupyter-widgets/controls",
            "_view_module_version": "1.5.0",
            "_view_name": "HBoxView",
            "box_style": "",
            "children": [
              "IPY_MODEL_33af673df0b14a19b1e84e0c4a434fb2",
              "IPY_MODEL_bceaa5b557824cf181536394ed6f7ee7",
              "IPY_MODEL_643dcad83434466d9af5f5feb112e5af"
            ],
            "layout": "IPY_MODEL_98fecdbd32964f4392b88f84b1325b11"
          }
        },
        "33af673df0b14a19b1e84e0c4a434fb2": {
          "model_module": "@jupyter-widgets/controls",
          "model_name": "HTMLModel",
          "model_module_version": "1.5.0",
          "state": {
            "_dom_classes": [],
            "_model_module": "@jupyter-widgets/controls",
            "_model_module_version": "1.5.0",
            "_model_name": "HTMLModel",
            "_view_count": null,
            "_view_module": "@jupyter-widgets/controls",
            "_view_module_version": "1.5.0",
            "_view_name": "HTMLView",
            "description": "",
            "description_tooltip": null,
            "layout": "IPY_MODEL_4611629a930b4830a8276ad746f4705a",
            "placeholder": "​",
            "style": "IPY_MODEL_09ad6cabc56e4930b4c11ec8be73b91a",
            "value": "added_tokens.json: 100%"
          }
        },
        "bceaa5b557824cf181536394ed6f7ee7": {
          "model_module": "@jupyter-widgets/controls",
          "model_name": "FloatProgressModel",
          "model_module_version": "1.5.0",
          "state": {
            "_dom_classes": [],
            "_model_module": "@jupyter-widgets/controls",
            "_model_module_version": "1.5.0",
            "_model_name": "FloatProgressModel",
            "_view_count": null,
            "_view_module": "@jupyter-widgets/controls",
            "_view_module_version": "1.5.0",
            "_view_name": "ProgressView",
            "bar_style": "success",
            "description": "",
            "description_tooltip": null,
            "layout": "IPY_MODEL_56f7dc4ef26246e7a145d5c8176526c9",
            "max": 122,
            "min": 0,
            "orientation": "horizontal",
            "style": "IPY_MODEL_1e64af5ff77c46a28f976ef17f4e52d8",
            "value": 122
          }
        },
        "643dcad83434466d9af5f5feb112e5af": {
          "model_module": "@jupyter-widgets/controls",
          "model_name": "HTMLModel",
          "model_module_version": "1.5.0",
          "state": {
            "_dom_classes": [],
            "_model_module": "@jupyter-widgets/controls",
            "_model_module_version": "1.5.0",
            "_model_name": "HTMLModel",
            "_view_count": null,
            "_view_module": "@jupyter-widgets/controls",
            "_view_module_version": "1.5.0",
            "_view_name": "HTMLView",
            "description": "",
            "description_tooltip": null,
            "layout": "IPY_MODEL_14eca9ed361d4054910afc5c27f96afb",
            "placeholder": "​",
            "style": "IPY_MODEL_6203b276a2fd49ea975a95f0070f883c",
            "value": " 122/122 [00:00&lt;00:00, 10.9kB/s]"
          }
        },
        "98fecdbd32964f4392b88f84b1325b11": {
          "model_module": "@jupyter-widgets/base",
          "model_name": "LayoutModel",
          "model_module_version": "1.2.0",
          "state": {
            "_model_module": "@jupyter-widgets/base",
            "_model_module_version": "1.2.0",
            "_model_name": "LayoutModel",
            "_view_count": null,
            "_view_module": "@jupyter-widgets/base",
            "_view_module_version": "1.2.0",
            "_view_name": "LayoutView",
            "align_content": null,
            "align_items": null,
            "align_self": null,
            "border": null,
            "bottom": null,
            "display": null,
            "flex": null,
            "flex_flow": null,
            "grid_area": null,
            "grid_auto_columns": null,
            "grid_auto_flow": null,
            "grid_auto_rows": null,
            "grid_column": null,
            "grid_gap": null,
            "grid_row": null,
            "grid_template_areas": null,
            "grid_template_columns": null,
            "grid_template_rows": null,
            "height": null,
            "justify_content": null,
            "justify_items": null,
            "left": null,
            "margin": null,
            "max_height": null,
            "max_width": null,
            "min_height": null,
            "min_width": null,
            "object_fit": null,
            "object_position": null,
            "order": null,
            "overflow": null,
            "overflow_x": null,
            "overflow_y": null,
            "padding": null,
            "right": null,
            "top": null,
            "visibility": null,
            "width": null
          }
        },
        "4611629a930b4830a8276ad746f4705a": {
          "model_module": "@jupyter-widgets/base",
          "model_name": "LayoutModel",
          "model_module_version": "1.2.0",
          "state": {
            "_model_module": "@jupyter-widgets/base",
            "_model_module_version": "1.2.0",
            "_model_name": "LayoutModel",
            "_view_count": null,
            "_view_module": "@jupyter-widgets/base",
            "_view_module_version": "1.2.0",
            "_view_name": "LayoutView",
            "align_content": null,
            "align_items": null,
            "align_self": null,
            "border": null,
            "bottom": null,
            "display": null,
            "flex": null,
            "flex_flow": null,
            "grid_area": null,
            "grid_auto_columns": null,
            "grid_auto_flow": null,
            "grid_auto_rows": null,
            "grid_column": null,
            "grid_gap": null,
            "grid_row": null,
            "grid_template_areas": null,
            "grid_template_columns": null,
            "grid_template_rows": null,
            "height": null,
            "justify_content": null,
            "justify_items": null,
            "left": null,
            "margin": null,
            "max_height": null,
            "max_width": null,
            "min_height": null,
            "min_width": null,
            "object_fit": null,
            "object_position": null,
            "order": null,
            "overflow": null,
            "overflow_x": null,
            "overflow_y": null,
            "padding": null,
            "right": null,
            "top": null,
            "visibility": null,
            "width": null
          }
        },
        "09ad6cabc56e4930b4c11ec8be73b91a": {
          "model_module": "@jupyter-widgets/controls",
          "model_name": "DescriptionStyleModel",
          "model_module_version": "1.5.0",
          "state": {
            "_model_module": "@jupyter-widgets/controls",
            "_model_module_version": "1.5.0",
            "_model_name": "DescriptionStyleModel",
            "_view_count": null,
            "_view_module": "@jupyter-widgets/base",
            "_view_module_version": "1.2.0",
            "_view_name": "StyleView",
            "description_width": ""
          }
        },
        "56f7dc4ef26246e7a145d5c8176526c9": {
          "model_module": "@jupyter-widgets/base",
          "model_name": "LayoutModel",
          "model_module_version": "1.2.0",
          "state": {
            "_model_module": "@jupyter-widgets/base",
            "_model_module_version": "1.2.0",
            "_model_name": "LayoutModel",
            "_view_count": null,
            "_view_module": "@jupyter-widgets/base",
            "_view_module_version": "1.2.0",
            "_view_name": "LayoutView",
            "align_content": null,
            "align_items": null,
            "align_self": null,
            "border": null,
            "bottom": null,
            "display": null,
            "flex": null,
            "flex_flow": null,
            "grid_area": null,
            "grid_auto_columns": null,
            "grid_auto_flow": null,
            "grid_auto_rows": null,
            "grid_column": null,
            "grid_gap": null,
            "grid_row": null,
            "grid_template_areas": null,
            "grid_template_columns": null,
            "grid_template_rows": null,
            "height": null,
            "justify_content": null,
            "justify_items": null,
            "left": null,
            "margin": null,
            "max_height": null,
            "max_width": null,
            "min_height": null,
            "min_width": null,
            "object_fit": null,
            "object_position": null,
            "order": null,
            "overflow": null,
            "overflow_x": null,
            "overflow_y": null,
            "padding": null,
            "right": null,
            "top": null,
            "visibility": null,
            "width": null
          }
        },
        "1e64af5ff77c46a28f976ef17f4e52d8": {
          "model_module": "@jupyter-widgets/controls",
          "model_name": "ProgressStyleModel",
          "model_module_version": "1.5.0",
          "state": {
            "_model_module": "@jupyter-widgets/controls",
            "_model_module_version": "1.5.0",
            "_model_name": "ProgressStyleModel",
            "_view_count": null,
            "_view_module": "@jupyter-widgets/base",
            "_view_module_version": "1.2.0",
            "_view_name": "StyleView",
            "bar_color": null,
            "description_width": ""
          }
        },
        "14eca9ed361d4054910afc5c27f96afb": {
          "model_module": "@jupyter-widgets/base",
          "model_name": "LayoutModel",
          "model_module_version": "1.2.0",
          "state": {
            "_model_module": "@jupyter-widgets/base",
            "_model_module_version": "1.2.0",
            "_model_name": "LayoutModel",
            "_view_count": null,
            "_view_module": "@jupyter-widgets/base",
            "_view_module_version": "1.2.0",
            "_view_name": "LayoutView",
            "align_content": null,
            "align_items": null,
            "align_self": null,
            "border": null,
            "bottom": null,
            "display": null,
            "flex": null,
            "flex_flow": null,
            "grid_area": null,
            "grid_auto_columns": null,
            "grid_auto_flow": null,
            "grid_auto_rows": null,
            "grid_column": null,
            "grid_gap": null,
            "grid_row": null,
            "grid_template_areas": null,
            "grid_template_columns": null,
            "grid_template_rows": null,
            "height": null,
            "justify_content": null,
            "justify_items": null,
            "left": null,
            "margin": null,
            "max_height": null,
            "max_width": null,
            "min_height": null,
            "min_width": null,
            "object_fit": null,
            "object_position": null,
            "order": null,
            "overflow": null,
            "overflow_x": null,
            "overflow_y": null,
            "padding": null,
            "right": null,
            "top": null,
            "visibility": null,
            "width": null
          }
        },
        "6203b276a2fd49ea975a95f0070f883c": {
          "model_module": "@jupyter-widgets/controls",
          "model_name": "DescriptionStyleModel",
          "model_module_version": "1.5.0",
          "state": {
            "_model_module": "@jupyter-widgets/controls",
            "_model_module_version": "1.5.0",
            "_model_name": "DescriptionStyleModel",
            "_view_count": null,
            "_view_module": "@jupyter-widgets/base",
            "_view_module_version": "1.2.0",
            "_view_name": "StyleView",
            "description_width": ""
          }
        },
        "92eac25c9ffd4b4b85f216011267906d": {
          "model_module": "@jupyter-widgets/controls",
          "model_name": "HBoxModel",
          "model_module_version": "1.5.0",
          "state": {
            "_dom_classes": [],
            "_model_module": "@jupyter-widgets/controls",
            "_model_module_version": "1.5.0",
            "_model_name": "HBoxModel",
            "_view_count": null,
            "_view_module": "@jupyter-widgets/controls",
            "_view_module_version": "1.5.0",
            "_view_name": "HBoxView",
            "box_style": "",
            "children": [
              "IPY_MODEL_4a89da41fd42472f8f79ca738d7da1a8",
              "IPY_MODEL_d8634561ee50404589cafc30253e8d3b",
              "IPY_MODEL_0e301b8b9f5242d89d800f70c3252fa6"
            ],
            "layout": "IPY_MODEL_bb58f8674fa642b8af52b4c919c64add"
          }
        },
        "4a89da41fd42472f8f79ca738d7da1a8": {
          "model_module": "@jupyter-widgets/controls",
          "model_name": "HTMLModel",
          "model_module_version": "1.5.0",
          "state": {
            "_dom_classes": [],
            "_model_module": "@jupyter-widgets/controls",
            "_model_module_version": "1.5.0",
            "_model_name": "HTMLModel",
            "_view_count": null,
            "_view_module": "@jupyter-widgets/controls",
            "_view_module_version": "1.5.0",
            "_view_name": "HTMLView",
            "description": "",
            "description_tooltip": null,
            "layout": "IPY_MODEL_7d5b706740c6400295f9019cd4b14496",
            "placeholder": "​",
            "style": "IPY_MODEL_eb31597bba294d98b02039d560b28395",
            "value": "special_tokens_map.json: 100%"
          }
        },
        "d8634561ee50404589cafc30253e8d3b": {
          "model_module": "@jupyter-widgets/controls",
          "model_name": "FloatProgressModel",
          "model_module_version": "1.5.0",
          "state": {
            "_dom_classes": [],
            "_model_module": "@jupyter-widgets/controls",
            "_model_module_version": "1.5.0",
            "_model_name": "FloatProgressModel",
            "_view_count": null,
            "_view_module": "@jupyter-widgets/controls",
            "_view_module_version": "1.5.0",
            "_view_name": "ProgressView",
            "bar_style": "success",
            "description": "",
            "description_tooltip": null,
            "layout": "IPY_MODEL_f5fb43dbf2ad4e128c62b0667b844178",
            "max": 169,
            "min": 0,
            "orientation": "horizontal",
            "style": "IPY_MODEL_e1a2bbcfe84744eab8b11445c9728fe9",
            "value": 169
          }
        },
        "0e301b8b9f5242d89d800f70c3252fa6": {
          "model_module": "@jupyter-widgets/controls",
          "model_name": "HTMLModel",
          "model_module_version": "1.5.0",
          "state": {
            "_dom_classes": [],
            "_model_module": "@jupyter-widgets/controls",
            "_model_module_version": "1.5.0",
            "_model_name": "HTMLModel",
            "_view_count": null,
            "_view_module": "@jupyter-widgets/controls",
            "_view_module_version": "1.5.0",
            "_view_name": "HTMLView",
            "description": "",
            "description_tooltip": null,
            "layout": "IPY_MODEL_72cbc21b22194c209a029fd6615ca5c8",
            "placeholder": "​",
            "style": "IPY_MODEL_ce08e4ef59664f72bf6e581939fc30ab",
            "value": " 169/169 [00:00&lt;00:00, 15.3kB/s]"
          }
        },
        "bb58f8674fa642b8af52b4c919c64add": {
          "model_module": "@jupyter-widgets/base",
          "model_name": "LayoutModel",
          "model_module_version": "1.2.0",
          "state": {
            "_model_module": "@jupyter-widgets/base",
            "_model_module_version": "1.2.0",
            "_model_name": "LayoutModel",
            "_view_count": null,
            "_view_module": "@jupyter-widgets/base",
            "_view_module_version": "1.2.0",
            "_view_name": "LayoutView",
            "align_content": null,
            "align_items": null,
            "align_self": null,
            "border": null,
            "bottom": null,
            "display": null,
            "flex": null,
            "flex_flow": null,
            "grid_area": null,
            "grid_auto_columns": null,
            "grid_auto_flow": null,
            "grid_auto_rows": null,
            "grid_column": null,
            "grid_gap": null,
            "grid_row": null,
            "grid_template_areas": null,
            "grid_template_columns": null,
            "grid_template_rows": null,
            "height": null,
            "justify_content": null,
            "justify_items": null,
            "left": null,
            "margin": null,
            "max_height": null,
            "max_width": null,
            "min_height": null,
            "min_width": null,
            "object_fit": null,
            "object_position": null,
            "order": null,
            "overflow": null,
            "overflow_x": null,
            "overflow_y": null,
            "padding": null,
            "right": null,
            "top": null,
            "visibility": null,
            "width": null
          }
        },
        "7d5b706740c6400295f9019cd4b14496": {
          "model_module": "@jupyter-widgets/base",
          "model_name": "LayoutModel",
          "model_module_version": "1.2.0",
          "state": {
            "_model_module": "@jupyter-widgets/base",
            "_model_module_version": "1.2.0",
            "_model_name": "LayoutModel",
            "_view_count": null,
            "_view_module": "@jupyter-widgets/base",
            "_view_module_version": "1.2.0",
            "_view_name": "LayoutView",
            "align_content": null,
            "align_items": null,
            "align_self": null,
            "border": null,
            "bottom": null,
            "display": null,
            "flex": null,
            "flex_flow": null,
            "grid_area": null,
            "grid_auto_columns": null,
            "grid_auto_flow": null,
            "grid_auto_rows": null,
            "grid_column": null,
            "grid_gap": null,
            "grid_row": null,
            "grid_template_areas": null,
            "grid_template_columns": null,
            "grid_template_rows": null,
            "height": null,
            "justify_content": null,
            "justify_items": null,
            "left": null,
            "margin": null,
            "max_height": null,
            "max_width": null,
            "min_height": null,
            "min_width": null,
            "object_fit": null,
            "object_position": null,
            "order": null,
            "overflow": null,
            "overflow_x": null,
            "overflow_y": null,
            "padding": null,
            "right": null,
            "top": null,
            "visibility": null,
            "width": null
          }
        },
        "eb31597bba294d98b02039d560b28395": {
          "model_module": "@jupyter-widgets/controls",
          "model_name": "DescriptionStyleModel",
          "model_module_version": "1.5.0",
          "state": {
            "_model_module": "@jupyter-widgets/controls",
            "_model_module_version": "1.5.0",
            "_model_name": "DescriptionStyleModel",
            "_view_count": null,
            "_view_module": "@jupyter-widgets/base",
            "_view_module_version": "1.2.0",
            "_view_name": "StyleView",
            "description_width": ""
          }
        },
        "f5fb43dbf2ad4e128c62b0667b844178": {
          "model_module": "@jupyter-widgets/base",
          "model_name": "LayoutModel",
          "model_module_version": "1.2.0",
          "state": {
            "_model_module": "@jupyter-widgets/base",
            "_model_module_version": "1.2.0",
            "_model_name": "LayoutModel",
            "_view_count": null,
            "_view_module": "@jupyter-widgets/base",
            "_view_module_version": "1.2.0",
            "_view_name": "LayoutView",
            "align_content": null,
            "align_items": null,
            "align_self": null,
            "border": null,
            "bottom": null,
            "display": null,
            "flex": null,
            "flex_flow": null,
            "grid_area": null,
            "grid_auto_columns": null,
            "grid_auto_flow": null,
            "grid_auto_rows": null,
            "grid_column": null,
            "grid_gap": null,
            "grid_row": null,
            "grid_template_areas": null,
            "grid_template_columns": null,
            "grid_template_rows": null,
            "height": null,
            "justify_content": null,
            "justify_items": null,
            "left": null,
            "margin": null,
            "max_height": null,
            "max_width": null,
            "min_height": null,
            "min_width": null,
            "object_fit": null,
            "object_position": null,
            "order": null,
            "overflow": null,
            "overflow_x": null,
            "overflow_y": null,
            "padding": null,
            "right": null,
            "top": null,
            "visibility": null,
            "width": null
          }
        },
        "e1a2bbcfe84744eab8b11445c9728fe9": {
          "model_module": "@jupyter-widgets/controls",
          "model_name": "ProgressStyleModel",
          "model_module_version": "1.5.0",
          "state": {
            "_model_module": "@jupyter-widgets/controls",
            "_model_module_version": "1.5.0",
            "_model_name": "ProgressStyleModel",
            "_view_count": null,
            "_view_module": "@jupyter-widgets/base",
            "_view_module_version": "1.2.0",
            "_view_name": "StyleView",
            "bar_color": null,
            "description_width": ""
          }
        },
        "72cbc21b22194c209a029fd6615ca5c8": {
          "model_module": "@jupyter-widgets/base",
          "model_name": "LayoutModel",
          "model_module_version": "1.2.0",
          "state": {
            "_model_module": "@jupyter-widgets/base",
            "_model_module_version": "1.2.0",
            "_model_name": "LayoutModel",
            "_view_count": null,
            "_view_module": "@jupyter-widgets/base",
            "_view_module_version": "1.2.0",
            "_view_name": "LayoutView",
            "align_content": null,
            "align_items": null,
            "align_self": null,
            "border": null,
            "bottom": null,
            "display": null,
            "flex": null,
            "flex_flow": null,
            "grid_area": null,
            "grid_auto_columns": null,
            "grid_auto_flow": null,
            "grid_auto_rows": null,
            "grid_column": null,
            "grid_gap": null,
            "grid_row": null,
            "grid_template_areas": null,
            "grid_template_columns": null,
            "grid_template_rows": null,
            "height": null,
            "justify_content": null,
            "justify_items": null,
            "left": null,
            "margin": null,
            "max_height": null,
            "max_width": null,
            "min_height": null,
            "min_width": null,
            "object_fit": null,
            "object_position": null,
            "order": null,
            "overflow": null,
            "overflow_x": null,
            "overflow_y": null,
            "padding": null,
            "right": null,
            "top": null,
            "visibility": null,
            "width": null
          }
        },
        "ce08e4ef59664f72bf6e581939fc30ab": {
          "model_module": "@jupyter-widgets/controls",
          "model_name": "DescriptionStyleModel",
          "model_module_version": "1.5.0",
          "state": {
            "_model_module": "@jupyter-widgets/controls",
            "_model_module_version": "1.5.0",
            "_model_name": "DescriptionStyleModel",
            "_view_count": null,
            "_view_module": "@jupyter-widgets/base",
            "_view_module_version": "1.2.0",
            "_view_name": "StyleView",
            "description_width": ""
          }
        },
        "2bd8582c398f4acf8cdaa6de511db911": {
          "model_module": "@jupyter-widgets/controls",
          "model_name": "HBoxModel",
          "model_module_version": "1.5.0",
          "state": {
            "_dom_classes": [],
            "_model_module": "@jupyter-widgets/controls",
            "_model_module_version": "1.5.0",
            "_model_name": "HBoxModel",
            "_view_count": null,
            "_view_module": "@jupyter-widgets/controls",
            "_view_module_version": "1.5.0",
            "_view_name": "HBoxView",
            "box_style": "",
            "children": [
              "IPY_MODEL_239608eb4d484ac3b79ec226a27fcc94",
              "IPY_MODEL_75f318d8f0764180a68e0cfe058603ba",
              "IPY_MODEL_c482d642a6b740f48937ef7c07c91a1d"
            ],
            "layout": "IPY_MODEL_53894cd223d040558dba7bdfa7bd7ac1"
          }
        },
        "239608eb4d484ac3b79ec226a27fcc94": {
          "model_module": "@jupyter-widgets/controls",
          "model_name": "HTMLModel",
          "model_module_version": "1.5.0",
          "state": {
            "_dom_classes": [],
            "_model_module": "@jupyter-widgets/controls",
            "_model_module_version": "1.5.0",
            "_model_name": "HTMLModel",
            "_view_count": null,
            "_view_module": "@jupyter-widgets/controls",
            "_view_module_version": "1.5.0",
            "_view_name": "HTMLView",
            "description": "",
            "description_tooltip": null,
            "layout": "IPY_MODEL_d9ee4fbe7f9544f7a7a511228a8b3041",
            "placeholder": "​",
            "style": "IPY_MODEL_1215a6035a254defadfc70184dc48f61",
            "value": "config.json: 100%"
          }
        },
        "75f318d8f0764180a68e0cfe058603ba": {
          "model_module": "@jupyter-widgets/controls",
          "model_name": "FloatProgressModel",
          "model_module_version": "1.5.0",
          "state": {
            "_dom_classes": [],
            "_model_module": "@jupyter-widgets/controls",
            "_model_module_version": "1.5.0",
            "_model_name": "FloatProgressModel",
            "_view_count": null,
            "_view_module": "@jupyter-widgets/controls",
            "_view_module_version": "1.5.0",
            "_view_name": "ProgressView",
            "bar_style": "success",
            "description": "",
            "description_tooltip": null,
            "layout": "IPY_MODEL_9b5e62b911124aeca2fb69bd9142b74b",
            "max": 614,
            "min": 0,
            "orientation": "horizontal",
            "style": "IPY_MODEL_1f160d1756694e0996960337d494be73",
            "value": 614
          }
        },
        "c482d642a6b740f48937ef7c07c91a1d": {
          "model_module": "@jupyter-widgets/controls",
          "model_name": "HTMLModel",
          "model_module_version": "1.5.0",
          "state": {
            "_dom_classes": [],
            "_model_module": "@jupyter-widgets/controls",
            "_model_module_version": "1.5.0",
            "_model_name": "HTMLModel",
            "_view_count": null,
            "_view_module": "@jupyter-widgets/controls",
            "_view_module_version": "1.5.0",
            "_view_name": "HTMLView",
            "description": "",
            "description_tooltip": null,
            "layout": "IPY_MODEL_e4d2e6402c3947e9a6dd0d6988c5d4ce",
            "placeholder": "​",
            "style": "IPY_MODEL_6431bdf67be946e19b365cfc44402534",
            "value": " 614/614 [00:00&lt;00:00, 55.3kB/s]"
          }
        },
        "53894cd223d040558dba7bdfa7bd7ac1": {
          "model_module": "@jupyter-widgets/base",
          "model_name": "LayoutModel",
          "model_module_version": "1.2.0",
          "state": {
            "_model_module": "@jupyter-widgets/base",
            "_model_module_version": "1.2.0",
            "_model_name": "LayoutModel",
            "_view_count": null,
            "_view_module": "@jupyter-widgets/base",
            "_view_module_version": "1.2.0",
            "_view_name": "LayoutView",
            "align_content": null,
            "align_items": null,
            "align_self": null,
            "border": null,
            "bottom": null,
            "display": null,
            "flex": null,
            "flex_flow": null,
            "grid_area": null,
            "grid_auto_columns": null,
            "grid_auto_flow": null,
            "grid_auto_rows": null,
            "grid_column": null,
            "grid_gap": null,
            "grid_row": null,
            "grid_template_areas": null,
            "grid_template_columns": null,
            "grid_template_rows": null,
            "height": null,
            "justify_content": null,
            "justify_items": null,
            "left": null,
            "margin": null,
            "max_height": null,
            "max_width": null,
            "min_height": null,
            "min_width": null,
            "object_fit": null,
            "object_position": null,
            "order": null,
            "overflow": null,
            "overflow_x": null,
            "overflow_y": null,
            "padding": null,
            "right": null,
            "top": null,
            "visibility": null,
            "width": null
          }
        },
        "d9ee4fbe7f9544f7a7a511228a8b3041": {
          "model_module": "@jupyter-widgets/base",
          "model_name": "LayoutModel",
          "model_module_version": "1.2.0",
          "state": {
            "_model_module": "@jupyter-widgets/base",
            "_model_module_version": "1.2.0",
            "_model_name": "LayoutModel",
            "_view_count": null,
            "_view_module": "@jupyter-widgets/base",
            "_view_module_version": "1.2.0",
            "_view_name": "LayoutView",
            "align_content": null,
            "align_items": null,
            "align_self": null,
            "border": null,
            "bottom": null,
            "display": null,
            "flex": null,
            "flex_flow": null,
            "grid_area": null,
            "grid_auto_columns": null,
            "grid_auto_flow": null,
            "grid_auto_rows": null,
            "grid_column": null,
            "grid_gap": null,
            "grid_row": null,
            "grid_template_areas": null,
            "grid_template_columns": null,
            "grid_template_rows": null,
            "height": null,
            "justify_content": null,
            "justify_items": null,
            "left": null,
            "margin": null,
            "max_height": null,
            "max_width": null,
            "min_height": null,
            "min_width": null,
            "object_fit": null,
            "object_position": null,
            "order": null,
            "overflow": null,
            "overflow_x": null,
            "overflow_y": null,
            "padding": null,
            "right": null,
            "top": null,
            "visibility": null,
            "width": null
          }
        },
        "1215a6035a254defadfc70184dc48f61": {
          "model_module": "@jupyter-widgets/controls",
          "model_name": "DescriptionStyleModel",
          "model_module_version": "1.5.0",
          "state": {
            "_model_module": "@jupyter-widgets/controls",
            "_model_module_version": "1.5.0",
            "_model_name": "DescriptionStyleModel",
            "_view_count": null,
            "_view_module": "@jupyter-widgets/base",
            "_view_module_version": "1.2.0",
            "_view_name": "StyleView",
            "description_width": ""
          }
        },
        "9b5e62b911124aeca2fb69bd9142b74b": {
          "model_module": "@jupyter-widgets/base",
          "model_name": "LayoutModel",
          "model_module_version": "1.2.0",
          "state": {
            "_model_module": "@jupyter-widgets/base",
            "_model_module_version": "1.2.0",
            "_model_name": "LayoutModel",
            "_view_count": null,
            "_view_module": "@jupyter-widgets/base",
            "_view_module_version": "1.2.0",
            "_view_name": "LayoutView",
            "align_content": null,
            "align_items": null,
            "align_self": null,
            "border": null,
            "bottom": null,
            "display": null,
            "flex": null,
            "flex_flow": null,
            "grid_area": null,
            "grid_auto_columns": null,
            "grid_auto_flow": null,
            "grid_auto_rows": null,
            "grid_column": null,
            "grid_gap": null,
            "grid_row": null,
            "grid_template_areas": null,
            "grid_template_columns": null,
            "grid_template_rows": null,
            "height": null,
            "justify_content": null,
            "justify_items": null,
            "left": null,
            "margin": null,
            "max_height": null,
            "max_width": null,
            "min_height": null,
            "min_width": null,
            "object_fit": null,
            "object_position": null,
            "order": null,
            "overflow": null,
            "overflow_x": null,
            "overflow_y": null,
            "padding": null,
            "right": null,
            "top": null,
            "visibility": null,
            "width": null
          }
        },
        "1f160d1756694e0996960337d494be73": {
          "model_module": "@jupyter-widgets/controls",
          "model_name": "ProgressStyleModel",
          "model_module_version": "1.5.0",
          "state": {
            "_model_module": "@jupyter-widgets/controls",
            "_model_module_version": "1.5.0",
            "_model_name": "ProgressStyleModel",
            "_view_count": null,
            "_view_module": "@jupyter-widgets/base",
            "_view_module_version": "1.2.0",
            "_view_name": "StyleView",
            "bar_color": null,
            "description_width": ""
          }
        },
        "e4d2e6402c3947e9a6dd0d6988c5d4ce": {
          "model_module": "@jupyter-widgets/base",
          "model_name": "LayoutModel",
          "model_module_version": "1.2.0",
          "state": {
            "_model_module": "@jupyter-widgets/base",
            "_model_module_version": "1.2.0",
            "_model_name": "LayoutModel",
            "_view_count": null,
            "_view_module": "@jupyter-widgets/base",
            "_view_module_version": "1.2.0",
            "_view_name": "LayoutView",
            "align_content": null,
            "align_items": null,
            "align_self": null,
            "border": null,
            "bottom": null,
            "display": null,
            "flex": null,
            "flex_flow": null,
            "grid_area": null,
            "grid_auto_columns": null,
            "grid_auto_flow": null,
            "grid_auto_rows": null,
            "grid_column": null,
            "grid_gap": null,
            "grid_row": null,
            "grid_template_areas": null,
            "grid_template_columns": null,
            "grid_template_rows": null,
            "height": null,
            "justify_content": null,
            "justify_items": null,
            "left": null,
            "margin": null,
            "max_height": null,
            "max_width": null,
            "min_height": null,
            "min_width": null,
            "object_fit": null,
            "object_position": null,
            "order": null,
            "overflow": null,
            "overflow_x": null,
            "overflow_y": null,
            "padding": null,
            "right": null,
            "top": null,
            "visibility": null,
            "width": null
          }
        },
        "6431bdf67be946e19b365cfc44402534": {
          "model_module": "@jupyter-widgets/controls",
          "model_name": "DescriptionStyleModel",
          "model_module_version": "1.5.0",
          "state": {
            "_model_module": "@jupyter-widgets/controls",
            "_model_module_version": "1.5.0",
            "_model_name": "DescriptionStyleModel",
            "_view_count": null,
            "_view_module": "@jupyter-widgets/base",
            "_view_module_version": "1.2.0",
            "_view_name": "StyleView",
            "description_width": ""
          }
        },
        "e47318ebfafd420f9634ca09c116955c": {
          "model_module": "@jupyter-widgets/controls",
          "model_name": "HBoxModel",
          "model_module_version": "1.5.0",
          "state": {
            "_dom_classes": [],
            "_model_module": "@jupyter-widgets/controls",
            "_model_module_version": "1.5.0",
            "_model_name": "HBoxModel",
            "_view_count": null,
            "_view_module": "@jupyter-widgets/controls",
            "_view_module_version": "1.5.0",
            "_view_name": "HBoxView",
            "box_style": "",
            "children": [
              "IPY_MODEL_da9f6daae22b4faf97aafb17e8c2d8da",
              "IPY_MODEL_0d25f9f554be46b39b32b88f91a47b75",
              "IPY_MODEL_f6cff6335dfa4ede8793755395612d95"
            ],
            "layout": "IPY_MODEL_c529657de7b3465a978cbb6966b9673b"
          }
        },
        "da9f6daae22b4faf97aafb17e8c2d8da": {
          "model_module": "@jupyter-widgets/controls",
          "model_name": "HTMLModel",
          "model_module_version": "1.5.0",
          "state": {
            "_dom_classes": [],
            "_model_module": "@jupyter-widgets/controls",
            "_model_module_version": "1.5.0",
            "_model_name": "HTMLModel",
            "_view_count": null,
            "_view_module": "@jupyter-widgets/controls",
            "_view_module_version": "1.5.0",
            "_view_name": "HTMLView",
            "description": "",
            "description_tooltip": null,
            "layout": "IPY_MODEL_31765ba021a24948a9771004b8eef71a",
            "placeholder": "​",
            "style": "IPY_MODEL_8d42da87c7e143afa396b65cb34b8226",
            "value": "model.safetensors.index.json: 100%"
          }
        },
        "0d25f9f554be46b39b32b88f91a47b75": {
          "model_module": "@jupyter-widgets/controls",
          "model_name": "FloatProgressModel",
          "model_module_version": "1.5.0",
          "state": {
            "_dom_classes": [],
            "_model_module": "@jupyter-widgets/controls",
            "_model_module_version": "1.5.0",
            "_model_name": "FloatProgressModel",
            "_view_count": null,
            "_view_module": "@jupyter-widgets/controls",
            "_view_module_version": "1.5.0",
            "_view_name": "ProgressView",
            "bar_style": "success",
            "description": "",
            "description_tooltip": null,
            "layout": "IPY_MODEL_a4bafaec3d184089acb9b42727d6b7bd",
            "max": 25125,
            "min": 0,
            "orientation": "horizontal",
            "style": "IPY_MODEL_f617cf86f85d422da8f7376bfd234f32",
            "value": 25125
          }
        },
        "f6cff6335dfa4ede8793755395612d95": {
          "model_module": "@jupyter-widgets/controls",
          "model_name": "HTMLModel",
          "model_module_version": "1.5.0",
          "state": {
            "_dom_classes": [],
            "_model_module": "@jupyter-widgets/controls",
            "_model_module_version": "1.5.0",
            "_model_name": "HTMLModel",
            "_view_count": null,
            "_view_module": "@jupyter-widgets/controls",
            "_view_module_version": "1.5.0",
            "_view_name": "HTMLView",
            "description": "",
            "description_tooltip": null,
            "layout": "IPY_MODEL_52d2e19deec34f5793ce66f4a53775bd",
            "placeholder": "​",
            "style": "IPY_MODEL_c77321fbb2a74a0db2404c91eec918c7",
            "value": " 25.1k/25.1k [00:00&lt;00:00, 1.84MB/s]"
          }
        },
        "c529657de7b3465a978cbb6966b9673b": {
          "model_module": "@jupyter-widgets/base",
          "model_name": "LayoutModel",
          "model_module_version": "1.2.0",
          "state": {
            "_model_module": "@jupyter-widgets/base",
            "_model_module_version": "1.2.0",
            "_model_name": "LayoutModel",
            "_view_count": null,
            "_view_module": "@jupyter-widgets/base",
            "_view_module_version": "1.2.0",
            "_view_name": "LayoutView",
            "align_content": null,
            "align_items": null,
            "align_self": null,
            "border": null,
            "bottom": null,
            "display": null,
            "flex": null,
            "flex_flow": null,
            "grid_area": null,
            "grid_auto_columns": null,
            "grid_auto_flow": null,
            "grid_auto_rows": null,
            "grid_column": null,
            "grid_gap": null,
            "grid_row": null,
            "grid_template_areas": null,
            "grid_template_columns": null,
            "grid_template_rows": null,
            "height": null,
            "justify_content": null,
            "justify_items": null,
            "left": null,
            "margin": null,
            "max_height": null,
            "max_width": null,
            "min_height": null,
            "min_width": null,
            "object_fit": null,
            "object_position": null,
            "order": null,
            "overflow": null,
            "overflow_x": null,
            "overflow_y": null,
            "padding": null,
            "right": null,
            "top": null,
            "visibility": null,
            "width": null
          }
        },
        "31765ba021a24948a9771004b8eef71a": {
          "model_module": "@jupyter-widgets/base",
          "model_name": "LayoutModel",
          "model_module_version": "1.2.0",
          "state": {
            "_model_module": "@jupyter-widgets/base",
            "_model_module_version": "1.2.0",
            "_model_name": "LayoutModel",
            "_view_count": null,
            "_view_module": "@jupyter-widgets/base",
            "_view_module_version": "1.2.0",
            "_view_name": "LayoutView",
            "align_content": null,
            "align_items": null,
            "align_self": null,
            "border": null,
            "bottom": null,
            "display": null,
            "flex": null,
            "flex_flow": null,
            "grid_area": null,
            "grid_auto_columns": null,
            "grid_auto_flow": null,
            "grid_auto_rows": null,
            "grid_column": null,
            "grid_gap": null,
            "grid_row": null,
            "grid_template_areas": null,
            "grid_template_columns": null,
            "grid_template_rows": null,
            "height": null,
            "justify_content": null,
            "justify_items": null,
            "left": null,
            "margin": null,
            "max_height": null,
            "max_width": null,
            "min_height": null,
            "min_width": null,
            "object_fit": null,
            "object_position": null,
            "order": null,
            "overflow": null,
            "overflow_x": null,
            "overflow_y": null,
            "padding": null,
            "right": null,
            "top": null,
            "visibility": null,
            "width": null
          }
        },
        "8d42da87c7e143afa396b65cb34b8226": {
          "model_module": "@jupyter-widgets/controls",
          "model_name": "DescriptionStyleModel",
          "model_module_version": "1.5.0",
          "state": {
            "_model_module": "@jupyter-widgets/controls",
            "_model_module_version": "1.5.0",
            "_model_name": "DescriptionStyleModel",
            "_view_count": null,
            "_view_module": "@jupyter-widgets/base",
            "_view_module_version": "1.2.0",
            "_view_name": "StyleView",
            "description_width": ""
          }
        },
        "a4bafaec3d184089acb9b42727d6b7bd": {
          "model_module": "@jupyter-widgets/base",
          "model_name": "LayoutModel",
          "model_module_version": "1.2.0",
          "state": {
            "_model_module": "@jupyter-widgets/base",
            "_model_module_version": "1.2.0",
            "_model_name": "LayoutModel",
            "_view_count": null,
            "_view_module": "@jupyter-widgets/base",
            "_view_module_version": "1.2.0",
            "_view_name": "LayoutView",
            "align_content": null,
            "align_items": null,
            "align_self": null,
            "border": null,
            "bottom": null,
            "display": null,
            "flex": null,
            "flex_flow": null,
            "grid_area": null,
            "grid_auto_columns": null,
            "grid_auto_flow": null,
            "grid_auto_rows": null,
            "grid_column": null,
            "grid_gap": null,
            "grid_row": null,
            "grid_template_areas": null,
            "grid_template_columns": null,
            "grid_template_rows": null,
            "height": null,
            "justify_content": null,
            "justify_items": null,
            "left": null,
            "margin": null,
            "max_height": null,
            "max_width": null,
            "min_height": null,
            "min_width": null,
            "object_fit": null,
            "object_position": null,
            "order": null,
            "overflow": null,
            "overflow_x": null,
            "overflow_y": null,
            "padding": null,
            "right": null,
            "top": null,
            "visibility": null,
            "width": null
          }
        },
        "f617cf86f85d422da8f7376bfd234f32": {
          "model_module": "@jupyter-widgets/controls",
          "model_name": "ProgressStyleModel",
          "model_module_version": "1.5.0",
          "state": {
            "_model_module": "@jupyter-widgets/controls",
            "_model_module_version": "1.5.0",
            "_model_name": "ProgressStyleModel",
            "_view_count": null,
            "_view_module": "@jupyter-widgets/base",
            "_view_module_version": "1.2.0",
            "_view_name": "StyleView",
            "bar_color": null,
            "description_width": ""
          }
        },
        "52d2e19deec34f5793ce66f4a53775bd": {
          "model_module": "@jupyter-widgets/base",
          "model_name": "LayoutModel",
          "model_module_version": "1.2.0",
          "state": {
            "_model_module": "@jupyter-widgets/base",
            "_model_module_version": "1.2.0",
            "_model_name": "LayoutModel",
            "_view_count": null,
            "_view_module": "@jupyter-widgets/base",
            "_view_module_version": "1.2.0",
            "_view_name": "LayoutView",
            "align_content": null,
            "align_items": null,
            "align_self": null,
            "border": null,
            "bottom": null,
            "display": null,
            "flex": null,
            "flex_flow": null,
            "grid_area": null,
            "grid_auto_columns": null,
            "grid_auto_flow": null,
            "grid_auto_rows": null,
            "grid_column": null,
            "grid_gap": null,
            "grid_row": null,
            "grid_template_areas": null,
            "grid_template_columns": null,
            "grid_template_rows": null,
            "height": null,
            "justify_content": null,
            "justify_items": null,
            "left": null,
            "margin": null,
            "max_height": null,
            "max_width": null,
            "min_height": null,
            "min_width": null,
            "object_fit": null,
            "object_position": null,
            "order": null,
            "overflow": null,
            "overflow_x": null,
            "overflow_y": null,
            "padding": null,
            "right": null,
            "top": null,
            "visibility": null,
            "width": null
          }
        },
        "c77321fbb2a74a0db2404c91eec918c7": {
          "model_module": "@jupyter-widgets/controls",
          "model_name": "DescriptionStyleModel",
          "model_module_version": "1.5.0",
          "state": {
            "_model_module": "@jupyter-widgets/controls",
            "_model_module_version": "1.5.0",
            "_model_name": "DescriptionStyleModel",
            "_view_count": null,
            "_view_module": "@jupyter-widgets/base",
            "_view_module_version": "1.2.0",
            "_view_name": "StyleView",
            "description_width": ""
          }
        },
        "4807bb478245479d86272649c4facf7e": {
          "model_module": "@jupyter-widgets/controls",
          "model_name": "HBoxModel",
          "model_module_version": "1.5.0",
          "state": {
            "_dom_classes": [],
            "_model_module": "@jupyter-widgets/controls",
            "_model_module_version": "1.5.0",
            "_model_name": "HBoxModel",
            "_view_count": null,
            "_view_module": "@jupyter-widgets/controls",
            "_view_module_version": "1.5.0",
            "_view_name": "HBoxView",
            "box_style": "",
            "children": [
              "IPY_MODEL_e096f0d3bf63477995ec686986b898f6",
              "IPY_MODEL_c1d62c2da99d4579b8224616e2eb2d7b",
              "IPY_MODEL_dad7afcf8d444d45a707f89de766c10d"
            ],
            "layout": "IPY_MODEL_4668d2cc337a440687799e93d2f54847"
          }
        },
        "e096f0d3bf63477995ec686986b898f6": {
          "model_module": "@jupyter-widgets/controls",
          "model_name": "HTMLModel",
          "model_module_version": "1.5.0",
          "state": {
            "_dom_classes": [],
            "_model_module": "@jupyter-widgets/controls",
            "_model_module_version": "1.5.0",
            "_model_name": "HTMLModel",
            "_view_count": null,
            "_view_module": "@jupyter-widgets/controls",
            "_view_module_version": "1.5.0",
            "_view_name": "HTMLView",
            "description": "",
            "description_tooltip": null,
            "layout": "IPY_MODEL_3ce64cce895340c597bbe272f9885894",
            "placeholder": "​",
            "style": "IPY_MODEL_7b9ecbcf438d44959edb17a189d935c7",
            "value": "Downloading shards: 100%"
          }
        },
        "c1d62c2da99d4579b8224616e2eb2d7b": {
          "model_module": "@jupyter-widgets/controls",
          "model_name": "FloatProgressModel",
          "model_module_version": "1.5.0",
          "state": {
            "_dom_classes": [],
            "_model_module": "@jupyter-widgets/controls",
            "_model_module_version": "1.5.0",
            "_model_name": "FloatProgressModel",
            "_view_count": null,
            "_view_module": "@jupyter-widgets/controls",
            "_view_module_version": "1.5.0",
            "_view_name": "ProgressView",
            "bar_style": "success",
            "description": "",
            "description_tooltip": null,
            "layout": "IPY_MODEL_cfdfec22dbe24d7586fccf28d3a01ddd",
            "max": 2,
            "min": 0,
            "orientation": "horizontal",
            "style": "IPY_MODEL_66c4476c6d4749f3bcb0d87d7622c76a",
            "value": 2
          }
        },
        "dad7afcf8d444d45a707f89de766c10d": {
          "model_module": "@jupyter-widgets/controls",
          "model_name": "HTMLModel",
          "model_module_version": "1.5.0",
          "state": {
            "_dom_classes": [],
            "_model_module": "@jupyter-widgets/controls",
            "_model_module_version": "1.5.0",
            "_model_name": "HTMLModel",
            "_view_count": null,
            "_view_module": "@jupyter-widgets/controls",
            "_view_module_version": "1.5.0",
            "_view_name": "HTMLView",
            "description": "",
            "description_tooltip": null,
            "layout": "IPY_MODEL_7e03b89b5c024526b1bc0d90df56f6ee",
            "placeholder": "​",
            "style": "IPY_MODEL_8e045ef9c2f54e029cd6d5cd4fc5fe96",
            "value": " 2/2 [00:44&lt;00:00, 20.62s/it]"
          }
        },
        "4668d2cc337a440687799e93d2f54847": {
          "model_module": "@jupyter-widgets/base",
          "model_name": "LayoutModel",
          "model_module_version": "1.2.0",
          "state": {
            "_model_module": "@jupyter-widgets/base",
            "_model_module_version": "1.2.0",
            "_model_name": "LayoutModel",
            "_view_count": null,
            "_view_module": "@jupyter-widgets/base",
            "_view_module_version": "1.2.0",
            "_view_name": "LayoutView",
            "align_content": null,
            "align_items": null,
            "align_self": null,
            "border": null,
            "bottom": null,
            "display": null,
            "flex": null,
            "flex_flow": null,
            "grid_area": null,
            "grid_auto_columns": null,
            "grid_auto_flow": null,
            "grid_auto_rows": null,
            "grid_column": null,
            "grid_gap": null,
            "grid_row": null,
            "grid_template_areas": null,
            "grid_template_columns": null,
            "grid_template_rows": null,
            "height": null,
            "justify_content": null,
            "justify_items": null,
            "left": null,
            "margin": null,
            "max_height": null,
            "max_width": null,
            "min_height": null,
            "min_width": null,
            "object_fit": null,
            "object_position": null,
            "order": null,
            "overflow": null,
            "overflow_x": null,
            "overflow_y": null,
            "padding": null,
            "right": null,
            "top": null,
            "visibility": null,
            "width": null
          }
        },
        "3ce64cce895340c597bbe272f9885894": {
          "model_module": "@jupyter-widgets/base",
          "model_name": "LayoutModel",
          "model_module_version": "1.2.0",
          "state": {
            "_model_module": "@jupyter-widgets/base",
            "_model_module_version": "1.2.0",
            "_model_name": "LayoutModel",
            "_view_count": null,
            "_view_module": "@jupyter-widgets/base",
            "_view_module_version": "1.2.0",
            "_view_name": "LayoutView",
            "align_content": null,
            "align_items": null,
            "align_self": null,
            "border": null,
            "bottom": null,
            "display": null,
            "flex": null,
            "flex_flow": null,
            "grid_area": null,
            "grid_auto_columns": null,
            "grid_auto_flow": null,
            "grid_auto_rows": null,
            "grid_column": null,
            "grid_gap": null,
            "grid_row": null,
            "grid_template_areas": null,
            "grid_template_columns": null,
            "grid_template_rows": null,
            "height": null,
            "justify_content": null,
            "justify_items": null,
            "left": null,
            "margin": null,
            "max_height": null,
            "max_width": null,
            "min_height": null,
            "min_width": null,
            "object_fit": null,
            "object_position": null,
            "order": null,
            "overflow": null,
            "overflow_x": null,
            "overflow_y": null,
            "padding": null,
            "right": null,
            "top": null,
            "visibility": null,
            "width": null
          }
        },
        "7b9ecbcf438d44959edb17a189d935c7": {
          "model_module": "@jupyter-widgets/controls",
          "model_name": "DescriptionStyleModel",
          "model_module_version": "1.5.0",
          "state": {
            "_model_module": "@jupyter-widgets/controls",
            "_model_module_version": "1.5.0",
            "_model_name": "DescriptionStyleModel",
            "_view_count": null,
            "_view_module": "@jupyter-widgets/base",
            "_view_module_version": "1.2.0",
            "_view_name": "StyleView",
            "description_width": ""
          }
        },
        "cfdfec22dbe24d7586fccf28d3a01ddd": {
          "model_module": "@jupyter-widgets/base",
          "model_name": "LayoutModel",
          "model_module_version": "1.2.0",
          "state": {
            "_model_module": "@jupyter-widgets/base",
            "_model_module_version": "1.2.0",
            "_model_name": "LayoutModel",
            "_view_count": null,
            "_view_module": "@jupyter-widgets/base",
            "_view_module_version": "1.2.0",
            "_view_name": "LayoutView",
            "align_content": null,
            "align_items": null,
            "align_self": null,
            "border": null,
            "bottom": null,
            "display": null,
            "flex": null,
            "flex_flow": null,
            "grid_area": null,
            "grid_auto_columns": null,
            "grid_auto_flow": null,
            "grid_auto_rows": null,
            "grid_column": null,
            "grid_gap": null,
            "grid_row": null,
            "grid_template_areas": null,
            "grid_template_columns": null,
            "grid_template_rows": null,
            "height": null,
            "justify_content": null,
            "justify_items": null,
            "left": null,
            "margin": null,
            "max_height": null,
            "max_width": null,
            "min_height": null,
            "min_width": null,
            "object_fit": null,
            "object_position": null,
            "order": null,
            "overflow": null,
            "overflow_x": null,
            "overflow_y": null,
            "padding": null,
            "right": null,
            "top": null,
            "visibility": null,
            "width": null
          }
        },
        "66c4476c6d4749f3bcb0d87d7622c76a": {
          "model_module": "@jupyter-widgets/controls",
          "model_name": "ProgressStyleModel",
          "model_module_version": "1.5.0",
          "state": {
            "_model_module": "@jupyter-widgets/controls",
            "_model_module_version": "1.5.0",
            "_model_name": "ProgressStyleModel",
            "_view_count": null,
            "_view_module": "@jupyter-widgets/base",
            "_view_module_version": "1.2.0",
            "_view_name": "StyleView",
            "bar_color": null,
            "description_width": ""
          }
        },
        "7e03b89b5c024526b1bc0d90df56f6ee": {
          "model_module": "@jupyter-widgets/base",
          "model_name": "LayoutModel",
          "model_module_version": "1.2.0",
          "state": {
            "_model_module": "@jupyter-widgets/base",
            "_model_module_version": "1.2.0",
            "_model_name": "LayoutModel",
            "_view_count": null,
            "_view_module": "@jupyter-widgets/base",
            "_view_module_version": "1.2.0",
            "_view_name": "LayoutView",
            "align_content": null,
            "align_items": null,
            "align_self": null,
            "border": null,
            "bottom": null,
            "display": null,
            "flex": null,
            "flex_flow": null,
            "grid_area": null,
            "grid_auto_columns": null,
            "grid_auto_flow": null,
            "grid_auto_rows": null,
            "grid_column": null,
            "grid_gap": null,
            "grid_row": null,
            "grid_template_areas": null,
            "grid_template_columns": null,
            "grid_template_rows": null,
            "height": null,
            "justify_content": null,
            "justify_items": null,
            "left": null,
            "margin": null,
            "max_height": null,
            "max_width": null,
            "min_height": null,
            "min_width": null,
            "object_fit": null,
            "object_position": null,
            "order": null,
            "overflow": null,
            "overflow_x": null,
            "overflow_y": null,
            "padding": null,
            "right": null,
            "top": null,
            "visibility": null,
            "width": null
          }
        },
        "8e045ef9c2f54e029cd6d5cd4fc5fe96": {
          "model_module": "@jupyter-widgets/controls",
          "model_name": "DescriptionStyleModel",
          "model_module_version": "1.5.0",
          "state": {
            "_model_module": "@jupyter-widgets/controls",
            "_model_module_version": "1.5.0",
            "_model_name": "DescriptionStyleModel",
            "_view_count": null,
            "_view_module": "@jupyter-widgets/base",
            "_view_module_version": "1.2.0",
            "_view_name": "StyleView",
            "description_width": ""
          }
        },
        "188a0a16bbec4f9fb0bd94c050d18e02": {
          "model_module": "@jupyter-widgets/controls",
          "model_name": "HBoxModel",
          "model_module_version": "1.5.0",
          "state": {
            "_dom_classes": [],
            "_model_module": "@jupyter-widgets/controls",
            "_model_module_version": "1.5.0",
            "_model_name": "HBoxModel",
            "_view_count": null,
            "_view_module": "@jupyter-widgets/controls",
            "_view_module_version": "1.5.0",
            "_view_name": "HBoxView",
            "box_style": "",
            "children": [
              "IPY_MODEL_09352d62cebf456ea3aa0cffdd264144",
              "IPY_MODEL_33ecaeb55ab74e1e996a290b3923f2f4",
              "IPY_MODEL_3c1533e4110548b288d893a2d3ea8b2a"
            ],
            "layout": "IPY_MODEL_76111cd68edf410092ec542f32f07ae6"
          }
        },
        "09352d62cebf456ea3aa0cffdd264144": {
          "model_module": "@jupyter-widgets/controls",
          "model_name": "HTMLModel",
          "model_module_version": "1.5.0",
          "state": {
            "_dom_classes": [],
            "_model_module": "@jupyter-widgets/controls",
            "_model_module_version": "1.5.0",
            "_model_name": "HTMLModel",
            "_view_count": null,
            "_view_module": "@jupyter-widgets/controls",
            "_view_module_version": "1.5.0",
            "_view_name": "HTMLView",
            "description": "",
            "description_tooltip": null,
            "layout": "IPY_MODEL_1867e534a8ce4ce8bed52dcffcf8d61f",
            "placeholder": "​",
            "style": "IPY_MODEL_0720b4ba72964b8b8949675d0e85b97a",
            "value": "model-00001-of-00002.safetensors: 100%"
          }
        },
        "33ecaeb55ab74e1e996a290b3923f2f4": {
          "model_module": "@jupyter-widgets/controls",
          "model_name": "FloatProgressModel",
          "model_module_version": "1.5.0",
          "state": {
            "_dom_classes": [],
            "_model_module": "@jupyter-widgets/controls",
            "_model_module_version": "1.5.0",
            "_model_name": "FloatProgressModel",
            "_view_count": null,
            "_view_module": "@jupyter-widgets/controls",
            "_view_module_version": "1.5.0",
            "_view_name": "ProgressView",
            "bar_style": "success",
            "description": "",
            "description_tooltip": null,
            "layout": "IPY_MODEL_2fe847ddef6343a48f9c1dc9fc92a1de",
            "max": 9995156544,
            "min": 0,
            "orientation": "horizontal",
            "style": "IPY_MODEL_bef21ce6597a4cc99a5d9032317e34cc",
            "value": 9995156544
          }
        },
        "3c1533e4110548b288d893a2d3ea8b2a": {
          "model_module": "@jupyter-widgets/controls",
          "model_name": "HTMLModel",
          "model_module_version": "1.5.0",
          "state": {
            "_dom_classes": [],
            "_model_module": "@jupyter-widgets/controls",
            "_model_module_version": "1.5.0",
            "_model_name": "HTMLModel",
            "_view_count": null,
            "_view_module": "@jupyter-widgets/controls",
            "_view_module_version": "1.5.0",
            "_view_name": "HTMLView",
            "description": "",
            "description_tooltip": null,
            "layout": "IPY_MODEL_6d807e5948da483e917df2a16e3c48e9",
            "placeholder": "​",
            "style": "IPY_MODEL_b280ef27eaf1471da69a116d903540f4",
            "value": " 10.0G/10.0G [00:30&lt;00:00, 367MB/s]"
          }
        },
        "76111cd68edf410092ec542f32f07ae6": {
          "model_module": "@jupyter-widgets/base",
          "model_name": "LayoutModel",
          "model_module_version": "1.2.0",
          "state": {
            "_model_module": "@jupyter-widgets/base",
            "_model_module_version": "1.2.0",
            "_model_name": "LayoutModel",
            "_view_count": null,
            "_view_module": "@jupyter-widgets/base",
            "_view_module_version": "1.2.0",
            "_view_name": "LayoutView",
            "align_content": null,
            "align_items": null,
            "align_self": null,
            "border": null,
            "bottom": null,
            "display": null,
            "flex": null,
            "flex_flow": null,
            "grid_area": null,
            "grid_auto_columns": null,
            "grid_auto_flow": null,
            "grid_auto_rows": null,
            "grid_column": null,
            "grid_gap": null,
            "grid_row": null,
            "grid_template_areas": null,
            "grid_template_columns": null,
            "grid_template_rows": null,
            "height": null,
            "justify_content": null,
            "justify_items": null,
            "left": null,
            "margin": null,
            "max_height": null,
            "max_width": null,
            "min_height": null,
            "min_width": null,
            "object_fit": null,
            "object_position": null,
            "order": null,
            "overflow": null,
            "overflow_x": null,
            "overflow_y": null,
            "padding": null,
            "right": null,
            "top": null,
            "visibility": null,
            "width": null
          }
        },
        "1867e534a8ce4ce8bed52dcffcf8d61f": {
          "model_module": "@jupyter-widgets/base",
          "model_name": "LayoutModel",
          "model_module_version": "1.2.0",
          "state": {
            "_model_module": "@jupyter-widgets/base",
            "_model_module_version": "1.2.0",
            "_model_name": "LayoutModel",
            "_view_count": null,
            "_view_module": "@jupyter-widgets/base",
            "_view_module_version": "1.2.0",
            "_view_name": "LayoutView",
            "align_content": null,
            "align_items": null,
            "align_self": null,
            "border": null,
            "bottom": null,
            "display": null,
            "flex": null,
            "flex_flow": null,
            "grid_area": null,
            "grid_auto_columns": null,
            "grid_auto_flow": null,
            "grid_auto_rows": null,
            "grid_column": null,
            "grid_gap": null,
            "grid_row": null,
            "grid_template_areas": null,
            "grid_template_columns": null,
            "grid_template_rows": null,
            "height": null,
            "justify_content": null,
            "justify_items": null,
            "left": null,
            "margin": null,
            "max_height": null,
            "max_width": null,
            "min_height": null,
            "min_width": null,
            "object_fit": null,
            "object_position": null,
            "order": null,
            "overflow": null,
            "overflow_x": null,
            "overflow_y": null,
            "padding": null,
            "right": null,
            "top": null,
            "visibility": null,
            "width": null
          }
        },
        "0720b4ba72964b8b8949675d0e85b97a": {
          "model_module": "@jupyter-widgets/controls",
          "model_name": "DescriptionStyleModel",
          "model_module_version": "1.5.0",
          "state": {
            "_model_module": "@jupyter-widgets/controls",
            "_model_module_version": "1.5.0",
            "_model_name": "DescriptionStyleModel",
            "_view_count": null,
            "_view_module": "@jupyter-widgets/base",
            "_view_module_version": "1.2.0",
            "_view_name": "StyleView",
            "description_width": ""
          }
        },
        "2fe847ddef6343a48f9c1dc9fc92a1de": {
          "model_module": "@jupyter-widgets/base",
          "model_name": "LayoutModel",
          "model_module_version": "1.2.0",
          "state": {
            "_model_module": "@jupyter-widgets/base",
            "_model_module_version": "1.2.0",
            "_model_name": "LayoutModel",
            "_view_count": null,
            "_view_module": "@jupyter-widgets/base",
            "_view_module_version": "1.2.0",
            "_view_name": "LayoutView",
            "align_content": null,
            "align_items": null,
            "align_self": null,
            "border": null,
            "bottom": null,
            "display": null,
            "flex": null,
            "flex_flow": null,
            "grid_area": null,
            "grid_auto_columns": null,
            "grid_auto_flow": null,
            "grid_auto_rows": null,
            "grid_column": null,
            "grid_gap": null,
            "grid_row": null,
            "grid_template_areas": null,
            "grid_template_columns": null,
            "grid_template_rows": null,
            "height": null,
            "justify_content": null,
            "justify_items": null,
            "left": null,
            "margin": null,
            "max_height": null,
            "max_width": null,
            "min_height": null,
            "min_width": null,
            "object_fit": null,
            "object_position": null,
            "order": null,
            "overflow": null,
            "overflow_x": null,
            "overflow_y": null,
            "padding": null,
            "right": null,
            "top": null,
            "visibility": null,
            "width": null
          }
        },
        "bef21ce6597a4cc99a5d9032317e34cc": {
          "model_module": "@jupyter-widgets/controls",
          "model_name": "ProgressStyleModel",
          "model_module_version": "1.5.0",
          "state": {
            "_model_module": "@jupyter-widgets/controls",
            "_model_module_version": "1.5.0",
            "_model_name": "ProgressStyleModel",
            "_view_count": null,
            "_view_module": "@jupyter-widgets/base",
            "_view_module_version": "1.2.0",
            "_view_name": "StyleView",
            "bar_color": null,
            "description_width": ""
          }
        },
        "6d807e5948da483e917df2a16e3c48e9": {
          "model_module": "@jupyter-widgets/base",
          "model_name": "LayoutModel",
          "model_module_version": "1.2.0",
          "state": {
            "_model_module": "@jupyter-widgets/base",
            "_model_module_version": "1.2.0",
            "_model_name": "LayoutModel",
            "_view_count": null,
            "_view_module": "@jupyter-widgets/base",
            "_view_module_version": "1.2.0",
            "_view_name": "LayoutView",
            "align_content": null,
            "align_items": null,
            "align_self": null,
            "border": null,
            "bottom": null,
            "display": null,
            "flex": null,
            "flex_flow": null,
            "grid_area": null,
            "grid_auto_columns": null,
            "grid_auto_flow": null,
            "grid_auto_rows": null,
            "grid_column": null,
            "grid_gap": null,
            "grid_row": null,
            "grid_template_areas": null,
            "grid_template_columns": null,
            "grid_template_rows": null,
            "height": null,
            "justify_content": null,
            "justify_items": null,
            "left": null,
            "margin": null,
            "max_height": null,
            "max_width": null,
            "min_height": null,
            "min_width": null,
            "object_fit": null,
            "object_position": null,
            "order": null,
            "overflow": null,
            "overflow_x": null,
            "overflow_y": null,
            "padding": null,
            "right": null,
            "top": null,
            "visibility": null,
            "width": null
          }
        },
        "b280ef27eaf1471da69a116d903540f4": {
          "model_module": "@jupyter-widgets/controls",
          "model_name": "DescriptionStyleModel",
          "model_module_version": "1.5.0",
          "state": {
            "_model_module": "@jupyter-widgets/controls",
            "_model_module_version": "1.5.0",
            "_model_name": "DescriptionStyleModel",
            "_view_count": null,
            "_view_module": "@jupyter-widgets/base",
            "_view_module_version": "1.2.0",
            "_view_name": "StyleView",
            "description_width": ""
          }
        },
        "499b7931e6a44582927461183b0d3c87": {
          "model_module": "@jupyter-widgets/controls",
          "model_name": "HBoxModel",
          "model_module_version": "1.5.0",
          "state": {
            "_dom_classes": [],
            "_model_module": "@jupyter-widgets/controls",
            "_model_module_version": "1.5.0",
            "_model_name": "HBoxModel",
            "_view_count": null,
            "_view_module": "@jupyter-widgets/controls",
            "_view_module_version": "1.5.0",
            "_view_name": "HBoxView",
            "box_style": "",
            "children": [
              "IPY_MODEL_f37a715806bc4ecca401d55cc0eedd55",
              "IPY_MODEL_a1c90e0cf0fd4338b05fdb107d0f2e94",
              "IPY_MODEL_4177ec0c2ad84a119e57addf38dd29c1"
            ],
            "layout": "IPY_MODEL_0d67f35ea2074bfe85c84ff7d5d0e3fe"
          }
        },
        "f37a715806bc4ecca401d55cc0eedd55": {
          "model_module": "@jupyter-widgets/controls",
          "model_name": "HTMLModel",
          "model_module_version": "1.5.0",
          "state": {
            "_dom_classes": [],
            "_model_module": "@jupyter-widgets/controls",
            "_model_module_version": "1.5.0",
            "_model_name": "HTMLModel",
            "_view_count": null,
            "_view_module": "@jupyter-widgets/controls",
            "_view_module_version": "1.5.0",
            "_view_name": "HTMLView",
            "description": "",
            "description_tooltip": null,
            "layout": "IPY_MODEL_422db58b19ab4fd68836cb6b971cec3f",
            "placeholder": "​",
            "style": "IPY_MODEL_5dbf8e5a5fd24ec4a65a006504856b6a",
            "value": "model-00002-of-00002.safetensors: 100%"
          }
        },
        "a1c90e0cf0fd4338b05fdb107d0f2e94": {
          "model_module": "@jupyter-widgets/controls",
          "model_name": "FloatProgressModel",
          "model_module_version": "1.5.0",
          "state": {
            "_dom_classes": [],
            "_model_module": "@jupyter-widgets/controls",
            "_model_module_version": "1.5.0",
            "_model_name": "FloatProgressModel",
            "_view_count": null,
            "_view_module": "@jupyter-widgets/controls",
            "_view_module_version": "1.5.0",
            "_view_name": "ProgressView",
            "bar_style": "success",
            "description": "",
            "description_tooltip": null,
            "layout": "IPY_MODEL_87e57b6f2a934cfbb176cbc73e1b70bd",
            "max": 4592691200,
            "min": 0,
            "orientation": "horizontal",
            "style": "IPY_MODEL_47090094ca3c40af8036a0f564bc1113",
            "value": 4592691200
          }
        },
        "4177ec0c2ad84a119e57addf38dd29c1": {
          "model_module": "@jupyter-widgets/controls",
          "model_name": "HTMLModel",
          "model_module_version": "1.5.0",
          "state": {
            "_dom_classes": [],
            "_model_module": "@jupyter-widgets/controls",
            "_model_module_version": "1.5.0",
            "_model_name": "HTMLModel",
            "_view_count": null,
            "_view_module": "@jupyter-widgets/controls",
            "_view_module_version": "1.5.0",
            "_view_name": "HTMLView",
            "description": "",
            "description_tooltip": null,
            "layout": "IPY_MODEL_0d19d7657430482dbb32898fd762e7b3",
            "placeholder": "​",
            "style": "IPY_MODEL_f31d9fa44e5b419b9b566839ec5f425b",
            "value": " 4.59G/4.59G [00:12&lt;00:00, 330MB/s]"
          }
        },
        "0d67f35ea2074bfe85c84ff7d5d0e3fe": {
          "model_module": "@jupyter-widgets/base",
          "model_name": "LayoutModel",
          "model_module_version": "1.2.0",
          "state": {
            "_model_module": "@jupyter-widgets/base",
            "_model_module_version": "1.2.0",
            "_model_name": "LayoutModel",
            "_view_count": null,
            "_view_module": "@jupyter-widgets/base",
            "_view_module_version": "1.2.0",
            "_view_name": "LayoutView",
            "align_content": null,
            "align_items": null,
            "align_self": null,
            "border": null,
            "bottom": null,
            "display": null,
            "flex": null,
            "flex_flow": null,
            "grid_area": null,
            "grid_auto_columns": null,
            "grid_auto_flow": null,
            "grid_auto_rows": null,
            "grid_column": null,
            "grid_gap": null,
            "grid_row": null,
            "grid_template_areas": null,
            "grid_template_columns": null,
            "grid_template_rows": null,
            "height": null,
            "justify_content": null,
            "justify_items": null,
            "left": null,
            "margin": null,
            "max_height": null,
            "max_width": null,
            "min_height": null,
            "min_width": null,
            "object_fit": null,
            "object_position": null,
            "order": null,
            "overflow": null,
            "overflow_x": null,
            "overflow_y": null,
            "padding": null,
            "right": null,
            "top": null,
            "visibility": null,
            "width": null
          }
        },
        "422db58b19ab4fd68836cb6b971cec3f": {
          "model_module": "@jupyter-widgets/base",
          "model_name": "LayoutModel",
          "model_module_version": "1.2.0",
          "state": {
            "_model_module": "@jupyter-widgets/base",
            "_model_module_version": "1.2.0",
            "_model_name": "LayoutModel",
            "_view_count": null,
            "_view_module": "@jupyter-widgets/base",
            "_view_module_version": "1.2.0",
            "_view_name": "LayoutView",
            "align_content": null,
            "align_items": null,
            "align_self": null,
            "border": null,
            "bottom": null,
            "display": null,
            "flex": null,
            "flex_flow": null,
            "grid_area": null,
            "grid_auto_columns": null,
            "grid_auto_flow": null,
            "grid_auto_rows": null,
            "grid_column": null,
            "grid_gap": null,
            "grid_row": null,
            "grid_template_areas": null,
            "grid_template_columns": null,
            "grid_template_rows": null,
            "height": null,
            "justify_content": null,
            "justify_items": null,
            "left": null,
            "margin": null,
            "max_height": null,
            "max_width": null,
            "min_height": null,
            "min_width": null,
            "object_fit": null,
            "object_position": null,
            "order": null,
            "overflow": null,
            "overflow_x": null,
            "overflow_y": null,
            "padding": null,
            "right": null,
            "top": null,
            "visibility": null,
            "width": null
          }
        },
        "5dbf8e5a5fd24ec4a65a006504856b6a": {
          "model_module": "@jupyter-widgets/controls",
          "model_name": "DescriptionStyleModel",
          "model_module_version": "1.5.0",
          "state": {
            "_model_module": "@jupyter-widgets/controls",
            "_model_module_version": "1.5.0",
            "_model_name": "DescriptionStyleModel",
            "_view_count": null,
            "_view_module": "@jupyter-widgets/base",
            "_view_module_version": "1.2.0",
            "_view_name": "StyleView",
            "description_width": ""
          }
        },
        "87e57b6f2a934cfbb176cbc73e1b70bd": {
          "model_module": "@jupyter-widgets/base",
          "model_name": "LayoutModel",
          "model_module_version": "1.2.0",
          "state": {
            "_model_module": "@jupyter-widgets/base",
            "_model_module_version": "1.2.0",
            "_model_name": "LayoutModel",
            "_view_count": null,
            "_view_module": "@jupyter-widgets/base",
            "_view_module_version": "1.2.0",
            "_view_name": "LayoutView",
            "align_content": null,
            "align_items": null,
            "align_self": null,
            "border": null,
            "bottom": null,
            "display": null,
            "flex": null,
            "flex_flow": null,
            "grid_area": null,
            "grid_auto_columns": null,
            "grid_auto_flow": null,
            "grid_auto_rows": null,
            "grid_column": null,
            "grid_gap": null,
            "grid_row": null,
            "grid_template_areas": null,
            "grid_template_columns": null,
            "grid_template_rows": null,
            "height": null,
            "justify_content": null,
            "justify_items": null,
            "left": null,
            "margin": null,
            "max_height": null,
            "max_width": null,
            "min_height": null,
            "min_width": null,
            "object_fit": null,
            "object_position": null,
            "order": null,
            "overflow": null,
            "overflow_x": null,
            "overflow_y": null,
            "padding": null,
            "right": null,
            "top": null,
            "visibility": null,
            "width": null
          }
        },
        "47090094ca3c40af8036a0f564bc1113": {
          "model_module": "@jupyter-widgets/controls",
          "model_name": "ProgressStyleModel",
          "model_module_version": "1.5.0",
          "state": {
            "_model_module": "@jupyter-widgets/controls",
            "_model_module_version": "1.5.0",
            "_model_name": "ProgressStyleModel",
            "_view_count": null,
            "_view_module": "@jupyter-widgets/base",
            "_view_module_version": "1.2.0",
            "_view_name": "StyleView",
            "bar_color": null,
            "description_width": ""
          }
        },
        "0d19d7657430482dbb32898fd762e7b3": {
          "model_module": "@jupyter-widgets/base",
          "model_name": "LayoutModel",
          "model_module_version": "1.2.0",
          "state": {
            "_model_module": "@jupyter-widgets/base",
            "_model_module_version": "1.2.0",
            "_model_name": "LayoutModel",
            "_view_count": null,
            "_view_module": "@jupyter-widgets/base",
            "_view_module_version": "1.2.0",
            "_view_name": "LayoutView",
            "align_content": null,
            "align_items": null,
            "align_self": null,
            "border": null,
            "bottom": null,
            "display": null,
            "flex": null,
            "flex_flow": null,
            "grid_area": null,
            "grid_auto_columns": null,
            "grid_auto_flow": null,
            "grid_auto_rows": null,
            "grid_column": null,
            "grid_gap": null,
            "grid_row": null,
            "grid_template_areas": null,
            "grid_template_columns": null,
            "grid_template_rows": null,
            "height": null,
            "justify_content": null,
            "justify_items": null,
            "left": null,
            "margin": null,
            "max_height": null,
            "max_width": null,
            "min_height": null,
            "min_width": null,
            "object_fit": null,
            "object_position": null,
            "order": null,
            "overflow": null,
            "overflow_x": null,
            "overflow_y": null,
            "padding": null,
            "right": null,
            "top": null,
            "visibility": null,
            "width": null
          }
        },
        "f31d9fa44e5b419b9b566839ec5f425b": {
          "model_module": "@jupyter-widgets/controls",
          "model_name": "DescriptionStyleModel",
          "model_module_version": "1.5.0",
          "state": {
            "_model_module": "@jupyter-widgets/controls",
            "_model_module_version": "1.5.0",
            "_model_name": "DescriptionStyleModel",
            "_view_count": null,
            "_view_module": "@jupyter-widgets/base",
            "_view_module_version": "1.2.0",
            "_view_name": "StyleView",
            "description_width": ""
          }
        },
        "01d23b3e1b5b4e56a2be9838ced5aa5d": {
          "model_module": "@jupyter-widgets/controls",
          "model_name": "HBoxModel",
          "model_module_version": "1.5.0",
          "state": {
            "_dom_classes": [],
            "_model_module": "@jupyter-widgets/controls",
            "_model_module_version": "1.5.0",
            "_model_name": "HBoxModel",
            "_view_count": null,
            "_view_module": "@jupyter-widgets/controls",
            "_view_module_version": "1.5.0",
            "_view_name": "HBoxView",
            "box_style": "",
            "children": [
              "IPY_MODEL_9ead8d214f2643379c3d48008403ae13",
              "IPY_MODEL_0b11b8f7acaf4986b9ee3bc9d92094b5",
              "IPY_MODEL_c985e796029046b4b2d3af07579eba83"
            ],
            "layout": "IPY_MODEL_61272c80b50c49e0b4d938d4ae065d73"
          }
        },
        "9ead8d214f2643379c3d48008403ae13": {
          "model_module": "@jupyter-widgets/controls",
          "model_name": "HTMLModel",
          "model_module_version": "1.5.0",
          "state": {
            "_dom_classes": [],
            "_model_module": "@jupyter-widgets/controls",
            "_model_module_version": "1.5.0",
            "_model_name": "HTMLModel",
            "_view_count": null,
            "_view_module": "@jupyter-widgets/controls",
            "_view_module_version": "1.5.0",
            "_view_name": "HTMLView",
            "description": "",
            "description_tooltip": null,
            "layout": "IPY_MODEL_45397704d6894f8dbf07f46dc337e9f2",
            "placeholder": "​",
            "style": "IPY_MODEL_c80f26aa9cb743aba4657021e7fa8992",
            "value": "Loading checkpoint shards: 100%"
          }
        },
        "0b11b8f7acaf4986b9ee3bc9d92094b5": {
          "model_module": "@jupyter-widgets/controls",
          "model_name": "FloatProgressModel",
          "model_module_version": "1.5.0",
          "state": {
            "_dom_classes": [],
            "_model_module": "@jupyter-widgets/controls",
            "_model_module_version": "1.5.0",
            "_model_name": "FloatProgressModel",
            "_view_count": null,
            "_view_module": "@jupyter-widgets/controls",
            "_view_module_version": "1.5.0",
            "_view_name": "ProgressView",
            "bar_style": "success",
            "description": "",
            "description_tooltip": null,
            "layout": "IPY_MODEL_677f739c15c540a09e2b788f94879e06",
            "max": 2,
            "min": 0,
            "orientation": "horizontal",
            "style": "IPY_MODEL_53b6e442d8f34b9891da0190a7848d25",
            "value": 2
          }
        },
        "c985e796029046b4b2d3af07579eba83": {
          "model_module": "@jupyter-widgets/controls",
          "model_name": "HTMLModel",
          "model_module_version": "1.5.0",
          "state": {
            "_dom_classes": [],
            "_model_module": "@jupyter-widgets/controls",
            "_model_module_version": "1.5.0",
            "_model_name": "HTMLModel",
            "_view_count": null,
            "_view_module": "@jupyter-widgets/controls",
            "_view_module_version": "1.5.0",
            "_view_name": "HTMLView",
            "description": "",
            "description_tooltip": null,
            "layout": "IPY_MODEL_bf41d1d373664f1a9e1f93d2c3b4b634",
            "placeholder": "​",
            "style": "IPY_MODEL_8bf60fc6c9834543a620fd5135389094",
            "value": " 2/2 [00:04&lt;00:00,  2.19s/it]"
          }
        },
        "61272c80b50c49e0b4d938d4ae065d73": {
          "model_module": "@jupyter-widgets/base",
          "model_name": "LayoutModel",
          "model_module_version": "1.2.0",
          "state": {
            "_model_module": "@jupyter-widgets/base",
            "_model_module_version": "1.2.0",
            "_model_name": "LayoutModel",
            "_view_count": null,
            "_view_module": "@jupyter-widgets/base",
            "_view_module_version": "1.2.0",
            "_view_name": "LayoutView",
            "align_content": null,
            "align_items": null,
            "align_self": null,
            "border": null,
            "bottom": null,
            "display": null,
            "flex": null,
            "flex_flow": null,
            "grid_area": null,
            "grid_auto_columns": null,
            "grid_auto_flow": null,
            "grid_auto_rows": null,
            "grid_column": null,
            "grid_gap": null,
            "grid_row": null,
            "grid_template_areas": null,
            "grid_template_columns": null,
            "grid_template_rows": null,
            "height": null,
            "justify_content": null,
            "justify_items": null,
            "left": null,
            "margin": null,
            "max_height": null,
            "max_width": null,
            "min_height": null,
            "min_width": null,
            "object_fit": null,
            "object_position": null,
            "order": null,
            "overflow": null,
            "overflow_x": null,
            "overflow_y": null,
            "padding": null,
            "right": null,
            "top": null,
            "visibility": null,
            "width": null
          }
        },
        "45397704d6894f8dbf07f46dc337e9f2": {
          "model_module": "@jupyter-widgets/base",
          "model_name": "LayoutModel",
          "model_module_version": "1.2.0",
          "state": {
            "_model_module": "@jupyter-widgets/base",
            "_model_module_version": "1.2.0",
            "_model_name": "LayoutModel",
            "_view_count": null,
            "_view_module": "@jupyter-widgets/base",
            "_view_module_version": "1.2.0",
            "_view_name": "LayoutView",
            "align_content": null,
            "align_items": null,
            "align_self": null,
            "border": null,
            "bottom": null,
            "display": null,
            "flex": null,
            "flex_flow": null,
            "grid_area": null,
            "grid_auto_columns": null,
            "grid_auto_flow": null,
            "grid_auto_rows": null,
            "grid_column": null,
            "grid_gap": null,
            "grid_row": null,
            "grid_template_areas": null,
            "grid_template_columns": null,
            "grid_template_rows": null,
            "height": null,
            "justify_content": null,
            "justify_items": null,
            "left": null,
            "margin": null,
            "max_height": null,
            "max_width": null,
            "min_height": null,
            "min_width": null,
            "object_fit": null,
            "object_position": null,
            "order": null,
            "overflow": null,
            "overflow_x": null,
            "overflow_y": null,
            "padding": null,
            "right": null,
            "top": null,
            "visibility": null,
            "width": null
          }
        },
        "c80f26aa9cb743aba4657021e7fa8992": {
          "model_module": "@jupyter-widgets/controls",
          "model_name": "DescriptionStyleModel",
          "model_module_version": "1.5.0",
          "state": {
            "_model_module": "@jupyter-widgets/controls",
            "_model_module_version": "1.5.0",
            "_model_name": "DescriptionStyleModel",
            "_view_count": null,
            "_view_module": "@jupyter-widgets/base",
            "_view_module_version": "1.2.0",
            "_view_name": "StyleView",
            "description_width": ""
          }
        },
        "677f739c15c540a09e2b788f94879e06": {
          "model_module": "@jupyter-widgets/base",
          "model_name": "LayoutModel",
          "model_module_version": "1.2.0",
          "state": {
            "_model_module": "@jupyter-widgets/base",
            "_model_module_version": "1.2.0",
            "_model_name": "LayoutModel",
            "_view_count": null,
            "_view_module": "@jupyter-widgets/base",
            "_view_module_version": "1.2.0",
            "_view_name": "LayoutView",
            "align_content": null,
            "align_items": null,
            "align_self": null,
            "border": null,
            "bottom": null,
            "display": null,
            "flex": null,
            "flex_flow": null,
            "grid_area": null,
            "grid_auto_columns": null,
            "grid_auto_flow": null,
            "grid_auto_rows": null,
            "grid_column": null,
            "grid_gap": null,
            "grid_row": null,
            "grid_template_areas": null,
            "grid_template_columns": null,
            "grid_template_rows": null,
            "height": null,
            "justify_content": null,
            "justify_items": null,
            "left": null,
            "margin": null,
            "max_height": null,
            "max_width": null,
            "min_height": null,
            "min_width": null,
            "object_fit": null,
            "object_position": null,
            "order": null,
            "overflow": null,
            "overflow_x": null,
            "overflow_y": null,
            "padding": null,
            "right": null,
            "top": null,
            "visibility": null,
            "width": null
          }
        },
        "53b6e442d8f34b9891da0190a7848d25": {
          "model_module": "@jupyter-widgets/controls",
          "model_name": "ProgressStyleModel",
          "model_module_version": "1.5.0",
          "state": {
            "_model_module": "@jupyter-widgets/controls",
            "_model_module_version": "1.5.0",
            "_model_name": "ProgressStyleModel",
            "_view_count": null,
            "_view_module": "@jupyter-widgets/base",
            "_view_module_version": "1.2.0",
            "_view_name": "StyleView",
            "bar_color": null,
            "description_width": ""
          }
        },
        "bf41d1d373664f1a9e1f93d2c3b4b634": {
          "model_module": "@jupyter-widgets/base",
          "model_name": "LayoutModel",
          "model_module_version": "1.2.0",
          "state": {
            "_model_module": "@jupyter-widgets/base",
            "_model_module_version": "1.2.0",
            "_model_name": "LayoutModel",
            "_view_count": null,
            "_view_module": "@jupyter-widgets/base",
            "_view_module_version": "1.2.0",
            "_view_name": "LayoutView",
            "align_content": null,
            "align_items": null,
            "align_self": null,
            "border": null,
            "bottom": null,
            "display": null,
            "flex": null,
            "flex_flow": null,
            "grid_area": null,
            "grid_auto_columns": null,
            "grid_auto_flow": null,
            "grid_auto_rows": null,
            "grid_column": null,
            "grid_gap": null,
            "grid_row": null,
            "grid_template_areas": null,
            "grid_template_columns": null,
            "grid_template_rows": null,
            "height": null,
            "justify_content": null,
            "justify_items": null,
            "left": null,
            "margin": null,
            "max_height": null,
            "max_width": null,
            "min_height": null,
            "min_width": null,
            "object_fit": null,
            "object_position": null,
            "order": null,
            "overflow": null,
            "overflow_x": null,
            "overflow_y": null,
            "padding": null,
            "right": null,
            "top": null,
            "visibility": null,
            "width": null
          }
        },
        "8bf60fc6c9834543a620fd5135389094": {
          "model_module": "@jupyter-widgets/controls",
          "model_name": "DescriptionStyleModel",
          "model_module_version": "1.5.0",
          "state": {
            "_model_module": "@jupyter-widgets/controls",
            "_model_module_version": "1.5.0",
            "_model_name": "DescriptionStyleModel",
            "_view_count": null,
            "_view_module": "@jupyter-widgets/base",
            "_view_module_version": "1.2.0",
            "_view_name": "StyleView",
            "description_width": ""
          }
        },
        "cda960e095f7445980f0c33c2e42c2d8": {
          "model_module": "@jupyter-widgets/controls",
          "model_name": "HBoxModel",
          "model_module_version": "1.5.0",
          "state": {
            "_dom_classes": [],
            "_model_module": "@jupyter-widgets/controls",
            "_model_module_version": "1.5.0",
            "_model_name": "HBoxModel",
            "_view_count": null,
            "_view_module": "@jupyter-widgets/controls",
            "_view_module_version": "1.5.0",
            "_view_name": "HBoxView",
            "box_style": "",
            "children": [
              "IPY_MODEL_5faaa415b32a4b3383a5b5aeae77356d",
              "IPY_MODEL_01d2d7cc2b414026bb1ff57f709ec369",
              "IPY_MODEL_2a0511b923dd45cb9b52c0beed1a3c54"
            ],
            "layout": "IPY_MODEL_ae25687bfd0c4a47a75cf03e97cdff87"
          }
        },
        "5faaa415b32a4b3383a5b5aeae77356d": {
          "model_module": "@jupyter-widgets/controls",
          "model_name": "HTMLModel",
          "model_module_version": "1.5.0",
          "state": {
            "_dom_classes": [],
            "_model_module": "@jupyter-widgets/controls",
            "_model_module_version": "1.5.0",
            "_model_name": "HTMLModel",
            "_view_count": null,
            "_view_module": "@jupyter-widgets/controls",
            "_view_module_version": "1.5.0",
            "_view_name": "HTMLView",
            "description": "",
            "description_tooltip": null,
            "layout": "IPY_MODEL_b2279c954b0d4f20a0681cae033c0fda",
            "placeholder": "​",
            "style": "IPY_MODEL_5e98c7b6737445ba9d71593cb95335bf",
            "value": "generation_config.json: 100%"
          }
        },
        "01d2d7cc2b414026bb1ff57f709ec369": {
          "model_module": "@jupyter-widgets/controls",
          "model_name": "FloatProgressModel",
          "model_module_version": "1.5.0",
          "state": {
            "_dom_classes": [],
            "_model_module": "@jupyter-widgets/controls",
            "_model_module_version": "1.5.0",
            "_model_name": "FloatProgressModel",
            "_view_count": null,
            "_view_module": "@jupyter-widgets/controls",
            "_view_module_version": "1.5.0",
            "_view_name": "ProgressView",
            "bar_style": "success",
            "description": "",
            "description_tooltip": null,
            "layout": "IPY_MODEL_f77a358091874e97b40579708f3935ce",
            "max": 133,
            "min": 0,
            "orientation": "horizontal",
            "style": "IPY_MODEL_38bd3e9dedea4dbd9f4434dc6889acbb",
            "value": 133
          }
        },
        "2a0511b923dd45cb9b52c0beed1a3c54": {
          "model_module": "@jupyter-widgets/controls",
          "model_name": "HTMLModel",
          "model_module_version": "1.5.0",
          "state": {
            "_dom_classes": [],
            "_model_module": "@jupyter-widgets/controls",
            "_model_module_version": "1.5.0",
            "_model_name": "HTMLModel",
            "_view_count": null,
            "_view_module": "@jupyter-widgets/controls",
            "_view_module_version": "1.5.0",
            "_view_name": "HTMLView",
            "description": "",
            "description_tooltip": null,
            "layout": "IPY_MODEL_076d4939a47e4cf48a3a793823162e73",
            "placeholder": "​",
            "style": "IPY_MODEL_e0ed007af76d4774821deeef3df03f75",
            "value": " 133/133 [00:00&lt;00:00, 12.1kB/s]"
          }
        },
        "ae25687bfd0c4a47a75cf03e97cdff87": {
          "model_module": "@jupyter-widgets/base",
          "model_name": "LayoutModel",
          "model_module_version": "1.2.0",
          "state": {
            "_model_module": "@jupyter-widgets/base",
            "_model_module_version": "1.2.0",
            "_model_name": "LayoutModel",
            "_view_count": null,
            "_view_module": "@jupyter-widgets/base",
            "_view_module_version": "1.2.0",
            "_view_name": "LayoutView",
            "align_content": null,
            "align_items": null,
            "align_self": null,
            "border": null,
            "bottom": null,
            "display": null,
            "flex": null,
            "flex_flow": null,
            "grid_area": null,
            "grid_auto_columns": null,
            "grid_auto_flow": null,
            "grid_auto_rows": null,
            "grid_column": null,
            "grid_gap": null,
            "grid_row": null,
            "grid_template_areas": null,
            "grid_template_columns": null,
            "grid_template_rows": null,
            "height": null,
            "justify_content": null,
            "justify_items": null,
            "left": null,
            "margin": null,
            "max_height": null,
            "max_width": null,
            "min_height": null,
            "min_width": null,
            "object_fit": null,
            "object_position": null,
            "order": null,
            "overflow": null,
            "overflow_x": null,
            "overflow_y": null,
            "padding": null,
            "right": null,
            "top": null,
            "visibility": null,
            "width": null
          }
        },
        "b2279c954b0d4f20a0681cae033c0fda": {
          "model_module": "@jupyter-widgets/base",
          "model_name": "LayoutModel",
          "model_module_version": "1.2.0",
          "state": {
            "_model_module": "@jupyter-widgets/base",
            "_model_module_version": "1.2.0",
            "_model_name": "LayoutModel",
            "_view_count": null,
            "_view_module": "@jupyter-widgets/base",
            "_view_module_version": "1.2.0",
            "_view_name": "LayoutView",
            "align_content": null,
            "align_items": null,
            "align_self": null,
            "border": null,
            "bottom": null,
            "display": null,
            "flex": null,
            "flex_flow": null,
            "grid_area": null,
            "grid_auto_columns": null,
            "grid_auto_flow": null,
            "grid_auto_rows": null,
            "grid_column": null,
            "grid_gap": null,
            "grid_row": null,
            "grid_template_areas": null,
            "grid_template_columns": null,
            "grid_template_rows": null,
            "height": null,
            "justify_content": null,
            "justify_items": null,
            "left": null,
            "margin": null,
            "max_height": null,
            "max_width": null,
            "min_height": null,
            "min_width": null,
            "object_fit": null,
            "object_position": null,
            "order": null,
            "overflow": null,
            "overflow_x": null,
            "overflow_y": null,
            "padding": null,
            "right": null,
            "top": null,
            "visibility": null,
            "width": null
          }
        },
        "5e98c7b6737445ba9d71593cb95335bf": {
          "model_module": "@jupyter-widgets/controls",
          "model_name": "DescriptionStyleModel",
          "model_module_version": "1.5.0",
          "state": {
            "_model_module": "@jupyter-widgets/controls",
            "_model_module_version": "1.5.0",
            "_model_name": "DescriptionStyleModel",
            "_view_count": null,
            "_view_module": "@jupyter-widgets/base",
            "_view_module_version": "1.2.0",
            "_view_name": "StyleView",
            "description_width": ""
          }
        },
        "f77a358091874e97b40579708f3935ce": {
          "model_module": "@jupyter-widgets/base",
          "model_name": "LayoutModel",
          "model_module_version": "1.2.0",
          "state": {
            "_model_module": "@jupyter-widgets/base",
            "_model_module_version": "1.2.0",
            "_model_name": "LayoutModel",
            "_view_count": null,
            "_view_module": "@jupyter-widgets/base",
            "_view_module_version": "1.2.0",
            "_view_name": "LayoutView",
            "align_content": null,
            "align_items": null,
            "align_self": null,
            "border": null,
            "bottom": null,
            "display": null,
            "flex": null,
            "flex_flow": null,
            "grid_area": null,
            "grid_auto_columns": null,
            "grid_auto_flow": null,
            "grid_auto_rows": null,
            "grid_column": null,
            "grid_gap": null,
            "grid_row": null,
            "grid_template_areas": null,
            "grid_template_columns": null,
            "grid_template_rows": null,
            "height": null,
            "justify_content": null,
            "justify_items": null,
            "left": null,
            "margin": null,
            "max_height": null,
            "max_width": null,
            "min_height": null,
            "min_width": null,
            "object_fit": null,
            "object_position": null,
            "order": null,
            "overflow": null,
            "overflow_x": null,
            "overflow_y": null,
            "padding": null,
            "right": null,
            "top": null,
            "visibility": null,
            "width": null
          }
        },
        "38bd3e9dedea4dbd9f4434dc6889acbb": {
          "model_module": "@jupyter-widgets/controls",
          "model_name": "ProgressStyleModel",
          "model_module_version": "1.5.0",
          "state": {
            "_model_module": "@jupyter-widgets/controls",
            "_model_module_version": "1.5.0",
            "_model_name": "ProgressStyleModel",
            "_view_count": null,
            "_view_module": "@jupyter-widgets/base",
            "_view_module_version": "1.2.0",
            "_view_name": "StyleView",
            "bar_color": null,
            "description_width": ""
          }
        },
        "076d4939a47e4cf48a3a793823162e73": {
          "model_module": "@jupyter-widgets/base",
          "model_name": "LayoutModel",
          "model_module_version": "1.2.0",
          "state": {
            "_model_module": "@jupyter-widgets/base",
            "_model_module_version": "1.2.0",
            "_model_name": "LayoutModel",
            "_view_count": null,
            "_view_module": "@jupyter-widgets/base",
            "_view_module_version": "1.2.0",
            "_view_name": "LayoutView",
            "align_content": null,
            "align_items": null,
            "align_self": null,
            "border": null,
            "bottom": null,
            "display": null,
            "flex": null,
            "flex_flow": null,
            "grid_area": null,
            "grid_auto_columns": null,
            "grid_auto_flow": null,
            "grid_auto_rows": null,
            "grid_column": null,
            "grid_gap": null,
            "grid_row": null,
            "grid_template_areas": null,
            "grid_template_columns": null,
            "grid_template_rows": null,
            "height": null,
            "justify_content": null,
            "justify_items": null,
            "left": null,
            "margin": null,
            "max_height": null,
            "max_width": null,
            "min_height": null,
            "min_width": null,
            "object_fit": null,
            "object_position": null,
            "order": null,
            "overflow": null,
            "overflow_x": null,
            "overflow_y": null,
            "padding": null,
            "right": null,
            "top": null,
            "visibility": null,
            "width": null
          }
        },
        "e0ed007af76d4774821deeef3df03f75": {
          "model_module": "@jupyter-widgets/controls",
          "model_name": "DescriptionStyleModel",
          "model_module_version": "1.5.0",
          "state": {
            "_model_module": "@jupyter-widgets/controls",
            "_model_module_version": "1.5.0",
            "_model_name": "DescriptionStyleModel",
            "_view_count": null,
            "_view_module": "@jupyter-widgets/base",
            "_view_module_version": "1.2.0",
            "_view_name": "StyleView",
            "description_width": ""
          }
        }
      }
    }
  },
  "nbformat": 4,
  "nbformat_minor": 0
}