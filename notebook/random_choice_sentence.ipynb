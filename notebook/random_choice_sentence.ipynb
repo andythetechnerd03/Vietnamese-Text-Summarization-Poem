{
 "cells": [
  {
   "cell_type": "code",
   "execution_count": 2,
   "metadata": {},
   "outputs": [],
   "source": [
    "import pandas as pd\n",
    "import random"
   ]
  },
  {
   "cell_type": "code",
   "execution_count": 18,
   "metadata": {},
   "outputs": [],
   "source": [
    "data = pd.read_csv(\"/home/pphuc/Coding/Project/Vietnamese-Poem-Summarization/data/raw/5_chu_dataset.csv\")"
   ]
  },
  {
   "cell_type": "code",
   "execution_count": 41,
   "metadata": {},
   "outputs": [
    {
     "data": {
      "text/plain": [
       "0       những con đường tôi đi\\nngày ấy vàng hoa điệp\\...\n",
       "1       tôi đi tìm kiếp sau\\nlại thấy mình kiếp trước\\...\n",
       "2       nếu cuộc đời là hoa\\ntình giống như mật ngọt\\n...\n",
       "3       một tay ôm quá khứ\\nmột tay cầm lon bia\\nnào d...\n",
       "4       bắt được anh du kích\\nthằng tây xồm vểnh râu\\n...\n",
       "                              ...                        \n",
       "6742    em bỏ hồn ta đi\\ngiữ chi điều bất hạnh\\nhạnh p...\n",
       "6743    đôi mắt sau rèm cửa\\nẩn dưới hàng mi cong\\nta ...\n",
       "6744    xem người khao người phất\\nmột chuỗi cười ròn ...\n",
       "6745    người chi đâu thật lạ\\nsao theo hoài người ta\\...\n",
       "6746    cơn gió này kỳ ghê\\ndưng không cứ thì thầm\\nxứ...\n",
       "Name: content, Length: 6745, dtype: object"
      ]
     },
     "execution_count": 41,
     "metadata": {},
     "output_type": "execute_result"
    }
   ],
   "source": [
    "data = data[\"content\"].dropna(how='all')\n",
    "# data[\"content\"]\n",
    "data"
   ]
  },
  {
   "cell_type": "code",
   "execution_count": 20,
   "metadata": {},
   "outputs": [],
   "source": [
    "data = data.drop([\"Unnamed: 0\", \"title\", \"url\", \"id\"], axis=1).reset_index()\n",
    "# data = data.drop([\"Unnamed: 0\", \"title\", \"url\"], axis=1)"
   ]
  },
  {
   "cell_type": "code",
   "execution_count": 26,
   "metadata": {},
   "outputs": [
    {
     "data": {
      "text/html": [
       "<div>\n",
       "<style scoped>\n",
       "    .dataframe tbody tr th:only-of-type {\n",
       "        vertical-align: middle;\n",
       "    }\n",
       "\n",
       "    .dataframe tbody tr th {\n",
       "        vertical-align: top;\n",
       "    }\n",
       "\n",
       "    .dataframe thead th {\n",
       "        text-align: right;\n",
       "    }\n",
       "</style>\n",
       "<table border=\"1\" class=\"dataframe\">\n",
       "  <thead>\n",
       "    <tr style=\"text-align: right;\">\n",
       "      <th></th>\n",
       "      <th>index</th>\n",
       "      <th>content</th>\n",
       "      <th>genre</th>\n",
       "    </tr>\n",
       "  </thead>\n",
       "  <tbody>\n",
       "    <tr>\n",
       "      <th>181</th>\n",
       "      <td>181</td>\n",
       "      <td>NaN</td>\n",
       "      <td>5 chu</td>\n",
       "    </tr>\n",
       "  </tbody>\n",
       "</table>\n",
       "</div>"
      ],
      "text/plain": [
       "     index content  genre\n",
       "181    181     NaN  5 chu"
      ]
     },
     "execution_count": 26,
     "metadata": {},
     "output_type": "execute_result"
    }
   ],
   "source": [
    "data[data[\"index\"]==181]"
   ]
  },
  {
   "cell_type": "code",
   "execution_count": 21,
   "metadata": {},
   "outputs": [],
   "source": [
    "poem = list(data[\"content\"])"
   ]
  },
  {
   "cell_type": "code",
   "execution_count": 24,
   "metadata": {},
   "outputs": [
    {
     "data": {
      "text/plain": [
       "nan"
      ]
     },
     "execution_count": 24,
     "metadata": {},
     "output_type": "execute_result"
    }
   ],
   "source": [
    "poem[181]"
   ]
  },
  {
   "cell_type": "code",
   "execution_count": 43,
   "metadata": {},
   "outputs": [],
   "source": [
    "poem_split = poem.split(\"\\n\\n\")\n",
    "number = 0\n",
    "start, end = 0, len(poem_split)\n",
    "temp_poem = []\n",
    "while start < len(poem_split):\n",
    "    num = random.choice(range(1, 4))\n",
    "    if start + num > end:\n",
    "        temp_num = end\n",
    "    else: temp_num = start + num\n",
    "    temp_poem.append(\"\\n\\n\".join(poem_split[start:temp_num]))\n",
    "    start = temp_num\n",
    "    "
   ]
  },
  {
   "cell_type": "code",
   "execution_count": 44,
   "metadata": {},
   "outputs": [
    {
     "data": {
      "text/plain": [
       "['những con đường tôi đi\\nngày ấy vàng hoa điệp\\nrộn rã và thầm thì\\ntình nhân khoe áo đẹp',\n",
       " 'ngày ấy biển rất xanh\\nlá bàng thì rất đỏ\\ncao to là bóng anh\\nbóng tôi thì bé nhỏ',\n",
       " 'đêm ngã dài trên cát\\nnhững chòm sao rất xa\\nvăng vẳng tiếng ai hát\\ntôi họa theo ngâm nga',\n",
       " 'những con đường tôi đi\\ncó anh nên ngắn lại\\nđông ấm áp lạ kỳ\\nmùa xuân như ở mãi',\n",
       " 'nhưng con đường của tôi\\ncũng đến nơi ngã rẽ\\nanh khuất sau tiếng còi\\ntôi trở về lặng lẽ',\n",
       " 'tôi nhớ anh đã nói\\nly biệt thoáng qua thôi\\nnhư là qua giấc mộng\\nta lại bên nhau rồi',\n",
       " 'nhưng bao mùa đi qua\\nbàng bao lần thay áo\\nnghìn cơn mộng nhạt nhòa\\ntôi ngóng chờ đau đáu',\n",
       " 'những con đường tôi đi\\nđiệp vàng giờ vẫn rộ\\nvẫn rộn rã thầm thì\\ntình nhân mừng tao ngộ']"
      ]
     },
     "execution_count": 44,
     "metadata": {},
     "output_type": "execute_result"
    }
   ],
   "source": [
    "poem_split"
   ]
  },
  {
   "cell_type": "code",
   "execution_count": 53,
   "metadata": {},
   "outputs": [
    {
     "name": "stdout",
     "output_type": "stream",
     "text": [
      "nhưng bao mùa đi qua\n",
      "bàng bao lần thay áo\n",
      "nghìn cơn mộng nhạt nhòa\n",
      "tôi ngóng chờ đau đáu\n",
      "\n",
      "những con đường tôi đi\n",
      "điệp vàng giờ vẫn rộ\n",
      "vẫn rộn rã thầm thì\n",
      "tình nhân mừng tao ngộ\n"
     ]
    }
   ],
   "source": [
    "print(temp_poem[4])"
   ]
  }
 ],
 "metadata": {
  "kernelspec": {
   "display_name": "AI",
   "language": "python",
   "name": "python3"
  },
  "language_info": {
   "codemirror_mode": {
    "name": "ipython",
    "version": 3
   },
   "file_extension": ".py",
   "mimetype": "text/x-python",
   "name": "python",
   "nbconvert_exporter": "python",
   "pygments_lexer": "ipython3",
   "version": "3.9.16"
  }
 },
 "nbformat": 4,
 "nbformat_minor": 2
}
